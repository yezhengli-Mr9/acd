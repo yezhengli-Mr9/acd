{
 "cells": [
  {
   "cell_type": "code",
   "execution_count": 1,
   "metadata": {},
   "outputs": [
    {
     "name": "stdout",
     "output_type": "stream",
     "text": [
      "device cuda\n",
      "imnet_dict dict_keys([32, 34, 20, 9, 10, 36])\n"
     ]
    }
   ],
   "source": [
    "%load_ext autoreload\n",
    "%autoreload 2\n",
    "%matplotlib inline\n",
    "import numpy as np\n",
    "import sys\n",
    "import matplotlib.pyplot as plt\n",
    "import torch\n",
    "import cv2\n",
    "sys.path.append('..')\n",
    "sys.path.append('../visualization')\n",
    "sys.path.append('../acd/util')\n",
    "sys.path.append('../acd/scores')\n",
    "sys.path.append('../acd/agglomeration')\n",
    "\n",
    "import tiling_2d as tiling\n",
    "import agg_2d as agg\n",
    "import cd, glob\n",
    "import viz_2d as viz\n",
    "import score_funcs\n",
    "device = 'cuda' if torch.cuda.is_available() else 'cpu'\n",
    "print(\"device\", device)\n",
    "# get dataset\n",
    "import pickle as pkl\n",
    "from dsets.imagenet import dset\n",
    "imnet_dict = pkl.load(open('../dsets/imagenet/imnet_dict.pkl', 'rb')) # contains 6 images (keys: 9, 10, 34, 20, 36, 32)\n",
    "\n",
    "print(\"imnet_dict\", imnet_dict.keys())\n",
    "#----\n",
    "# for idx, t in enumerate(imnet_dict[9]):\n",
    "#     print(\"idx\", idx, \"imnet_dict[9]\",type(t), t.shape ,t)\n",
    "#----\n",
    "# get model\n",
    "from torchvision import models\n",
    "model = models.vgg16(pretrained=True).to(device).eval()\n",
    "model_type='vgg' # alexnet, vgg"
   ]
  },
  {
   "cell_type": "code",
   "execution_count": null,
   "metadata": {},
   "outputs": [
    {
     "name": "stderr",
     "output_type": "stream",
     "text": [
      "\r",
      "  0%|          | 0/256 [00:00<?, ?it/s]"
     ]
    },
    {
     "name": "stdout",
     "output_type": "stream",
     "text": [
      "L ['/home/yezheng/github/acd/imagenet/tiny-imagenet-200/val/images/val_10.JPEG', '/home/yezheng/github/acd/imagenet/tiny-imagenet-200/val/images/val_11.JPEG', '/home/yezheng/github/acd/imagenet/tiny-imagenet-200/val/images/val_12.JPEG', '/home/yezheng/github/acd/imagenet/tiny-imagenet-200/val/images/val_13.JPEG', '/home/yezheng/github/acd/imagenet/tiny-imagenet-200/val/images/val_14.JPEG', '/home/yezheng/github/acd/imagenet/tiny-imagenet-200/val/images/val_15.JPEG', '/home/yezheng/github/acd/imagenet/tiny-imagenet-200/val/images/val_16.JPEG', '/home/yezheng/github/acd/imagenet/tiny-imagenet-200/val/images/val_17.JPEG', '/home/yezheng/github/acd/imagenet/tiny-imagenet-200/val/images/val_18.JPEG', '/home/yezheng/github/acd/imagenet/tiny-imagenet-200/val/images/val_19.JPEG', '/home/yezheng/github/acd/imagenet/tiny-imagenet-200/val/images/val_20.JPEG', '/home/yezheng/github/acd/imagenet/tiny-imagenet-200/val/images/val_21.JPEG', '/home/yezheng/github/acd/imagenet/tiny-imagenet-200/val/images/val_22.JPEG', '/home/yezheng/github/acd/imagenet/tiny-imagenet-200/val/images/val_23.JPEG', '/home/yezheng/github/acd/imagenet/tiny-imagenet-200/val/images/val_24.JPEG', '/home/yezheng/github/acd/imagenet/tiny-imagenet-200/val/images/val_25.JPEG', '/home/yezheng/github/acd/imagenet/tiny-imagenet-200/val/images/val_26.JPEG', '/home/yezheng/github/acd/imagenet/tiny-imagenet-200/val/images/val_27.JPEG', '/home/yezheng/github/acd/imagenet/tiny-imagenet-200/val/images/val_28.JPEG', '/home/yezheng/github/acd/imagenet/tiny-imagenet-200/val/images/val_29.JPEG', '/home/yezheng/github/acd/imagenet/tiny-imagenet-200/val/images/val_30.JPEG', '/home/yezheng/github/acd/imagenet/tiny-imagenet-200/val/images/val_31.JPEG', '/home/yezheng/github/acd/imagenet/tiny-imagenet-200/val/images/val_32.JPEG', '/home/yezheng/github/acd/imagenet/tiny-imagenet-200/val/images/val_33.JPEG', '/home/yezheng/github/acd/imagenet/tiny-imagenet-200/val/images/val_34.JPEG', '/home/yezheng/github/acd/imagenet/tiny-imagenet-200/val/images/val_35.JPEG', '/home/yezheng/github/acd/imagenet/tiny-imagenet-200/val/images/val_36.JPEG', '/home/yezheng/github/acd/imagenet/tiny-imagenet-200/val/images/val_37.JPEG', '/home/yezheng/github/acd/imagenet/tiny-imagenet-200/val/images/val_38.JPEG', '/home/yezheng/github/acd/imagenet/tiny-imagenet-200/val/images/val_39.JPEG', '/home/yezheng/github/acd/imagenet/tiny-imagenet-200/val/images/val_40.JPEG', '/home/yezheng/github/acd/imagenet/tiny-imagenet-200/val/images/val_41.JPEG', '/home/yezheng/github/acd/imagenet/tiny-imagenet-200/val/images/val_42.JPEG', '/home/yezheng/github/acd/imagenet/tiny-imagenet-200/val/images/val_43.JPEG', '/home/yezheng/github/acd/imagenet/tiny-imagenet-200/val/images/val_44.JPEG', '/home/yezheng/github/acd/imagenet/tiny-imagenet-200/val/images/val_45.JPEG', '/home/yezheng/github/acd/imagenet/tiny-imagenet-200/val/images/val_46.JPEG', '/home/yezheng/github/acd/imagenet/tiny-imagenet-200/val/images/val_47.JPEG', '/home/yezheng/github/acd/imagenet/tiny-imagenet-200/val/images/val_48.JPEG', '/home/yezheng/github/acd/imagenet/tiny-imagenet-200/val/images/val_49.JPEG', '/home/yezheng/github/acd/imagenet/tiny-imagenet-200/val/images/val_50.JPEG', '/home/yezheng/github/acd/imagenet/tiny-imagenet-200/val/images/val_51.JPEG', '/home/yezheng/github/acd/imagenet/tiny-imagenet-200/val/images/val_52.JPEG', '/home/yezheng/github/acd/imagenet/tiny-imagenet-200/val/images/val_53.JPEG', '/home/yezheng/github/acd/imagenet/tiny-imagenet-200/val/images/val_54.JPEG', '/home/yezheng/github/acd/imagenet/tiny-imagenet-200/val/images/val_55.JPEG', '/home/yezheng/github/acd/imagenet/tiny-imagenet-200/val/images/val_56.JPEG', '/home/yezheng/github/acd/imagenet/tiny-imagenet-200/val/images/val_57.JPEG', '/home/yezheng/github/acd/imagenet/tiny-imagenet-200/val/images/val_58.JPEG', '/home/yezheng/github/acd/imagenet/tiny-imagenet-200/val/images/val_59.JPEG', '/home/yezheng/github/acd/imagenet/tiny-imagenet-200/val/images/val_60.JPEG', '/home/yezheng/github/acd/imagenet/tiny-imagenet-200/val/images/val_61.JPEG', '/home/yezheng/github/acd/imagenet/tiny-imagenet-200/val/images/val_62.JPEG', '/home/yezheng/github/acd/imagenet/tiny-imagenet-200/val/images/val_63.JPEG', '/home/yezheng/github/acd/imagenet/tiny-imagenet-200/val/images/val_64.JPEG', '/home/yezheng/github/acd/imagenet/tiny-imagenet-200/val/images/val_65.JPEG', '/home/yezheng/github/acd/imagenet/tiny-imagenet-200/val/images/val_66.JPEG', '/home/yezheng/github/acd/imagenet/tiny-imagenet-200/val/images/val_67.JPEG', '/home/yezheng/github/acd/imagenet/tiny-imagenet-200/val/images/val_68.JPEG', '/home/yezheng/github/acd/imagenet/tiny-imagenet-200/val/images/val_69.JPEG', '/home/yezheng/github/acd/imagenet/tiny-imagenet-200/val/images/val_70.JPEG', '/home/yezheng/github/acd/imagenet/tiny-imagenet-200/val/images/val_71.JPEG', '/home/yezheng/github/acd/imagenet/tiny-imagenet-200/val/images/val_72.JPEG', '/home/yezheng/github/acd/imagenet/tiny-imagenet-200/val/images/val_73.JPEG', '/home/yezheng/github/acd/imagenet/tiny-imagenet-200/val/images/val_74.JPEG', '/home/yezheng/github/acd/imagenet/tiny-imagenet-200/val/images/val_75.JPEG', '/home/yezheng/github/acd/imagenet/tiny-imagenet-200/val/images/val_76.JPEG', '/home/yezheng/github/acd/imagenet/tiny-imagenet-200/val/images/val_77.JPEG', '/home/yezheng/github/acd/imagenet/tiny-imagenet-200/val/images/val_78.JPEG', '/home/yezheng/github/acd/imagenet/tiny-imagenet-200/val/images/val_79.JPEG', '/home/yezheng/github/acd/imagenet/tiny-imagenet-200/val/images/val_80.JPEG', '/home/yezheng/github/acd/imagenet/tiny-imagenet-200/val/images/val_81.JPEG', '/home/yezheng/github/acd/imagenet/tiny-imagenet-200/val/images/val_82.JPEG', '/home/yezheng/github/acd/imagenet/tiny-imagenet-200/val/images/val_83.JPEG', '/home/yezheng/github/acd/imagenet/tiny-imagenet-200/val/images/val_84.JPEG', '/home/yezheng/github/acd/imagenet/tiny-imagenet-200/val/images/val_85.JPEG', '/home/yezheng/github/acd/imagenet/tiny-imagenet-200/val/images/val_86.JPEG', '/home/yezheng/github/acd/imagenet/tiny-imagenet-200/val/images/val_87.JPEG', '/home/yezheng/github/acd/imagenet/tiny-imagenet-200/val/images/val_88.JPEG', '/home/yezheng/github/acd/imagenet/tiny-imagenet-200/val/images/val_89.JPEG', '/home/yezheng/github/acd/imagenet/tiny-imagenet-200/val/images/val_90.JPEG', '/home/yezheng/github/acd/imagenet/tiny-imagenet-200/val/images/val_91.JPEG', '/home/yezheng/github/acd/imagenet/tiny-imagenet-200/val/images/val_92.JPEG', '/home/yezheng/github/acd/imagenet/tiny-imagenet-200/val/images/val_93.JPEG', '/home/yezheng/github/acd/imagenet/tiny-imagenet-200/val/images/val_94.JPEG', '/home/yezheng/github/acd/imagenet/tiny-imagenet-200/val/images/val_95.JPEG', '/home/yezheng/github/acd/imagenet/tiny-imagenet-200/val/images/val_96.JPEG', '/home/yezheng/github/acd/imagenet/tiny-imagenet-200/val/images/val_97.JPEG', '/home/yezheng/github/acd/imagenet/tiny-imagenet-200/val/images/val_98.JPEG', '/home/yezheng/github/acd/imagenet/tiny-imagenet-200/val/images/val_99.JPEG']\n",
      "========================\n",
      "idx_jpg 0 key_num val_10\n",
      "im_orig 0.9983593049646337 0.021908817008878423 (224, 224, 3)\n",
      "im_torch torch.Size([1, 3, 224, 224])\n",
      "key_num val_10 lab_pred\n",
      "[agg_2d.py agglomerate] im_orig (224, 224, 3)\n",
      "[agg_2d.py agglomerate] device cuda tiles 256\n",
      "[score_funcs.py get_scores_2d] device cuda ims (256, 224, 224)\n"
     ]
    },
    {
     "name": "stderr",
     "output_type": "stream",
     "text": [
      "100%|██████████| 256/256 [00:09<00:00, 27.86it/s]\n",
      "/home/yezheng/anaconda3/lib/python3.7/site-packages/numpy/lib/function_base.py:3250: RuntimeWarning: All-NaN slice encountered\n",
      "  r = func(a, **kwargs)\n",
      "../acd/agglomeration/agg_2d.py:28: RuntimeWarning: invalid value encountered in greater_equal\n",
      "  im_thresh = np.logical_and(scores >= thresh, ~np.isnan(scores))\n",
      "../acd/agglomeration/agg_2d.py:36: RuntimeWarning: invalid value encountered in greater_equal\n",
      "  im_thresh = np.logical_and(scores >= thresh, ~np.isnan(scores))\n",
      "  1%|          | 3/256 [00:00<00:08, 28.18it/s]"
     ]
    },
    {
     "name": "stdout",
     "output_type": "stream",
     "text": [
      "[agg_2d.py agglomerate] score_funcs.get_scores_2d\n",
      "[agg_2d.py agglomerate] threshold_scores\n",
      "Percentiles must be in the range [0, 100]\n",
      "========================\n",
      "idx_jpg 1 key_num val_11\n",
      "im_orig 1.0 0.0 (224, 224, 3)\n",
      "im_torch torch.Size([1, 3, 224, 224])\n",
      "key_num val_11 lab_pred\n",
      "[agg_2d.py agglomerate] im_orig (224, 224, 3)\n",
      "[agg_2d.py agglomerate] device cuda tiles 256\n",
      "[score_funcs.py get_scores_2d] device cuda ims (256, 224, 224)\n"
     ]
    },
    {
     "name": "stderr",
     "output_type": "stream",
     "text": [
      "100%|██████████| 256/256 [00:09<00:00, 27.82it/s]\n",
      "  1%|          | 3/256 [00:00<00:09, 27.75it/s]"
     ]
    },
    {
     "name": "stdout",
     "output_type": "stream",
     "text": [
      "[agg_2d.py agglomerate] score_funcs.get_scores_2d\n",
      "[agg_2d.py agglomerate] threshold_scores\n",
      "Percentiles must be in the range [0, 100]\n",
      "========================\n",
      "idx_jpg 2 key_num val_12\n",
      "im_orig 1.0 0.006542655285396477 (224, 224, 3)\n",
      "im_torch torch.Size([1, 3, 224, 224])\n",
      "key_num val_12 lab_pred\n",
      "[agg_2d.py agglomerate] im_orig (224, 224, 3)\n",
      "[agg_2d.py agglomerate] device cuda tiles 256\n",
      "[score_funcs.py get_scores_2d] device cuda ims (256, 224, 224)\n"
     ]
    },
    {
     "name": "stderr",
     "output_type": "stream",
     "text": [
      "100%|██████████| 256/256 [00:09<00:00, 27.33it/s]\n",
      "  1%|          | 3/256 [00:00<00:09, 26.72it/s]"
     ]
    },
    {
     "name": "stdout",
     "output_type": "stream",
     "text": [
      "[agg_2d.py agglomerate] score_funcs.get_scores_2d\n",
      "[agg_2d.py agglomerate] threshold_scores\n",
      "Percentiles must be in the range [0, 100]\n",
      "========================\n",
      "idx_jpg 3 key_num val_13\n",
      "im_orig 0.9920368466295151 0.0 (224, 224, 3)\n",
      "im_torch torch.Size([1, 3, 224, 224])\n",
      "key_num val_13 lab_pred\n",
      "[agg_2d.py agglomerate] im_orig (224, 224, 3)\n",
      "[agg_2d.py agglomerate] device cuda tiles 256\n",
      "[score_funcs.py get_scores_2d] device cuda ims (256, 224, 224)\n"
     ]
    },
    {
     "name": "stderr",
     "output_type": "stream",
     "text": [
      "100%|██████████| 256/256 [00:09<00:00, 27.16it/s]\n",
      "100%|██████████| 1/1 [00:00<00:00, 27.70it/s]\n",
      "100%|██████████| 4/4 [00:00<00:00, 28.11it/s]\n",
      "  0%|          | 0/4 [00:00<?, ?it/s]"
     ]
    },
    {
     "name": "stdout",
     "output_type": "stream",
     "text": [
      "[agg_2d.py agglomerate] score_funcs.get_scores_2d\n",
      "[agg_2d.py agglomerate] threshold_scores\n",
      "[score_funcs.py get_scores_2d] device cuda ims (1, 3, 224, 224)\n",
      "[agg_2d.py agglomerate] comp_scores_raw_list\n",
      "[agg_2d.py agglomerate] step 0 num_iters 5\n",
      "[score_funcs.py get_scores_2d] device cuda ims (4, 224, 224)\n",
      "[score_funcs.py get_scores_2d] device cuda ims (4, 224, 224)\n"
     ]
    },
    {
     "name": "stderr",
     "output_type": "stream",
     "text": [
      "100%|██████████| 4/4 [00:00<00:00, 27.82it/s]\n",
      " 50%|█████     | 3/6 [00:00<00:00, 28.24it/s]"
     ]
    },
    {
     "name": "stdout",
     "output_type": "stream",
     "text": [
      "[score_funcs.py get_scores_2d] device cuda ims (6, 224, 224)\n"
     ]
    },
    {
     "name": "stderr",
     "output_type": "stream",
     "text": [
      "100%|██████████| 6/6 [00:00<00:00, 28.15it/s]\n",
      "100%|██████████| 5/5 [00:00<00:00, 28.01it/s]\n",
      "  0%|          | 0/5 [00:00<?, ?it/s]"
     ]
    },
    {
     "name": "stdout",
     "output_type": "stream",
     "text": [
      "[score_funcs.py get_scores_2d] device cuda ims (5, 224, 224)\n",
      "[score_funcs.py get_scores_2d] device cuda ims (5, 224, 224)\n"
     ]
    },
    {
     "name": "stderr",
     "output_type": "stream",
     "text": [
      "100%|██████████| 5/5 [00:00<00:00, 27.73it/s]\n",
      "100%|██████████| 5/5 [00:00<00:00, 28.02it/s]\n",
      "  0%|          | 0/6 [00:00<?, ?it/s]"
     ]
    },
    {
     "name": "stdout",
     "output_type": "stream",
     "text": [
      "[score_funcs.py get_scores_2d] device cuda ims (5, 224, 224)\n",
      "[score_funcs.py get_scores_2d] device cuda ims (6, 224, 224)\n"
     ]
    },
    {
     "name": "stderr",
     "output_type": "stream",
     "text": [
      "100%|██████████| 6/6 [00:00<00:00, 27.86it/s]\n",
      "100%|██████████| 4/4 [00:00<00:00, 28.03it/s]\n",
      "  0%|          | 0/5 [00:00<?, ?it/s]"
     ]
    },
    {
     "name": "stdout",
     "output_type": "stream",
     "text": [
      "[score_funcs.py get_scores_2d] device cuda ims (4, 224, 224)\n",
      "[score_funcs.py get_scores_2d] device cuda ims (5, 224, 224)\n"
     ]
    },
    {
     "name": "stderr",
     "output_type": "stream",
     "text": [
      "100%|██████████| 5/5 [00:00<00:00, 27.73it/s]\n",
      "100%|██████████| 5/5 [00:00<00:00, 27.94it/s]\n",
      "  0%|          | 0/6 [00:00<?, ?it/s]"
     ]
    },
    {
     "name": "stdout",
     "output_type": "stream",
     "text": [
      "[score_funcs.py get_scores_2d] device cuda ims (5, 224, 224)\n",
      "[agg_2d.py agglomerate] step 1 num_iters 5\n",
      "[score_funcs.py get_scores_2d] device cuda ims (6, 224, 224)\n"
     ]
    },
    {
     "name": "stderr",
     "output_type": "stream",
     "text": [
      "100%|██████████| 6/6 [00:00<00:00, 27.93it/s]\n",
      "100%|██████████| 5/5 [00:00<00:00, 27.99it/s]\n",
      "  0%|          | 0/5 [00:00<?, ?it/s]"
     ]
    },
    {
     "name": "stdout",
     "output_type": "stream",
     "text": [
      "[score_funcs.py get_scores_2d] device cuda ims (5, 224, 224)\n",
      "[score_funcs.py get_scores_2d] device cuda ims (5, 224, 224)\n"
     ]
    },
    {
     "name": "stderr",
     "output_type": "stream",
     "text": [
      "100%|██████████| 5/5 [00:00<00:00, 27.94it/s]\n",
      " 50%|█████     | 3/6 [00:00<00:00, 28.10it/s]"
     ]
    },
    {
     "name": "stdout",
     "output_type": "stream",
     "text": [
      "[score_funcs.py get_scores_2d] device cuda ims (6, 224, 224)\n"
     ]
    },
    {
     "name": "stderr",
     "output_type": "stream",
     "text": [
      "100%|██████████| 6/6 [00:00<00:00, 27.97it/s]\n",
      "100%|██████████| 5/5 [00:00<00:00, 27.91it/s]\n",
      "  0%|          | 0/7 [00:00<?, ?it/s]"
     ]
    },
    {
     "name": "stdout",
     "output_type": "stream",
     "text": [
      "[score_funcs.py get_scores_2d] device cuda ims (5, 224, 224)\n",
      "[score_funcs.py get_scores_2d] device cuda ims (7, 224, 224)\n"
     ]
    },
    {
     "name": "stderr",
     "output_type": "stream",
     "text": [
      "100%|██████████| 7/7 [00:00<00:00, 27.87it/s]\n",
      "100%|██████████| 5/5 [00:00<00:00, 26.74it/s]\n",
      "  0%|          | 0/6 [00:00<?, ?it/s]"
     ]
    },
    {
     "name": "stdout",
     "output_type": "stream",
     "text": [
      "[score_funcs.py get_scores_2d] device cuda ims (5, 224, 224)\n",
      "[score_funcs.py get_scores_2d] device cuda ims (6, 224, 224)\n"
     ]
    },
    {
     "name": "stderr",
     "output_type": "stream",
     "text": [
      "100%|██████████| 6/6 [00:00<00:00, 26.45it/s]\n",
      " 43%|████▎     | 3/7 [00:00<00:00, 27.42it/s]"
     ]
    },
    {
     "name": "stdout",
     "output_type": "stream",
     "text": [
      "[score_funcs.py get_scores_2d] device cuda ims (7, 224, 224)\n"
     ]
    },
    {
     "name": "stderr",
     "output_type": "stream",
     "text": [
      "100%|██████████| 7/7 [00:00<00:00, 27.11it/s]\n",
      "100%|██████████| 4/4 [00:00<00:00, 27.21it/s]\n",
      "  0%|          | 0/5 [00:00<?, ?it/s]"
     ]
    },
    {
     "name": "stdout",
     "output_type": "stream",
     "text": [
      "[score_funcs.py get_scores_2d] device cuda ims (4, 224, 224)\n",
      "[score_funcs.py get_scores_2d] device cuda ims (5, 224, 224)\n"
     ]
    },
    {
     "name": "stderr",
     "output_type": "stream",
     "text": [
      "100%|██████████| 5/5 [00:00<00:00, 26.76it/s]\n",
      "100%|██████████| 5/5 [00:00<00:00, 26.95it/s]\n",
      "  0%|          | 0/6 [00:00<?, ?it/s]"
     ]
    },
    {
     "name": "stdout",
     "output_type": "stream",
     "text": [
      "[score_funcs.py get_scores_2d] device cuda ims (5, 224, 224)\n",
      "[score_funcs.py get_scores_2d] device cuda ims (6, 224, 224)\n"
     ]
    },
    {
     "name": "stderr",
     "output_type": "stream",
     "text": [
      "100%|██████████| 6/6 [00:00<00:00, 27.08it/s]\n",
      " 43%|████▎     | 3/7 [00:00<00:00, 27.05it/s]"
     ]
    },
    {
     "name": "stdout",
     "output_type": "stream",
     "text": [
      "[agg_2d.py agglomerate] step 2 num_iters 5\n",
      "[score_funcs.py get_scores_2d] device cuda ims (7, 224, 224)\n"
     ]
    },
    {
     "name": "stderr",
     "output_type": "stream",
     "text": [
      "100%|██████████| 7/7 [00:00<00:00, 27.03it/s]\n",
      " 43%|████▎     | 3/7 [00:00<00:00, 27.21it/s]"
     ]
    },
    {
     "name": "stdout",
     "output_type": "stream",
     "text": [
      "[score_funcs.py get_scores_2d] device cuda ims (7, 224, 224)\n"
     ]
    },
    {
     "name": "stderr",
     "output_type": "stream",
     "text": [
      "100%|██████████| 7/7 [00:00<00:00, 26.84it/s]\n",
      " 50%|█████     | 3/6 [00:00<00:00, 27.16it/s]"
     ]
    },
    {
     "name": "stdout",
     "output_type": "stream",
     "text": [
      "[score_funcs.py get_scores_2d] device cuda ims (6, 224, 224)\n"
     ]
    },
    {
     "name": "stderr",
     "output_type": "stream",
     "text": [
      "100%|██████████| 6/6 [00:00<00:00, 27.08it/s]\n",
      " 50%|█████     | 3/6 [00:00<00:00, 27.13it/s]"
     ]
    },
    {
     "name": "stdout",
     "output_type": "stream",
     "text": [
      "[score_funcs.py get_scores_2d] device cuda ims (6, 224, 224)\n"
     ]
    },
    {
     "name": "stderr",
     "output_type": "stream",
     "text": [
      "100%|██████████| 6/6 [00:00<00:00, 27.05it/s]\n",
      "100%|██████████| 5/5 [00:00<00:00, 27.31it/s]\n",
      "  0%|          | 0/9 [00:00<?, ?it/s]"
     ]
    },
    {
     "name": "stdout",
     "output_type": "stream",
     "text": [
      "[score_funcs.py get_scores_2d] device cuda ims (5, 224, 224)\n",
      "[score_funcs.py get_scores_2d] device cuda ims (9, 224, 224)\n"
     ]
    },
    {
     "name": "stderr",
     "output_type": "stream",
     "text": [
      "100%|██████████| 9/9 [00:00<00:00, 26.79it/s]\n",
      " 50%|█████     | 3/6 [00:00<00:00, 26.55it/s]"
     ]
    },
    {
     "name": "stdout",
     "output_type": "stream",
     "text": [
      "[score_funcs.py get_scores_2d] device cuda ims (6, 224, 224)\n"
     ]
    },
    {
     "name": "stderr",
     "output_type": "stream",
     "text": [
      "100%|██████████| 6/6 [00:00<00:00, 26.68it/s]\n",
      " 50%|█████     | 3/6 [00:00<00:00, 27.21it/s]"
     ]
    },
    {
     "name": "stdout",
     "output_type": "stream",
     "text": [
      "[score_funcs.py get_scores_2d] device cuda ims (6, 224, 224)\n"
     ]
    },
    {
     "name": "stderr",
     "output_type": "stream",
     "text": [
      "100%|██████████| 6/6 [00:00<00:00, 27.11it/s]\n",
      " 50%|█████     | 3/6 [00:00<00:00, 27.43it/s]"
     ]
    },
    {
     "name": "stdout",
     "output_type": "stream",
     "text": [
      "[score_funcs.py get_scores_2d] device cuda ims (6, 224, 224)\n"
     ]
    },
    {
     "name": "stderr",
     "output_type": "stream",
     "text": [
      "100%|██████████| 6/6 [00:00<00:00, 27.07it/s]\n",
      " 43%|████▎     | 3/7 [00:00<00:00, 25.65it/s]"
     ]
    },
    {
     "name": "stdout",
     "output_type": "stream",
     "text": [
      "[score_funcs.py get_scores_2d] device cuda ims (7, 224, 224)\n"
     ]
    },
    {
     "name": "stderr",
     "output_type": "stream",
     "text": [
      "100%|██████████| 7/7 [00:00<00:00, 24.98it/s]\n",
      " 30%|███       | 3/10 [00:00<00:00, 26.12it/s]"
     ]
    },
    {
     "name": "stdout",
     "output_type": "stream",
     "text": [
      "[score_funcs.py get_scores_2d] device cuda ims (10, 224, 224)\n"
     ]
    },
    {
     "name": "stderr",
     "output_type": "stream",
     "text": [
      "100%|██████████| 10/10 [00:00<00:00, 26.38it/s]\n",
      "100%|██████████| 5/5 [00:00<00:00, 27.06it/s]\n",
      "  0%|          | 0/5 [00:00<?, ?it/s]"
     ]
    },
    {
     "name": "stdout",
     "output_type": "stream",
     "text": [
      "[score_funcs.py get_scores_2d] device cuda ims (5, 224, 224)\n",
      "[score_funcs.py get_scores_2d] device cuda ims (5, 224, 224)\n"
     ]
    },
    {
     "name": "stderr",
     "output_type": "stream",
     "text": [
      "100%|██████████| 5/5 [00:00<00:00, 27.06it/s]\n",
      " 38%|███▊      | 3/8 [00:00<00:00, 26.45it/s]"
     ]
    },
    {
     "name": "stdout",
     "output_type": "stream",
     "text": [
      "[agg_2d.py agglomerate] step 3 num_iters 5\n",
      "[score_funcs.py get_scores_2d] device cuda ims (8, 224, 224)\n"
     ]
    },
    {
     "name": "stderr",
     "output_type": "stream",
     "text": [
      "100%|██████████| 8/8 [00:00<00:00, 26.31it/s]\n",
      " 43%|████▎     | 3/7 [00:00<00:00, 26.44it/s]"
     ]
    },
    {
     "name": "stdout",
     "output_type": "stream",
     "text": [
      "[score_funcs.py get_scores_2d] device cuda ims (7, 224, 224)\n"
     ]
    },
    {
     "name": "stderr",
     "output_type": "stream",
     "text": [
      "100%|██████████| 7/7 [00:00<00:00, 26.22it/s]\n",
      " 23%|██▎       | 3/13 [00:00<00:00, 26.38it/s]"
     ]
    },
    {
     "name": "stdout",
     "output_type": "stream",
     "text": [
      "[score_funcs.py get_scores_2d] device cuda ims (13, 224, 224)\n"
     ]
    },
    {
     "name": "stderr",
     "output_type": "stream",
     "text": [
      "100%|██████████| 13/13 [00:00<00:00, 26.53it/s]\n",
      "100%|██████████| 5/5 [00:00<00:00, 26.69it/s]\n",
      "  0%|          | 0/6 [00:00<?, ?it/s]"
     ]
    },
    {
     "name": "stdout",
     "output_type": "stream",
     "text": [
      "[score_funcs.py get_scores_2d] device cuda ims (5, 224, 224)\n",
      "[score_funcs.py get_scores_2d] device cuda ims (6, 224, 224)\n"
     ]
    },
    {
     "name": "stderr",
     "output_type": "stream",
     "text": [
      "100%|██████████| 6/6 [00:00<00:00, 27.01it/s]\n",
      " 50%|█████     | 3/6 [00:00<00:00, 26.77it/s]"
     ]
    },
    {
     "name": "stdout",
     "output_type": "stream",
     "text": [
      "[score_funcs.py get_scores_2d] device cuda ims (6, 224, 224)\n"
     ]
    },
    {
     "name": "stderr",
     "output_type": "stream",
     "text": [
      "100%|██████████| 6/6 [00:00<00:00, 26.86it/s]\n",
      " 50%|█████     | 3/6 [00:00<00:00, 26.41it/s]"
     ]
    },
    {
     "name": "stdout",
     "output_type": "stream",
     "text": [
      "[score_funcs.py get_scores_2d] device cuda ims (6, 224, 224)\n"
     ]
    },
    {
     "name": "stderr",
     "output_type": "stream",
     "text": [
      "100%|██████████| 6/6 [00:00<00:00, 26.27it/s]\n",
      " 38%|███▊      | 3/8 [00:00<00:00, 26.56it/s]"
     ]
    },
    {
     "name": "stdout",
     "output_type": "stream",
     "text": [
      "[score_funcs.py get_scores_2d] device cuda ims (8, 224, 224)\n"
     ]
    },
    {
     "name": "stderr",
     "output_type": "stream",
     "text": [
      "100%|██████████| 8/8 [00:00<00:00, 26.32it/s]\n",
      " 50%|█████     | 3/6 [00:00<00:00, 26.15it/s]"
     ]
    },
    {
     "name": "stdout",
     "output_type": "stream",
     "text": [
      "[score_funcs.py get_scores_2d] device cuda ims (6, 224, 224)\n"
     ]
    },
    {
     "name": "stderr",
     "output_type": "stream",
     "text": [
      "100%|██████████| 6/6 [00:00<00:00, 26.27it/s]\n",
      " 33%|███▎      | 3/9 [00:00<00:00, 26.39it/s]"
     ]
    },
    {
     "name": "stdout",
     "output_type": "stream",
     "text": [
      "[score_funcs.py get_scores_2d] device cuda ims (9, 224, 224)\n"
     ]
    },
    {
     "name": "stderr",
     "output_type": "stream",
     "text": [
      "100%|██████████| 9/9 [00:00<00:00, 26.45it/s]\n",
      " 27%|██▋       | 3/11 [00:00<00:00, 26.45it/s]"
     ]
    },
    {
     "name": "stdout",
     "output_type": "stream",
     "text": [
      "[score_funcs.py get_scores_2d] device cuda ims (11, 224, 224)\n"
     ]
    },
    {
     "name": "stderr",
     "output_type": "stream",
     "text": [
      "100%|██████████| 11/11 [00:00<00:00, 26.58it/s]\n",
      "100%|██████████| 5/5 [00:00<00:00, 26.89it/s]\n",
      "  0%|          | 0/5 [00:00<?, ?it/s]"
     ]
    },
    {
     "name": "stdout",
     "output_type": "stream",
     "text": [
      "[score_funcs.py get_scores_2d] device cuda ims (5, 224, 224)\n",
      "[score_funcs.py get_scores_2d] device cuda ims (5, 224, 224)\n"
     ]
    },
    {
     "name": "stderr",
     "output_type": "stream",
     "text": [
      "100%|██████████| 5/5 [00:00<00:00, 27.07it/s]\n",
      " 33%|███▎      | 3/9 [00:00<00:00, 26.96it/s]"
     ]
    },
    {
     "name": "stdout",
     "output_type": "stream",
     "text": [
      "[agg_2d.py agglomerate] step 4 num_iters 5\n",
      "[score_funcs.py get_scores_2d] device cuda ims (9, 224, 224)\n"
     ]
    },
    {
     "name": "stderr",
     "output_type": "stream",
     "text": [
      "100%|██████████| 9/9 [00:00<00:00, 26.94it/s]\n",
      " 43%|████▎     | 3/7 [00:00<00:00, 27.36it/s]"
     ]
    },
    {
     "name": "stdout",
     "output_type": "stream",
     "text": [
      "[score_funcs.py get_scores_2d] device cuda ims (7, 224, 224)\n"
     ]
    },
    {
     "name": "stderr",
     "output_type": "stream",
     "text": [
      "100%|██████████| 7/7 [00:00<00:00, 27.11it/s]\n",
      " 23%|██▎       | 3/13 [00:00<00:00, 27.16it/s]"
     ]
    },
    {
     "name": "stdout",
     "output_type": "stream",
     "text": [
      "[score_funcs.py get_scores_2d] device cuda ims (13, 224, 224)\n"
     ]
    },
    {
     "name": "stderr",
     "output_type": "stream",
     "text": [
      "100%|██████████| 13/13 [00:00<00:00, 26.93it/s]\n",
      " 38%|███▊      | 3/8 [00:00<00:00, 27.20it/s]"
     ]
    },
    {
     "name": "stdout",
     "output_type": "stream",
     "text": [
      "[score_funcs.py get_scores_2d] device cuda ims (8, 224, 224)\n"
     ]
    },
    {
     "name": "stderr",
     "output_type": "stream",
     "text": [
      "100%|██████████| 8/8 [00:00<00:00, 27.04it/s]\n",
      "100%|██████████| 5/5 [00:00<00:00, 26.61it/s]\n",
      "  0%|          | 0/6 [00:00<?, ?it/s]"
     ]
    },
    {
     "name": "stdout",
     "output_type": "stream",
     "text": [
      "[score_funcs.py get_scores_2d] device cuda ims (5, 224, 224)\n",
      "[score_funcs.py get_scores_2d] device cuda ims (6, 224, 224)\n"
     ]
    },
    {
     "name": "stderr",
     "output_type": "stream",
     "text": [
      "100%|██████████| 6/6 [00:00<00:00, 26.43it/s]\n",
      " 38%|███▊      | 3/8 [00:00<00:00, 27.09it/s]"
     ]
    },
    {
     "name": "stdout",
     "output_type": "stream",
     "text": [
      "[score_funcs.py get_scores_2d] device cuda ims (8, 224, 224)\n"
     ]
    },
    {
     "name": "stderr",
     "output_type": "stream",
     "text": [
      "100%|██████████| 8/8 [00:00<00:00, 26.97it/s]\n",
      "100%|██████████| 5/5 [00:00<00:00, 26.88it/s]\n",
      "  0%|          | 0/6 [00:00<?, ?it/s]"
     ]
    },
    {
     "name": "stdout",
     "output_type": "stream",
     "text": [
      "[score_funcs.py get_scores_2d] device cuda ims (5, 224, 224)\n",
      "[score_funcs.py get_scores_2d] device cuda ims (6, 224, 224)\n"
     ]
    },
    {
     "name": "stderr",
     "output_type": "stream",
     "text": [
      "100%|██████████| 6/6 [00:00<00:00, 27.05it/s]\n",
      " 25%|██▌       | 3/12 [00:00<00:00, 27.09it/s]"
     ]
    },
    {
     "name": "stdout",
     "output_type": "stream",
     "text": [
      "[score_funcs.py get_scores_2d] device cuda ims (12, 224, 224)\n"
     ]
    },
    {
     "name": "stderr",
     "output_type": "stream",
     "text": [
      "100%|██████████| 12/12 [00:00<00:00, 26.65it/s]\n",
      " 33%|███▎      | 3/9 [00:00<00:00, 26.86it/s]"
     ]
    },
    {
     "name": "stdout",
     "output_type": "stream",
     "text": [
      "[score_funcs.py get_scores_2d] device cuda ims (9, 224, 224)\n"
     ]
    },
    {
     "name": "stderr",
     "output_type": "stream",
     "text": [
      "100%|██████████| 9/9 [00:00<00:00, 26.28it/s]\n",
      "100%|██████████| 5/5 [00:00<00:00, 25.85it/s]\n",
      "  0%|          | 0/5 [00:00<?, ?it/s]"
     ]
    },
    {
     "name": "stdout",
     "output_type": "stream",
     "text": [
      "[score_funcs.py get_scores_2d] device cuda ims (5, 224, 224)\n",
      "[score_funcs.py get_scores_2d] device cuda ims (5, 224, 224)\n"
     ]
    },
    {
     "name": "stderr",
     "output_type": "stream",
     "text": [
      "100%|██████████| 5/5 [00:00<00:00, 26.28it/s]\n",
      "100%|██████████| 1/1 [00:00<00:00, 25.40it/s]\n",
      "100%|██████████| 1/1 [00:00<00:00, 25.79it/s]\n",
      "100%|██████████| 1/1 [00:00<00:00, 26.14it/s]\n",
      "100%|██████████| 1/1 [00:00<00:00, 26.42it/s]\n",
      "100%|██████████| 1/1 [00:00<00:00, 26.65it/s]"
     ]
    },
    {
     "name": "stdout",
     "output_type": "stream",
     "text": [
      "[score_funcs.py get_scores_2d] device cuda ims (1, 224, 224)\n",
      "[score_funcs.py get_scores_2d] device cuda ims (1, 224, 224)\n",
      "[score_funcs.py get_scores_2d] device cuda ims (1, 224, 224)\n",
      "[score_funcs.py get_scores_2d] device cuda ims (1, 224, 224)\n",
      "[score_funcs.py get_scores_2d] device cuda ims (1, 224, 224)\n",
      "[score_funcs.py get_scores_2d] device cuda ims (1, 224, 224)\n"
     ]
    },
    {
     "name": "stderr",
     "output_type": "stream",
     "text": [
      "\n",
      "100%|██████████| 1/1 [00:00<00:00, 25.43it/s]\n",
      "100%|██████████| 1/1 [00:00<00:00, 25.96it/s]\n",
      "100%|██████████| 1/1 [00:00<00:00, 26.80it/s]\n",
      "100%|██████████| 1/1 [00:00<00:00, 26.18it/s]\n",
      "  0%|          | 0/1 [00:00<?, ?it/s]"
     ]
    },
    {
     "name": "stdout",
     "output_type": "stream",
     "text": [
      "[score_funcs.py get_scores_2d] device cuda ims (1, 224, 224)\n",
      "[score_funcs.py get_scores_2d] device cuda ims (1, 224, 224)\n",
      "[score_funcs.py get_scores_2d] device cuda ims (1, 224, 224)\n",
      "[score_funcs.py get_scores_2d] device cuda ims (1, 224, 224)\n"
     ]
    },
    {
     "name": "stderr",
     "output_type": "stream",
     "text": [
      "100%|██████████| 1/1 [00:00<00:00, 26.07it/s]\n",
      "100%|██████████| 1/1 [00:00<00:00, 26.20it/s]\n",
      "100%|██████████| 1/1 [00:00<00:00, 25.86it/s]\n",
      "100%|██████████| 1/1 [00:00<00:00, 26.08it/s]\n",
      "100%|██████████| 1/1 [00:00<00:00, 26.32it/s]\n",
      "100%|██████████| 1/1 [00:00<00:00, 26.11it/s]"
     ]
    },
    {
     "name": "stdout",
     "output_type": "stream",
     "text": [
      "[score_funcs.py get_scores_2d] device cuda ims (1, 224, 224)\n",
      "[score_funcs.py get_scores_2d] device cuda ims (1, 224, 224)\n",
      "[score_funcs.py get_scores_2d] device cuda ims (1, 224, 224)\n",
      "[score_funcs.py get_scores_2d] device cuda ims (1, 224, 224)\n",
      "[score_funcs.py get_scores_2d] device cuda ims (1, 224, 224)\n"
     ]
    },
    {
     "name": "stderr",
     "output_type": "stream",
     "text": [
      "\n",
      "100%|██████████| 1/1 [00:00<00:00, 26.39it/s]\n",
      "100%|██████████| 1/1 [00:00<00:00, 24.52it/s]\n",
      "100%|██████████| 1/1 [00:00<00:00, 26.16it/s]\n",
      "100%|██████████| 1/1 [00:00<00:00, 26.18it/s]\n",
      "  0%|          | 0/1 [00:00<?, ?it/s]"
     ]
    },
    {
     "name": "stdout",
     "output_type": "stream",
     "text": [
      "[score_funcs.py get_scores_2d] device cuda ims (1, 224, 224)\n",
      "[score_funcs.py get_scores_2d] device cuda ims (1, 224, 224)\n",
      "[score_funcs.py get_scores_2d] device cuda ims (1, 224, 224)\n",
      "[score_funcs.py get_scores_2d] device cuda ims (1, 224, 224)\n",
      "[score_funcs.py get_scores_2d] device cuda ims (1, 224, 224)\n"
     ]
    },
    {
     "name": "stderr",
     "output_type": "stream",
     "text": [
      "100%|██████████| 1/1 [00:00<00:00, 24.74it/s]\n",
      "100%|██████████| 1/1 [00:00<00:00, 26.51it/s]\n",
      "100%|██████████| 1/1 [00:00<00:00, 26.16it/s]\n",
      "100%|██████████| 1/1 [00:00<00:00, 26.84it/s]\n",
      "100%|██████████| 1/1 [00:00<00:00, 26.22it/s]\n",
      "100%|██████████| 1/1 [00:00<00:00, 25.98it/s]\n",
      "  0%|          | 0/1 [00:00<?, ?it/s]"
     ]
    },
    {
     "name": "stdout",
     "output_type": "stream",
     "text": [
      "[score_funcs.py get_scores_2d] device cuda ims (1, 224, 224)\n",
      "[score_funcs.py get_scores_2d] device cuda ims (1, 224, 224)\n",
      "[score_funcs.py get_scores_2d] device cuda ims (1, 224, 224)\n",
      "[score_funcs.py get_scores_2d] device cuda ims (1, 224, 224)\n",
      "[score_funcs.py get_scores_2d] device cuda ims (1, 224, 224)\n",
      "[score_funcs.py get_scores_2d] device cuda ims (1, 224, 224)\n"
     ]
    },
    {
     "name": "stderr",
     "output_type": "stream",
     "text": [
      "100%|██████████| 1/1 [00:00<00:00, 26.67it/s]\n",
      "100%|██████████| 1/1 [00:00<00:00, 26.05it/s]\n",
      "100%|██████████| 1/1 [00:00<00:00, 25.72it/s]\n",
      "100%|██████████| 1/1 [00:00<00:00, 25.70it/s]\n",
      "100%|██████████| 1/1 [00:00<00:00, 26.02it/s]\n",
      "  0%|          | 0/1 [00:00<?, ?it/s]"
     ]
    },
    {
     "name": "stdout",
     "output_type": "stream",
     "text": [
      "[score_funcs.py get_scores_2d] device cuda ims (1, 224, 224)\n",
      "[score_funcs.py get_scores_2d] device cuda ims (1, 224, 224)\n",
      "[score_funcs.py get_scores_2d] device cuda ims (1, 224, 224)\n",
      "[score_funcs.py get_scores_2d] device cuda ims (1, 224, 224)\n",
      "[score_funcs.py get_scores_2d] device cuda ims (1, 224, 224)\n"
     ]
    },
    {
     "name": "stderr",
     "output_type": "stream",
     "text": [
      "100%|██████████| 1/1 [00:00<00:00, 25.94it/s]\n",
      "100%|██████████| 1/1 [00:00<00:00, 25.29it/s]\n",
      "100%|██████████| 1/1 [00:00<00:00, 25.01it/s]\n",
      "100%|██████████| 1/1 [00:00<00:00, 26.22it/s]\n",
      "100%|██████████| 1/1 [00:00<00:00, 25.62it/s]\n",
      "  0%|          | 0/1 [00:00<?, ?it/s]"
     ]
    },
    {
     "name": "stdout",
     "output_type": "stream",
     "text": [
      "[score_funcs.py get_scores_2d] device cuda ims (1, 224, 224)\n",
      "[score_funcs.py get_scores_2d] device cuda ims (1, 224, 224)\n",
      "[score_funcs.py get_scores_2d] device cuda ims (1, 224, 224)\n",
      "[score_funcs.py get_scores_2d] device cuda ims (1, 224, 224)\n",
      "[score_funcs.py get_scores_2d] device cuda ims (1, 224, 224)\n"
     ]
    },
    {
     "name": "stderr",
     "output_type": "stream",
     "text": [
      "100%|██████████| 1/1 [00:00<00:00, 25.98it/s]\n",
      "100%|██████████| 1/1 [00:00<00:00, 26.02it/s]\n",
      "100%|██████████| 1/1 [00:00<00:00, 25.92it/s]\n",
      "100%|██████████| 1/1 [00:00<00:00, 27.66it/s]\n",
      "100%|██████████| 1/1 [00:00<00:00, 27.02it/s]\n",
      "100%|██████████| 1/1 [00:00<00:00, 27.45it/s]\n",
      "  0%|          | 0/1 [00:00<?, ?it/s]"
     ]
    },
    {
     "name": "stdout",
     "output_type": "stream",
     "text": [
      "[score_funcs.py get_scores_2d] device cuda ims (1, 224, 224)\n",
      "[score_funcs.py get_scores_2d] device cuda ims (1, 224, 224)\n",
      "[score_funcs.py get_scores_2d] device cuda ims (1, 224, 224)\n",
      "[score_funcs.py get_scores_2d] device cuda ims (1, 224, 224)\n",
      "[score_funcs.py get_scores_2d] device cuda ims (1, 224, 224)\n",
      "[score_funcs.py get_scores_2d] device cuda ims (1, 224, 224)\n"
     ]
    },
    {
     "name": "stderr",
     "output_type": "stream",
     "text": [
      "100%|██████████| 1/1 [00:00<00:00, 27.64it/s]\n",
      "100%|██████████| 1/1 [00:00<00:00, 27.24it/s]\n",
      "100%|██████████| 1/1 [00:00<00:00, 26.94it/s]\n",
      "100%|██████████| 1/1 [00:00<00:00, 27.28it/s]\n",
      "100%|██████████| 1/1 [00:00<00:00, 27.60it/s]\n",
      "100%|██████████| 1/1 [00:00<00:00, 28.00it/s]\n",
      "  0%|          | 0/1 [00:00<?, ?it/s]"
     ]
    },
    {
     "name": "stdout",
     "output_type": "stream",
     "text": [
      "[score_funcs.py get_scores_2d] device cuda ims (1, 224, 224)\n",
      "[score_funcs.py get_scores_2d] device cuda ims (1, 224, 224)\n",
      "[score_funcs.py get_scores_2d] device cuda ims (1, 224, 224)\n",
      "[score_funcs.py get_scores_2d] device cuda ims (1, 224, 224)\n",
      "[score_funcs.py get_scores_2d] device cuda ims (1, 224, 224)\n",
      "[score_funcs.py get_scores_2d] device cuda ims (1, 224, 224)\n"
     ]
    },
    {
     "name": "stderr",
     "output_type": "stream",
     "text": [
      "100%|██████████| 1/1 [00:00<00:00, 27.09it/s]\n",
      "100%|██████████| 1/1 [00:00<00:00, 27.09it/s]\n",
      "100%|██████████| 1/1 [00:00<00:00, 27.01it/s]\n",
      "100%|██████████| 1/1 [00:00<00:00, 26.80it/s]\n",
      "100%|██████████| 1/1 [00:00<00:00, 27.07it/s]\n",
      "100%|██████████| 1/1 [00:00<00:00, 27.61it/s]\n",
      "  0%|          | 0/1 [00:00<?, ?it/s]"
     ]
    },
    {
     "name": "stdout",
     "output_type": "stream",
     "text": [
      "[score_funcs.py get_scores_2d] device cuda ims (1, 224, 224)\n",
      "[score_funcs.py get_scores_2d] device cuda ims (1, 224, 224)\n",
      "[score_funcs.py get_scores_2d] device cuda ims (1, 224, 224)\n",
      "[score_funcs.py get_scores_2d] device cuda ims (1, 224, 224)\n",
      "[score_funcs.py get_scores_2d] device cuda ims (1, 224, 224)\n",
      "[score_funcs.py get_scores_2d] device cuda ims (1, 224, 224)\n"
     ]
    },
    {
     "name": "stderr",
     "output_type": "stream",
     "text": [
      "100%|██████████| 1/1 [00:00<00:00, 27.01it/s]\n",
      "100%|██████████| 1/1 [00:00<00:00, 26.49it/s]\n",
      "100%|██████████| 1/1 [00:00<00:00, 27.12it/s]\n",
      "100%|██████████| 1/1 [00:00<00:00, 27.67it/s]\n",
      "100%|██████████| 1/1 [00:00<00:00, 27.59it/s]\n",
      "100%|██████████| 1/1 [00:00<00:00, 27.53it/s]\n",
      "  0%|          | 0/1 [00:00<?, ?it/s]"
     ]
    },
    {
     "name": "stdout",
     "output_type": "stream",
     "text": [
      "[score_funcs.py get_scores_2d] device cuda ims (1, 224, 224)\n",
      "[score_funcs.py get_scores_2d] device cuda ims (1, 224, 224)\n",
      "[score_funcs.py get_scores_2d] device cuda ims (1, 224, 224)\n",
      "[score_funcs.py get_scores_2d] device cuda ims (1, 224, 224)\n",
      "[score_funcs.py get_scores_2d] device cuda ims (1, 224, 224)\n",
      "[score_funcs.py get_scores_2d] device cuda ims (1, 224, 224)\n"
     ]
    },
    {
     "name": "stderr",
     "output_type": "stream",
     "text": [
      "100%|██████████| 1/1 [00:00<00:00, 27.37it/s]\n",
      "100%|██████████| 1/1 [00:00<00:00, 27.64it/s]\n",
      "100%|██████████| 1/1 [00:00<00:00, 27.33it/s]\n",
      "100%|██████████| 1/1 [00:00<00:00, 27.41it/s]\n",
      "100%|██████████| 1/1 [00:00<00:00, 27.26it/s]\n",
      "100%|██████████| 1/1 [00:00<00:00, 27.42it/s]\n",
      "  0%|          | 0/1 [00:00<?, ?it/s]"
     ]
    },
    {
     "name": "stdout",
     "output_type": "stream",
     "text": [
      "[score_funcs.py get_scores_2d] device cuda ims (1, 224, 224)\n",
      "[score_funcs.py get_scores_2d] device cuda ims (1, 224, 224)\n",
      "[score_funcs.py get_scores_2d] device cuda ims (1, 224, 224)\n",
      "[score_funcs.py get_scores_2d] device cuda ims (1, 224, 224)\n",
      "[score_funcs.py get_scores_2d] device cuda ims (1, 224, 224)\n",
      "[score_funcs.py get_scores_2d] device cuda ims (1, 224, 224)\n"
     ]
    },
    {
     "name": "stderr",
     "output_type": "stream",
     "text": [
      "100%|██████████| 1/1 [00:00<00:00, 27.28it/s]\n",
      "100%|██████████| 1/1 [00:00<00:00, 27.36it/s]\n",
      "100%|██████████| 1/1 [00:00<00:00, 27.09it/s]\n",
      "100%|██████████| 1/1 [00:00<00:00, 27.97it/s]\n",
      "100%|██████████| 1/1 [00:00<00:00, 27.27it/s]\n",
      "100%|██████████| 1/1 [00:00<00:00, 27.26it/s]\n",
      "  0%|          | 0/1 [00:00<?, ?it/s]"
     ]
    },
    {
     "name": "stdout",
     "output_type": "stream",
     "text": [
      "[score_funcs.py get_scores_2d] device cuda ims (1, 224, 224)\n",
      "[score_funcs.py get_scores_2d] device cuda ims (1, 224, 224)\n",
      "[score_funcs.py get_scores_2d] device cuda ims (1, 224, 224)\n",
      "[score_funcs.py get_scores_2d] device cuda ims (1, 224, 224)\n",
      "[score_funcs.py get_scores_2d] device cuda ims (1, 224, 224)\n",
      "[score_funcs.py get_scores_2d] device cuda ims (1, 224, 224)\n"
     ]
    },
    {
     "name": "stderr",
     "output_type": "stream",
     "text": [
      "100%|██████████| 1/1 [00:00<00:00, 27.22it/s]\n",
      "100%|██████████| 1/1 [00:00<00:00, 27.70it/s]\n",
      "100%|██████████| 1/1 [00:00<00:00, 27.12it/s]\n",
      "100%|██████████| 1/1 [00:00<00:00, 27.17it/s]\n",
      "100%|██████████| 1/1 [00:00<00:00, 27.47it/s]\n",
      "100%|██████████| 1/1 [00:00<00:00, 27.68it/s]\n",
      "  0%|          | 0/1 [00:00<?, ?it/s]"
     ]
    },
    {
     "name": "stdout",
     "output_type": "stream",
     "text": [
      "[score_funcs.py get_scores_2d] device cuda ims (1, 224, 224)\n",
      "[score_funcs.py get_scores_2d] device cuda ims (1, 224, 224)\n",
      "[score_funcs.py get_scores_2d] device cuda ims (1, 224, 224)\n",
      "[score_funcs.py get_scores_2d] device cuda ims (1, 224, 224)\n",
      "[score_funcs.py get_scores_2d] device cuda ims (1, 224, 224)\n",
      "[score_funcs.py get_scores_2d] device cuda ims (1, 224, 224)\n"
     ]
    },
    {
     "name": "stderr",
     "output_type": "stream",
     "text": [
      "100%|██████████| 1/1 [00:00<00:00, 27.76it/s]\n",
      "100%|██████████| 1/1 [00:00<00:00, 27.38it/s]\n",
      "100%|██████████| 1/1 [00:00<00:00, 26.86it/s]\n",
      "100%|██████████| 1/1 [00:00<00:00, 26.64it/s]\n",
      "100%|██████████| 1/1 [00:00<00:00, 27.26it/s]\n",
      "100%|██████████| 1/1 [00:00<00:00, 27.43it/s]\n",
      "  0%|          | 0/1 [00:00<?, ?it/s]"
     ]
    },
    {
     "name": "stdout",
     "output_type": "stream",
     "text": [
      "[score_funcs.py get_scores_2d] device cuda ims (1, 224, 224)\n",
      "[score_funcs.py get_scores_2d] device cuda ims (1, 224, 224)\n",
      "[score_funcs.py get_scores_2d] device cuda ims (1, 224, 224)\n",
      "[score_funcs.py get_scores_2d] device cuda ims (1, 224, 224)\n",
      "[score_funcs.py get_scores_2d] device cuda ims (1, 224, 224)\n",
      "[score_funcs.py get_scores_2d] device cuda ims (1, 224, 224)\n"
     ]
    },
    {
     "name": "stderr",
     "output_type": "stream",
     "text": [
      "100%|██████████| 1/1 [00:00<00:00, 27.43it/s]\n",
      "100%|██████████| 1/1 [00:00<00:00, 27.33it/s]\n",
      "100%|██████████| 1/1 [00:00<00:00, 27.70it/s]\n",
      "100%|██████████| 1/1 [00:00<00:00, 27.61it/s]\n",
      "100%|██████████| 1/1 [00:00<00:00, 27.29it/s]\n",
      "100%|██████████| 1/1 [00:00<00:00, 26.20it/s]\n",
      "  0%|          | 0/1 [00:00<?, ?it/s]"
     ]
    },
    {
     "name": "stdout",
     "output_type": "stream",
     "text": [
      "[score_funcs.py get_scores_2d] device cuda ims (1, 224, 224)\n",
      "[score_funcs.py get_scores_2d] device cuda ims (1, 224, 224)\n",
      "[score_funcs.py get_scores_2d] device cuda ims (1, 224, 224)\n",
      "[score_funcs.py get_scores_2d] device cuda ims (1, 224, 224)\n",
      "[score_funcs.py get_scores_2d] device cuda ims (1, 224, 224)\n",
      "[score_funcs.py get_scores_2d] device cuda ims (1, 224, 224)\n"
     ]
    },
    {
     "name": "stderr",
     "output_type": "stream",
     "text": [
      "100%|██████████| 1/1 [00:00<00:00, 26.71it/s]\n",
      "100%|██████████| 1/1 [00:00<00:00, 26.42it/s]\n",
      "100%|██████████| 1/1 [00:00<00:00, 26.56it/s]\n",
      "100%|██████████| 1/1 [00:00<00:00, 27.20it/s]\n",
      "100%|██████████| 1/1 [00:00<00:00, 26.28it/s]\n",
      "100%|██████████| 1/1 [00:00<00:00, 25.86it/s]"
     ]
    },
    {
     "name": "stdout",
     "output_type": "stream",
     "text": [
      "[score_funcs.py get_scores_2d] device cuda ims (1, 224, 224)\n",
      "[score_funcs.py get_scores_2d] device cuda ims (1, 224, 224)\n",
      "[score_funcs.py get_scores_2d] device cuda ims (1, 224, 224)\n",
      "[score_funcs.py get_scores_2d] device cuda ims (1, 224, 224)\n",
      "[score_funcs.py get_scores_2d] device cuda ims (1, 224, 224)\n"
     ]
    },
    {
     "name": "stderr",
     "output_type": "stream",
     "text": [
      "\n",
      "100%|██████████| 1/1 [00:00<00:00, 25.83it/s]\n",
      "100%|██████████| 1/1 [00:00<00:00, 26.10it/s]\n",
      "100%|██████████| 1/1 [00:00<00:00, 26.13it/s]\n",
      "100%|██████████| 1/1 [00:00<00:00, 26.32it/s]\n",
      "100%|██████████| 1/1 [00:00<00:00, 26.39it/s]\n",
      "100%|██████████| 1/1 [00:00<00:00, 25.99it/s]"
     ]
    },
    {
     "name": "stdout",
     "output_type": "stream",
     "text": [
      "[score_funcs.py get_scores_2d] device cuda ims (1, 224, 224)\n",
      "[score_funcs.py get_scores_2d] device cuda ims (1, 224, 224)\n",
      "[score_funcs.py get_scores_2d] device cuda ims (1, 224, 224)\n",
      "[score_funcs.py get_scores_2d] device cuda ims (1, 224, 224)\n",
      "[score_funcs.py get_scores_2d] device cuda ims (1, 224, 224)\n",
      "[score_funcs.py get_scores_2d] device cuda ims (1, 224, 224)\n"
     ]
    },
    {
     "name": "stderr",
     "output_type": "stream",
     "text": [
      "\n",
      "100%|██████████| 1/1 [00:00<00:00, 25.73it/s]\n",
      "100%|██████████| 1/1 [00:00<00:00, 25.84it/s]\n",
      "100%|██████████| 1/1 [00:00<00:00, 26.01it/s]\n",
      "100%|██████████| 1/1 [00:00<00:00, 25.89it/s]\n",
      "100%|██████████| 1/1 [00:00<00:00, 25.82it/s]\n",
      "  0%|          | 0/1 [00:00<?, ?it/s]"
     ]
    },
    {
     "name": "stdout",
     "output_type": "stream",
     "text": [
      "[score_funcs.py get_scores_2d] device cuda ims (1, 224, 224)\n",
      "[score_funcs.py get_scores_2d] device cuda ims (1, 224, 224)\n",
      "[score_funcs.py get_scores_2d] device cuda ims (1, 224, 224)\n",
      "[score_funcs.py get_scores_2d] device cuda ims (1, 224, 224)\n",
      "[score_funcs.py get_scores_2d] device cuda ims (1, 224, 224)\n",
      "[score_funcs.py get_scores_2d] device cuda ims (1, 224, 224)\n"
     ]
    },
    {
     "name": "stderr",
     "output_type": "stream",
     "text": [
      "100%|██████████| 1/1 [00:00<00:00, 25.69it/s]\n",
      "100%|██████████| 1/1 [00:00<00:00, 25.98it/s]\n",
      "100%|██████████| 1/1 [00:00<00:00, 24.90it/s]\n",
      "100%|██████████| 1/1 [00:00<00:00, 25.32it/s]\n",
      "100%|██████████| 1/1 [00:00<00:00, 26.40it/s]\n",
      "  0%|          | 0/1 [00:00<?, ?it/s]"
     ]
    },
    {
     "name": "stdout",
     "output_type": "stream",
     "text": [
      "[score_funcs.py get_scores_2d] device cuda ims (1, 224, 224)\n",
      "[score_funcs.py get_scores_2d] device cuda ims (1, 224, 224)\n",
      "[score_funcs.py get_scores_2d] device cuda ims (1, 224, 224)\n",
      "[score_funcs.py get_scores_2d] device cuda ims (1, 224, 224)\n",
      "[score_funcs.py get_scores_2d] device cuda ims (1, 224, 224)\n"
     ]
    },
    {
     "name": "stderr",
     "output_type": "stream",
     "text": [
      "100%|██████████| 1/1 [00:00<00:00, 24.73it/s]\n",
      "100%|██████████| 1/1 [00:00<00:00, 25.46it/s]\n",
      "100%|██████████| 1/1 [00:00<00:00, 26.26it/s]\n",
      "100%|██████████| 1/1 [00:00<00:00, 24.42it/s]\n",
      "100%|██████████| 1/1 [00:00<00:00, 25.88it/s]\n",
      "  0%|          | 0/1 [00:00<?, ?it/s]"
     ]
    },
    {
     "name": "stdout",
     "output_type": "stream",
     "text": [
      "[score_funcs.py get_scores_2d] device cuda ims (1, 224, 224)\n",
      "[score_funcs.py get_scores_2d] device cuda ims (1, 224, 224)\n",
      "[score_funcs.py get_scores_2d] device cuda ims (1, 224, 224)\n",
      "[score_funcs.py get_scores_2d] device cuda ims (1, 224, 224)\n",
      "[score_funcs.py get_scores_2d] device cuda ims (1, 224, 224)\n"
     ]
    },
    {
     "name": "stderr",
     "output_type": "stream",
     "text": [
      "100%|██████████| 1/1 [00:00<00:00, 25.01it/s]\n",
      "100%|██████████| 1/1 [00:00<00:00, 25.86it/s]\n",
      "100%|██████████| 1/1 [00:00<00:00, 26.13it/s]\n",
      "100%|██████████| 1/1 [00:00<00:00, 25.97it/s]\n",
      "100%|██████████| 1/1 [00:00<00:00, 26.06it/s]\n",
      "  0%|          | 0/1 [00:00<?, ?it/s]"
     ]
    },
    {
     "name": "stdout",
     "output_type": "stream",
     "text": [
      "[score_funcs.py get_scores_2d] device cuda ims (1, 224, 224)\n",
      "[score_funcs.py get_scores_2d] device cuda ims (1, 224, 224)\n",
      "[score_funcs.py get_scores_2d] device cuda ims (1, 224, 224)\n",
      "[score_funcs.py get_scores_2d] device cuda ims (1, 224, 224)\n",
      "[score_funcs.py get_scores_2d] device cuda ims (1, 224, 224)\n"
     ]
    },
    {
     "name": "stderr",
     "output_type": "stream",
     "text": [
      "100%|██████████| 1/1 [00:00<00:00, 25.77it/s]\n",
      "100%|██████████| 1/1 [00:00<00:00, 26.18it/s]\n",
      "100%|██████████| 1/1 [00:00<00:00, 26.27it/s]\n",
      "100%|██████████| 1/1 [00:00<00:00, 26.28it/s]\n",
      "100%|██████████| 1/1 [00:00<00:00, 25.50it/s]\n",
      "  0%|          | 0/1 [00:00<?, ?it/s]"
     ]
    },
    {
     "name": "stdout",
     "output_type": "stream",
     "text": [
      "[score_funcs.py get_scores_2d] device cuda ims (1, 224, 224)\n",
      "[score_funcs.py get_scores_2d] device cuda ims (1, 224, 224)\n",
      "[score_funcs.py get_scores_2d] device cuda ims (1, 224, 224)\n",
      "[score_funcs.py get_scores_2d] device cuda ims (1, 224, 224)\n",
      "[score_funcs.py get_scores_2d] device cuda ims (1, 224, 224)\n"
     ]
    },
    {
     "name": "stderr",
     "output_type": "stream",
     "text": [
      "100%|██████████| 1/1 [00:00<00:00, 24.12it/s]\n",
      "100%|██████████| 1/1 [00:00<00:00, 26.57it/s]\n",
      "100%|██████████| 1/1 [00:00<00:00, 26.21it/s]\n",
      "100%|██████████| 1/1 [00:00<00:00, 25.44it/s]\n",
      "100%|██████████| 1/1 [00:00<00:00, 25.91it/s]\n",
      "  0%|          | 0/1 [00:00<?, ?it/s]"
     ]
    },
    {
     "name": "stdout",
     "output_type": "stream",
     "text": [
      "[score_funcs.py get_scores_2d] device cuda ims (1, 224, 224)\n",
      "[score_funcs.py get_scores_2d] device cuda ims (1, 224, 224)\n",
      "[score_funcs.py get_scores_2d] device cuda ims (1, 224, 224)\n",
      "[score_funcs.py get_scores_2d] device cuda ims (1, 224, 224)\n",
      "[score_funcs.py get_scores_2d] device cuda ims (1, 224, 224)\n"
     ]
    },
    {
     "name": "stderr",
     "output_type": "stream",
     "text": [
      "100%|██████████| 1/1 [00:00<00:00, 25.99it/s]\n",
      "100%|██████████| 1/1 [00:00<00:00, 27.38it/s]\n",
      "100%|██████████| 1/1 [00:00<00:00, 26.87it/s]\n",
      "100%|██████████| 1/1 [00:00<00:00, 26.10it/s]\n",
      "100%|██████████| 1/1 [00:00<00:00, 25.73it/s]\n",
      "100%|██████████| 1/1 [00:00<00:00, 25.64it/s]\n",
      "  0%|          | 0/1 [00:00<?, ?it/s]"
     ]
    },
    {
     "name": "stdout",
     "output_type": "stream",
     "text": [
      "[score_funcs.py get_scores_2d] device cuda ims (1, 224, 224)\n",
      "[score_funcs.py get_scores_2d] device cuda ims (1, 224, 224)\n",
      "[score_funcs.py get_scores_2d] device cuda ims (1, 224, 224)\n",
      "[score_funcs.py get_scores_2d] device cuda ims (1, 224, 224)\n",
      "[score_funcs.py get_scores_2d] device cuda ims (1, 224, 224)\n",
      "[score_funcs.py get_scores_2d] device cuda ims (1, 224, 224)\n"
     ]
    },
    {
     "name": "stderr",
     "output_type": "stream",
     "text": [
      "100%|██████████| 1/1 [00:00<00:00, 26.33it/s]\n",
      "100%|██████████| 1/1 [00:00<00:00, 25.88it/s]\n",
      "100%|██████████| 1/1 [00:00<00:00, 26.28it/s]\n",
      "100%|██████████| 1/1 [00:00<00:00, 26.25it/s]\n",
      "100%|██████████| 1/1 [00:00<00:00, 25.11it/s]\n",
      "100%|██████████| 1/1 [00:00<00:00, 26.39it/s]"
     ]
    },
    {
     "name": "stdout",
     "output_type": "stream",
     "text": [
      "[score_funcs.py get_scores_2d] device cuda ims (1, 224, 224)\n",
      "[score_funcs.py get_scores_2d] device cuda ims (1, 224, 224)\n",
      "[score_funcs.py get_scores_2d] device cuda ims (1, 224, 224)\n",
      "[score_funcs.py get_scores_2d] device cuda ims (1, 224, 224)\n",
      "[score_funcs.py get_scores_2d] device cuda ims (1, 224, 224)\n"
     ]
    },
    {
     "name": "stderr",
     "output_type": "stream",
     "text": [
      "\n",
      "100%|██████████| 1/1 [00:00<00:00, 26.42it/s]\n",
      "100%|██████████| 1/1 [00:00<00:00, 26.35it/s]\n",
      "100%|██████████| 1/1 [00:00<00:00, 26.30it/s]\n",
      "100%|██████████| 1/1 [00:00<00:00, 26.03it/s]\n",
      "  0%|          | 0/1 [00:00<?, ?it/s]"
     ]
    },
    {
     "name": "stdout",
     "output_type": "stream",
     "text": [
      "[score_funcs.py get_scores_2d] device cuda ims (1, 224, 224)\n",
      "[score_funcs.py get_scores_2d] device cuda ims (1, 224, 224)\n",
      "[score_funcs.py get_scores_2d] device cuda ims (1, 224, 224)\n",
      "[score_funcs.py get_scores_2d] device cuda ims (1, 224, 224)\n",
      "[score_funcs.py get_scores_2d] device cuda ims (1, 224, 224)\n"
     ]
    },
    {
     "name": "stderr",
     "output_type": "stream",
     "text": [
      "100%|██████████| 1/1 [00:00<00:00, 25.96it/s]\n",
      "100%|██████████| 1/1 [00:00<00:00, 26.26it/s]\n",
      "100%|██████████| 1/1 [00:00<00:00, 27.25it/s]\n",
      "100%|██████████| 1/1 [00:00<00:00, 25.90it/s]\n",
      "100%|██████████| 1/1 [00:00<00:00, 25.30it/s]\n",
      "  0%|          | 0/1 [00:00<?, ?it/s]"
     ]
    },
    {
     "name": "stdout",
     "output_type": "stream",
     "text": [
      "[score_funcs.py get_scores_2d] device cuda ims (1, 224, 224)\n",
      "[score_funcs.py get_scores_2d] device cuda ims (1, 224, 224)\n",
      "[score_funcs.py get_scores_2d] device cuda ims (1, 224, 224)\n",
      "[score_funcs.py get_scores_2d] device cuda ims (1, 224, 224)\n",
      "[score_funcs.py get_scores_2d] device cuda ims (1, 224, 224)\n"
     ]
    },
    {
     "name": "stderr",
     "output_type": "stream",
     "text": [
      "100%|██████████| 1/1 [00:00<00:00, 26.23it/s]\n",
      "100%|██████████| 1/1 [00:00<00:00, 26.32it/s]\n",
      "100%|██████████| 1/1 [00:00<00:00, 26.11it/s]\n",
      "100%|██████████| 1/1 [00:00<00:00, 26.37it/s]\n",
      "100%|██████████| 1/1 [00:00<00:00, 26.48it/s]\n",
      "100%|██████████| 1/1 [00:00<00:00, 26.43it/s]"
     ]
    },
    {
     "name": "stdout",
     "output_type": "stream",
     "text": [
      "[score_funcs.py get_scores_2d] device cuda ims (1, 224, 224)\n",
      "[score_funcs.py get_scores_2d] device cuda ims (1, 224, 224)\n",
      "[score_funcs.py get_scores_2d] device cuda ims (1, 224, 224)\n",
      "[score_funcs.py get_scores_2d] device cuda ims (1, 224, 224)\n",
      "[score_funcs.py get_scores_2d] device cuda ims (1, 224, 224)\n"
     ]
    },
    {
     "name": "stderr",
     "output_type": "stream",
     "text": [
      "\n",
      "100%|██████████| 1/1 [00:00<00:00, 25.86it/s]\n",
      "100%|██████████| 1/1 [00:00<00:00, 25.76it/s]\n",
      "100%|██████████| 1/1 [00:00<00:00, 25.61it/s]\n",
      "100%|██████████| 1/1 [00:00<00:00, 26.92it/s]\n",
      "100%|██████████| 1/1 [00:00<00:00, 27.11it/s]"
     ]
    },
    {
     "name": "stdout",
     "output_type": "stream",
     "text": [
      "[score_funcs.py get_scores_2d] device cuda ims (1, 224, 224)\n",
      "[score_funcs.py get_scores_2d] device cuda ims (1, 224, 224)\n",
      "[score_funcs.py get_scores_2d] device cuda ims (1, 224, 224)\n",
      "[score_funcs.py get_scores_2d] device cuda ims (1, 224, 224)\n",
      "[score_funcs.py get_scores_2d] device cuda ims (1, 224, 224)\n"
     ]
    },
    {
     "name": "stderr",
     "output_type": "stream",
     "text": [
      "\n",
      "100%|██████████| 1/1 [00:00<00:00, 25.73it/s]\n",
      "100%|██████████| 1/1 [00:00<00:00, 25.15it/s]\n",
      "100%|██████████| 1/1 [00:00<00:00, 25.71it/s]\n",
      "100%|██████████| 1/1 [00:00<00:00, 25.75it/s]\n",
      "  0%|          | 0/1 [00:00<?, ?it/s]"
     ]
    },
    {
     "name": "stdout",
     "output_type": "stream",
     "text": [
      "[score_funcs.py get_scores_2d] device cuda ims (1, 224, 224)\n",
      "[score_funcs.py get_scores_2d] device cuda ims (1, 224, 224)\n",
      "[score_funcs.py get_scores_2d] device cuda ims (1, 224, 224)\n",
      "[score_funcs.py get_scores_2d] device cuda ims (1, 224, 224)\n",
      "[score_funcs.py get_scores_2d] device cuda ims (1, 224, 224)\n"
     ]
    },
    {
     "name": "stderr",
     "output_type": "stream",
     "text": [
      "100%|██████████| 1/1 [00:00<00:00, 26.41it/s]\n",
      "100%|██████████| 1/1 [00:00<00:00, 26.54it/s]\n",
      "100%|██████████| 1/1 [00:00<00:00, 26.98it/s]\n",
      "100%|██████████| 1/1 [00:00<00:00, 26.59it/s]\n",
      "100%|██████████| 1/1 [00:00<00:00, 26.41it/s]\n",
      "100%|██████████| 1/1 [00:00<00:00, 26.15it/s]\n",
      "  0%|          | 0/1 [00:00<?, ?it/s]"
     ]
    },
    {
     "name": "stdout",
     "output_type": "stream",
     "text": [
      "[score_funcs.py get_scores_2d] device cuda ims (1, 224, 224)\n",
      "[score_funcs.py get_scores_2d] device cuda ims (1, 224, 224)\n",
      "[score_funcs.py get_scores_2d] device cuda ims (1, 224, 224)\n",
      "[score_funcs.py get_scores_2d] device cuda ims (1, 224, 224)\n",
      "[score_funcs.py get_scores_2d] device cuda ims (1, 224, 224)\n",
      "[score_funcs.py get_scores_2d] device cuda ims (1, 224, 224)\n"
     ]
    },
    {
     "name": "stderr",
     "output_type": "stream",
     "text": [
      "100%|██████████| 1/1 [00:00<00:00, 25.90it/s]\n",
      "100%|██████████| 1/1 [00:00<00:00, 25.91it/s]\n",
      "100%|██████████| 1/1 [00:00<00:00, 27.07it/s]\n",
      "100%|██████████| 1/1 [00:00<00:00, 24.59it/s]\n",
      "100%|██████████| 1/1 [00:00<00:00, 25.50it/s]\n",
      "  0%|          | 0/1 [00:00<?, ?it/s]"
     ]
    },
    {
     "name": "stdout",
     "output_type": "stream",
     "text": [
      "[score_funcs.py get_scores_2d] device cuda ims (1, 224, 224)\n",
      "[score_funcs.py get_scores_2d] device cuda ims (1, 224, 224)\n",
      "[score_funcs.py get_scores_2d] device cuda ims (1, 224, 224)\n",
      "[score_funcs.py get_scores_2d] device cuda ims (1, 224, 224)\n",
      "[score_funcs.py get_scores_2d] device cuda ims (1, 224, 224)\n"
     ]
    },
    {
     "name": "stderr",
     "output_type": "stream",
     "text": [
      "100%|██████████| 1/1 [00:00<00:00, 25.71it/s]\n",
      "100%|██████████| 1/1 [00:00<00:00, 26.35it/s]\n",
      "100%|██████████| 1/1 [00:00<00:00, 26.34it/s]\n",
      "100%|██████████| 1/1 [00:00<00:00, 26.33it/s]\n",
      "100%|██████████| 1/1 [00:00<00:00, 26.06it/s]\n",
      "100%|██████████| 1/1 [00:00<00:00, 26.13it/s]"
     ]
    },
    {
     "name": "stdout",
     "output_type": "stream",
     "text": [
      "[score_funcs.py get_scores_2d] device cuda ims (1, 224, 224)\n",
      "[score_funcs.py get_scores_2d] device cuda ims (1, 224, 224)\n",
      "[score_funcs.py get_scores_2d] device cuda ims (1, 224, 224)\n",
      "[score_funcs.py get_scores_2d] device cuda ims (1, 224, 224)\n",
      "[score_funcs.py get_scores_2d] device cuda ims (1, 224, 224)\n"
     ]
    },
    {
     "name": "stderr",
     "output_type": "stream",
     "text": [
      "\n",
      "100%|██████████| 1/1 [00:00<00:00, 26.02it/s]\n",
      "100%|██████████| 1/1 [00:00<00:00, 26.37it/s]\n",
      "100%|██████████| 1/1 [00:00<00:00, 26.39it/s]\n",
      "100%|██████████| 1/1 [00:00<00:00, 26.63it/s]\n",
      "100%|██████████| 1/1 [00:00<00:00, 26.90it/s]\n",
      "  0%|          | 0/1 [00:00<?, ?it/s]"
     ]
    },
    {
     "name": "stdout",
     "output_type": "stream",
     "text": [
      "[score_funcs.py get_scores_2d] device cuda ims (1, 224, 224)\n",
      "[score_funcs.py get_scores_2d] device cuda ims (1, 224, 224)\n",
      "[score_funcs.py get_scores_2d] device cuda ims (1, 224, 224)\n",
      "[score_funcs.py get_scores_2d] device cuda ims (1, 224, 224)\n",
      "[score_funcs.py get_scores_2d] device cuda ims (1, 224, 224)\n",
      "[score_funcs.py get_scores_2d] device cuda ims (1, 224, 224)\n"
     ]
    },
    {
     "name": "stderr",
     "output_type": "stream",
     "text": [
      "100%|██████████| 1/1 [00:00<00:00, 25.80it/s]\n",
      "100%|██████████| 1/1 [00:00<00:00, 25.94it/s]\n",
      "100%|██████████| 1/1 [00:00<00:00, 26.01it/s]\n",
      "100%|██████████| 1/1 [00:00<00:00, 26.49it/s]\n",
      "100%|██████████| 1/1 [00:00<00:00, 25.98it/s]\n",
      "100%|██████████| 1/1 [00:00<00:00, 26.25it/s]\n",
      "  0%|          | 0/1 [00:00<?, ?it/s]"
     ]
    },
    {
     "name": "stdout",
     "output_type": "stream",
     "text": [
      "[score_funcs.py get_scores_2d] device cuda ims (1, 224, 224)\n",
      "[score_funcs.py get_scores_2d] device cuda ims (1, 224, 224)\n",
      "[score_funcs.py get_scores_2d] device cuda ims (1, 224, 224)\n",
      "[score_funcs.py get_scores_2d] device cuda ims (1, 224, 224)\n",
      "[score_funcs.py get_scores_2d] device cuda ims (1, 224, 224)\n",
      "[score_funcs.py get_scores_2d] device cuda ims (1, 224, 224)\n"
     ]
    },
    {
     "name": "stderr",
     "output_type": "stream",
     "text": [
      "100%|██████████| 1/1 [00:00<00:00, 24.98it/s]\n",
      "100%|██████████| 1/1 [00:00<00:00, 26.38it/s]\n",
      "100%|██████████| 1/1 [00:00<00:00, 27.54it/s]\n",
      "100%|██████████| 1/1 [00:00<00:00, 27.21it/s]\n",
      "100%|██████████| 1/1 [00:00<00:00, 26.53it/s]\n",
      "100%|██████████| 1/1 [00:00<00:00, 25.62it/s]"
     ]
    },
    {
     "name": "stdout",
     "output_type": "stream",
     "text": [
      "[score_funcs.py get_scores_2d] device cuda ims (1, 224, 224)\n",
      "[score_funcs.py get_scores_2d] device cuda ims (1, 224, 224)\n",
      "[score_funcs.py get_scores_2d] device cuda ims (1, 224, 224)\n",
      "[score_funcs.py get_scores_2d] device cuda ims (1, 224, 224)\n",
      "[score_funcs.py get_scores_2d] device cuda ims (1, 224, 224)\n"
     ]
    },
    {
     "name": "stderr",
     "output_type": "stream",
     "text": [
      "\n",
      "100%|██████████| 1/1 [00:00<00:00, 25.38it/s]\n",
      "100%|██████████| 1/1 [00:00<00:00, 25.84it/s]\n",
      "100%|██████████| 1/1 [00:00<00:00, 26.41it/s]\n",
      "100%|██████████| 1/1 [00:00<00:00, 26.33it/s]\n",
      "100%|██████████| 1/1 [00:00<00:00, 27.76it/s]"
     ]
    },
    {
     "name": "stdout",
     "output_type": "stream",
     "text": [
      "[score_funcs.py get_scores_2d] device cuda ims (1, 224, 224)\n",
      "[score_funcs.py get_scores_2d] device cuda ims (1, 224, 224)\n",
      "[score_funcs.py get_scores_2d] device cuda ims (1, 224, 224)\n",
      "[score_funcs.py get_scores_2d] device cuda ims (1, 224, 224)\n",
      "[score_funcs.py get_scores_2d] device cuda ims (1, 224, 224)\n"
     ]
    },
    {
     "name": "stderr",
     "output_type": "stream",
     "text": [
      "\n",
      "100%|██████████| 1/1 [00:00<00:00, 26.62it/s]\n",
      "100%|██████████| 1/1 [00:00<00:00, 26.54it/s]\n",
      "100%|██████████| 1/1 [00:00<00:00, 26.86it/s]\n",
      "100%|██████████| 1/1 [00:00<00:00, 26.38it/s]\n",
      "100%|██████████| 1/1 [00:00<00:00, 26.10it/s]\n",
      "  0%|          | 0/1 [00:00<?, ?it/s]"
     ]
    },
    {
     "name": "stdout",
     "output_type": "stream",
     "text": [
      "[score_funcs.py get_scores_2d] device cuda ims (1, 224, 224)\n",
      "[score_funcs.py get_scores_2d] device cuda ims (1, 224, 224)\n",
      "[score_funcs.py get_scores_2d] device cuda ims (1, 224, 224)\n",
      "[score_funcs.py get_scores_2d] device cuda ims (1, 224, 224)\n",
      "[score_funcs.py get_scores_2d] device cuda ims (1, 224, 224)\n",
      "[score_funcs.py get_scores_2d] device cuda ims (1, 224, 224)\n"
     ]
    },
    {
     "name": "stderr",
     "output_type": "stream",
     "text": [
      "100%|██████████| 1/1 [00:00<00:00, 26.76it/s]\n",
      "100%|██████████| 1/1 [00:00<00:00, 26.70it/s]\n",
      "100%|██████████| 1/1 [00:00<00:00, 26.37it/s]\n",
      "100%|██████████| 1/1 [00:00<00:00, 26.25it/s]\n",
      "100%|██████████| 1/1 [00:00<00:00, 25.49it/s]\n",
      "  0%|          | 0/1 [00:00<?, ?it/s]"
     ]
    },
    {
     "name": "stdout",
     "output_type": "stream",
     "text": [
      "[score_funcs.py get_scores_2d] device cuda ims (1, 224, 224)\n",
      "[score_funcs.py get_scores_2d] device cuda ims (1, 224, 224)\n",
      "[score_funcs.py get_scores_2d] device cuda ims (1, 224, 224)\n",
      "[score_funcs.py get_scores_2d] device cuda ims (1, 224, 224)\n",
      "[score_funcs.py get_scores_2d] device cuda ims (1, 224, 224)\n"
     ]
    },
    {
     "name": "stderr",
     "output_type": "stream",
     "text": [
      "100%|██████████| 1/1 [00:00<00:00, 25.50it/s]\n",
      "100%|██████████| 1/1 [00:00<00:00, 26.35it/s]\n",
      "100%|██████████| 1/1 [00:00<00:00, 26.68it/s]\n",
      "100%|██████████| 1/1 [00:00<00:00, 26.61it/s]\n",
      "100%|██████████| 1/1 [00:00<00:00, 26.00it/s]\n",
      "100%|██████████| 1/1 [00:00<00:00, 26.76it/s]\n",
      "  0%|          | 0/1 [00:00<?, ?it/s]"
     ]
    },
    {
     "name": "stdout",
     "output_type": "stream",
     "text": [
      "[score_funcs.py get_scores_2d] device cuda ims (1, 224, 224)\n",
      "[score_funcs.py get_scores_2d] device cuda ims (1, 224, 224)\n",
      "[score_funcs.py get_scores_2d] device cuda ims (1, 224, 224)\n",
      "[score_funcs.py get_scores_2d] device cuda ims (1, 224, 224)\n",
      "[score_funcs.py get_scores_2d] device cuda ims (1, 224, 224)\n",
      "[score_funcs.py get_scores_2d] device cuda ims (1, 224, 224)\n"
     ]
    },
    {
     "name": "stderr",
     "output_type": "stream",
     "text": [
      "100%|██████████| 1/1 [00:00<00:00, 24.28it/s]\n",
      "100%|██████████| 1/1 [00:00<00:00, 25.81it/s]\n",
      "100%|██████████| 1/1 [00:00<00:00, 26.67it/s]\n",
      "100%|██████████| 1/1 [00:00<00:00, 25.70it/s]\n",
      "100%|██████████| 1/1 [00:00<00:00, 25.73it/s]\n",
      "100%|██████████| 1/1 [00:00<00:00, 25.90it/s]"
     ]
    },
    {
     "name": "stdout",
     "output_type": "stream",
     "text": [
      "[score_funcs.py get_scores_2d] device cuda ims (1, 224, 224)\n",
      "[score_funcs.py get_scores_2d] device cuda ims (1, 224, 224)\n",
      "[score_funcs.py get_scores_2d] device cuda ims (1, 224, 224)\n",
      "[score_funcs.py get_scores_2d] device cuda ims (1, 224, 224)\n",
      "[score_funcs.py get_scores_2d] device cuda ims (1, 224, 224)\n"
     ]
    },
    {
     "name": "stderr",
     "output_type": "stream",
     "text": [
      "\n",
      "100%|██████████| 1/1 [00:00<00:00, 25.27it/s]\n",
      "100%|██████████| 1/1 [00:00<00:00, 26.53it/s]\n",
      "100%|██████████| 1/1 [00:00<00:00, 26.37it/s]\n",
      "100%|██████████| 1/1 [00:00<00:00, 26.35it/s]\n",
      "100%|██████████| 1/1 [00:00<00:00, 26.35it/s]\n",
      "100%|██████████| 1/1 [00:00<00:00, 25.94it/s]\n",
      "  0%|          | 0/1 [00:00<?, ?it/s]"
     ]
    },
    {
     "name": "stdout",
     "output_type": "stream",
     "text": [
      "[score_funcs.py get_scores_2d] device cuda ims (1, 224, 224)\n",
      "[score_funcs.py get_scores_2d] device cuda ims (1, 224, 224)\n",
      "[score_funcs.py get_scores_2d] device cuda ims (1, 224, 224)\n",
      "[score_funcs.py get_scores_2d] device cuda ims (1, 224, 224)\n",
      "[score_funcs.py get_scores_2d] device cuda ims (1, 224, 224)\n",
      "[score_funcs.py get_scores_2d] device cuda ims (1, 224, 224)\n",
      "[score_funcs.py get_scores_2d] device cuda ims (1, 224, 224)\n"
     ]
    },
    {
     "name": "stderr",
     "output_type": "stream",
     "text": [
      "100%|██████████| 1/1 [00:00<00:00, 26.26it/s]\n",
      "100%|██████████| 1/1 [00:00<00:00, 26.57it/s]\n",
      "100%|██████████| 1/1 [00:00<00:00, 26.31it/s]\n",
      "100%|██████████| 1/1 [00:00<00:00, 26.51it/s]\n",
      "100%|██████████| 1/1 [00:00<00:00, 26.16it/s]\n",
      "100%|██████████| 1/1 [00:00<00:00, 26.20it/s]"
     ]
    },
    {
     "name": "stdout",
     "output_type": "stream",
     "text": [
      "[score_funcs.py get_scores_2d] device cuda ims (1, 224, 224)\n",
      "[score_funcs.py get_scores_2d] device cuda ims (1, 224, 224)\n",
      "[score_funcs.py get_scores_2d] device cuda ims (1, 224, 224)\n",
      "[score_funcs.py get_scores_2d] device cuda ims (1, 224, 224)\n",
      "[score_funcs.py get_scores_2d] device cuda ims (1, 224, 224)\n"
     ]
    },
    {
     "name": "stderr",
     "output_type": "stream",
     "text": [
      "\n",
      "100%|██████████| 1/1 [00:00<00:00, 26.15it/s]\n",
      "100%|██████████| 1/1 [00:00<00:00, 26.05it/s]\n",
      "100%|██████████| 1/1 [00:00<00:00, 25.94it/s]\n",
      "100%|██████████| 1/1 [00:00<00:00, 26.51it/s]\n",
      "100%|██████████| 1/1 [00:00<00:00, 26.18it/s]"
     ]
    },
    {
     "name": "stdout",
     "output_type": "stream",
     "text": [
      "[score_funcs.py get_scores_2d] device cuda ims (1, 224, 224)\n",
      "[score_funcs.py get_scores_2d] device cuda ims (1, 224, 224)\n",
      "[score_funcs.py get_scores_2d] device cuda ims (1, 224, 224)\n",
      "[score_funcs.py get_scores_2d] device cuda ims (1, 224, 224)\n",
      "[score_funcs.py get_scores_2d] device cuda ims (1, 224, 224)\n"
     ]
    },
    {
     "name": "stderr",
     "output_type": "stream",
     "text": [
      "\n",
      "100%|██████████| 1/1 [00:00<00:00, 26.31it/s]\n",
      "100%|██████████| 1/1 [00:00<00:00, 26.30it/s]\n",
      "100%|██████████| 1/1 [00:00<00:00, 24.96it/s]\n",
      "100%|██████████| 1/1 [00:00<00:00, 27.16it/s]\n",
      "100%|██████████| 1/1 [00:00<00:00, 26.03it/s]\n",
      "  0%|          | 0/1 [00:00<?, ?it/s]"
     ]
    },
    {
     "name": "stdout",
     "output_type": "stream",
     "text": [
      "[score_funcs.py get_scores_2d] device cuda ims (1, 224, 224)\n",
      "[score_funcs.py get_scores_2d] device cuda ims (1, 224, 224)\n",
      "[score_funcs.py get_scores_2d] device cuda ims (1, 224, 224)\n",
      "[score_funcs.py get_scores_2d] device cuda ims (1, 224, 224)\n",
      "[score_funcs.py get_scores_2d] device cuda ims (1, 224, 224)\n",
      "[score_funcs.py get_scores_2d] device cuda ims (1, 224, 224)\n"
     ]
    },
    {
     "name": "stderr",
     "output_type": "stream",
     "text": [
      "100%|██████████| 1/1 [00:00<00:00, 25.65it/s]\n",
      "100%|██████████| 1/1 [00:00<00:00, 25.88it/s]\n",
      "100%|██████████| 1/1 [00:00<00:00, 26.55it/s]\n",
      "100%|██████████| 1/1 [00:00<00:00, 26.15it/s]\n",
      "100%|██████████| 1/1 [00:00<00:00, 26.43it/s]\n",
      "100%|██████████| 1/1 [00:00<00:00, 26.14it/s]\n",
      "  0%|          | 0/1 [00:00<?, ?it/s]"
     ]
    },
    {
     "name": "stdout",
     "output_type": "stream",
     "text": [
      "[score_funcs.py get_scores_2d] device cuda ims (1, 224, 224)\n",
      "[score_funcs.py get_scores_2d] device cuda ims (1, 224, 224)\n",
      "[score_funcs.py get_scores_2d] device cuda ims (1, 224, 224)\n",
      "[score_funcs.py get_scores_2d] device cuda ims (1, 224, 224)\n",
      "[score_funcs.py get_scores_2d] device cuda ims (1, 224, 224)\n",
      "[score_funcs.py get_scores_2d] device cuda ims (1, 224, 224)\n"
     ]
    },
    {
     "name": "stderr",
     "output_type": "stream",
     "text": [
      "100%|██████████| 1/1 [00:00<00:00, 26.27it/s]\n",
      "100%|██████████| 1/1 [00:00<00:00, 26.03it/s]\n",
      "100%|██████████| 1/1 [00:00<00:00, 26.19it/s]\n",
      "100%|██████████| 1/1 [00:00<00:00, 26.87it/s]\n",
      "100%|██████████| 1/1 [00:00<00:00, 26.83it/s]\n",
      "100%|██████████| 1/1 [00:00<00:00, 25.79it/s]\n"
     ]
    },
    {
     "name": "stdout",
     "output_type": "stream",
     "text": [
      "[score_funcs.py get_scores_2d] device cuda ims (1, 224, 224)\n",
      "[score_funcs.py get_scores_2d] device cuda ims (1, 224, 224)\n",
      "[score_funcs.py get_scores_2d] device cuda ims (1, 224, 224)\n",
      "[score_funcs.py get_scores_2d] device cuda ims (1, 224, 224)\n",
      "[score_funcs.py get_scores_2d] device cuda ims (1, 224, 224)\n",
      "[score_funcs.py get_scores_2d] device cuda ims (1, 224, 224)\n"
     ]
    },
    {
     "name": "stderr",
     "output_type": "stream",
     "text": [
      "100%|██████████| 1/1 [00:00<00:00, 25.65it/s]\n",
      "100%|██████████| 1/1 [00:00<00:00, 26.45it/s]\n",
      "100%|██████████| 1/1 [00:00<00:00, 25.65it/s]\n",
      "100%|██████████| 1/1 [00:00<00:00, 26.18it/s]\n",
      "100%|██████████| 1/1 [00:00<00:00, 25.75it/s]\n",
      "  0%|          | 0/1 [00:00<?, ?it/s]"
     ]
    },
    {
     "name": "stdout",
     "output_type": "stream",
     "text": [
      "[score_funcs.py get_scores_2d] device cuda ims (1, 224, 224)\n",
      "[score_funcs.py get_scores_2d] device cuda ims (1, 224, 224)\n",
      "[score_funcs.py get_scores_2d] device cuda ims (1, 224, 224)\n",
      "[score_funcs.py get_scores_2d] device cuda ims (1, 224, 224)\n",
      "[score_funcs.py get_scores_2d] device cuda ims (1, 224, 224)\n"
     ]
    },
    {
     "name": "stderr",
     "output_type": "stream",
     "text": [
      "100%|██████████| 1/1 [00:00<00:00, 25.36it/s]\n",
      "100%|██████████| 1/1 [00:00<00:00, 26.51it/s]\n",
      "100%|██████████| 1/1 [00:00<00:00, 26.31it/s]\n",
      "100%|██████████| 1/1 [00:00<00:00, 25.01it/s]\n",
      "100%|██████████| 1/1 [00:00<00:00, 26.21it/s]\n",
      "100%|██████████| 1/1 [00:00<00:00, 26.64it/s]\n"
     ]
    },
    {
     "name": "stdout",
     "output_type": "stream",
     "text": [
      "[score_funcs.py get_scores_2d] device cuda ims (1, 224, 224)\n",
      "[score_funcs.py get_scores_2d] device cuda ims (1, 224, 224)\n",
      "[score_funcs.py get_scores_2d] device cuda ims (1, 224, 224)\n",
      "[score_funcs.py get_scores_2d] device cuda ims (1, 224, 224)\n",
      "[score_funcs.py get_scores_2d] device cuda ims (1, 224, 224)\n"
     ]
    },
    {
     "name": "stderr",
     "output_type": "stream",
     "text": [
      "100%|██████████| 1/1 [00:00<00:00, 26.26it/s]\n",
      "100%|██████████| 1/1 [00:00<00:00, 27.19it/s]\n",
      "100%|██████████| 1/1 [00:00<00:00, 26.31it/s]\n",
      "100%|██████████| 1/1 [00:00<00:00, 26.77it/s]\n",
      "100%|██████████| 1/1 [00:00<00:00, 26.31it/s]\n",
      "100%|██████████| 1/1 [00:00<00:00, 27.13it/s]\n",
      "  0%|          | 0/1 [00:00<?, ?it/s]"
     ]
    },
    {
     "name": "stdout",
     "output_type": "stream",
     "text": [
      "[score_funcs.py get_scores_2d] device cuda ims (1, 224, 224)\n",
      "[score_funcs.py get_scores_2d] device cuda ims (1, 224, 224)\n",
      "[score_funcs.py get_scores_2d] device cuda ims (1, 224, 224)\n",
      "[score_funcs.py get_scores_2d] device cuda ims (1, 224, 224)\n",
      "[score_funcs.py get_scores_2d] device cuda ims (1, 224, 224)\n",
      "[score_funcs.py get_scores_2d] device cuda ims (1, 224, 224)\n",
      "[score_funcs.py get_scores_2d] device cuda ims (1, 224, 224)\n"
     ]
    },
    {
     "name": "stderr",
     "output_type": "stream",
     "text": [
      "100%|██████████| 1/1 [00:00<00:00, 26.41it/s]\n",
      "100%|██████████| 1/1 [00:00<00:00, 27.13it/s]\n",
      "100%|██████████| 1/1 [00:00<00:00, 26.61it/s]\n",
      "100%|██████████| 1/1 [00:00<00:00, 26.66it/s]\n",
      "100%|██████████| 1/1 [00:00<00:00, 26.45it/s]\n",
      "100%|██████████| 1/1 [00:00<00:00, 26.76it/s]\n",
      "  0%|          | 0/1 [00:00<?, ?it/s]"
     ]
    },
    {
     "name": "stdout",
     "output_type": "stream",
     "text": [
      "[score_funcs.py get_scores_2d] device cuda ims (1, 224, 224)\n",
      "[score_funcs.py get_scores_2d] device cuda ims (1, 224, 224)\n",
      "[score_funcs.py get_scores_2d] device cuda ims (1, 224, 224)\n",
      "[score_funcs.py get_scores_2d] device cuda ims (1, 224, 224)\n",
      "[score_funcs.py get_scores_2d] device cuda ims (1, 224, 224)\n",
      "[score_funcs.py get_scores_2d] device cuda ims (1, 224, 224)\n"
     ]
    },
    {
     "name": "stderr",
     "output_type": "stream",
     "text": [
      "100%|██████████| 1/1 [00:00<00:00, 26.53it/s]\n",
      "100%|██████████| 1/1 [00:00<00:00, 26.74it/s]\n",
      "100%|██████████| 1/1 [00:00<00:00, 26.95it/s]\n",
      "100%|██████████| 1/1 [00:00<00:00, 27.21it/s]\n",
      "100%|██████████| 1/1 [00:00<00:00, 26.39it/s]\n",
      "100%|██████████| 1/1 [00:00<00:00, 26.83it/s]\n",
      "  0%|          | 0/1 [00:00<?, ?it/s]"
     ]
    },
    {
     "name": "stdout",
     "output_type": "stream",
     "text": [
      "[score_funcs.py get_scores_2d] device cuda ims (1, 224, 224)\n",
      "[score_funcs.py get_scores_2d] device cuda ims (1, 224, 224)\n",
      "[score_funcs.py get_scores_2d] device cuda ims (1, 224, 224)\n",
      "[score_funcs.py get_scores_2d] device cuda ims (1, 224, 224)\n",
      "[score_funcs.py get_scores_2d] device cuda ims (1, 224, 224)\n",
      "[score_funcs.py get_scores_2d] device cuda ims (1, 224, 224)\n"
     ]
    },
    {
     "name": "stderr",
     "output_type": "stream",
     "text": [
      "100%|██████████| 1/1 [00:00<00:00, 26.31it/s]\n",
      "100%|██████████| 1/1 [00:00<00:00, 26.80it/s]\n",
      "100%|██████████| 1/1 [00:00<00:00, 25.10it/s]\n",
      "100%|██████████| 1/1 [00:00<00:00, 26.51it/s]\n",
      "100%|██████████| 1/1 [00:00<00:00, 25.85it/s]\n",
      "100%|██████████| 1/1 [00:00<00:00, 26.93it/s]\n",
      "  0%|          | 0/1 [00:00<?, ?it/s]"
     ]
    },
    {
     "name": "stdout",
     "output_type": "stream",
     "text": [
      "[score_funcs.py get_scores_2d] device cuda ims (1, 224, 224)\n",
      "[score_funcs.py get_scores_2d] device cuda ims (1, 224, 224)\n",
      "[score_funcs.py get_scores_2d] device cuda ims (1, 224, 224)\n",
      "[score_funcs.py get_scores_2d] device cuda ims (1, 224, 224)\n",
      "[score_funcs.py get_scores_2d] device cuda ims (1, 224, 224)\n",
      "[score_funcs.py get_scores_2d] device cuda ims (1, 224, 224)\n"
     ]
    },
    {
     "name": "stderr",
     "output_type": "stream",
     "text": [
      "100%|██████████| 1/1 [00:00<00:00, 25.13it/s]\n",
      "100%|██████████| 1/1 [00:00<00:00, 26.37it/s]\n",
      "100%|██████████| 1/1 [00:00<00:00, 26.19it/s]\n",
      "100%|██████████| 1/1 [00:00<00:00, 26.60it/s]\n",
      "100%|██████████| 1/1 [00:00<00:00, 25.53it/s]\n",
      "  0%|          | 0/1 [00:00<?, ?it/s]"
     ]
    },
    {
     "name": "stdout",
     "output_type": "stream",
     "text": [
      "[score_funcs.py get_scores_2d] device cuda ims (1, 224, 224)\n",
      "[score_funcs.py get_scores_2d] device cuda ims (1, 224, 224)\n",
      "[score_funcs.py get_scores_2d] device cuda ims (1, 224, 224)\n",
      "[score_funcs.py get_scores_2d] device cuda ims (1, 224, 224)\n",
      "[score_funcs.py get_scores_2d] device cuda ims (1, 224, 224)\n"
     ]
    },
    {
     "name": "stderr",
     "output_type": "stream",
     "text": [
      "100%|██████████| 1/1 [00:00<00:00, 25.94it/s]\n",
      "100%|██████████| 1/1 [00:00<00:00, 26.31it/s]\n",
      "100%|██████████| 1/1 [00:00<00:00, 26.44it/s]\n",
      "100%|██████████| 1/1 [00:00<00:00, 25.94it/s]\n",
      "100%|██████████| 1/1 [00:00<00:00, 26.21it/s]\n",
      "100%|██████████| 1/1 [00:00<00:00, 25.95it/s]"
     ]
    },
    {
     "name": "stdout",
     "output_type": "stream",
     "text": [
      "[score_funcs.py get_scores_2d] device cuda ims (1, 224, 224)\n",
      "[score_funcs.py get_scores_2d] device cuda ims (1, 224, 224)\n",
      "[score_funcs.py get_scores_2d] device cuda ims (1, 224, 224)\n",
      "[score_funcs.py get_scores_2d] device cuda ims (1, 224, 224)\n",
      "[score_funcs.py get_scores_2d] device cuda ims (1, 224, 224)\n"
     ]
    },
    {
     "name": "stderr",
     "output_type": "stream",
     "text": [
      "\n",
      "100%|██████████| 1/1 [00:00<00:00, 25.71it/s]\n",
      "100%|██████████| 1/1 [00:00<00:00, 26.22it/s]\n",
      "100%|██████████| 1/1 [00:00<00:00, 25.96it/s]\n",
      "100%|██████████| 1/1 [00:00<00:00, 26.35it/s]\n",
      "100%|██████████| 1/1 [00:00<00:00, 26.72it/s]\n",
      "  0%|          | 0/1 [00:00<?, ?it/s]"
     ]
    },
    {
     "name": "stdout",
     "output_type": "stream",
     "text": [
      "[score_funcs.py get_scores_2d] device cuda ims (1, 224, 224)\n",
      "[score_funcs.py get_scores_2d] device cuda ims (1, 224, 224)\n",
      "[score_funcs.py get_scores_2d] device cuda ims (1, 224, 224)\n",
      "[score_funcs.py get_scores_2d] device cuda ims (1, 224, 224)\n",
      "[score_funcs.py get_scores_2d] device cuda ims (1, 224, 224)\n",
      "[score_funcs.py get_scores_2d] device cuda ims (1, 224, 224)\n"
     ]
    },
    {
     "name": "stderr",
     "output_type": "stream",
     "text": [
      "100%|██████████| 1/1 [00:00<00:00, 25.37it/s]\n",
      "100%|██████████| 1/1 [00:00<00:00, 25.31it/s]\n",
      "100%|██████████| 1/1 [00:00<00:00, 26.96it/s]\n",
      "100%|██████████| 1/1 [00:00<00:00, 26.50it/s]\n",
      "100%|██████████| 1/1 [00:00<00:00, 26.50it/s]\n",
      "100%|██████████| 1/1 [00:00<00:00, 26.27it/s]\n",
      "  0%|          | 0/1 [00:00<?, ?it/s]"
     ]
    },
    {
     "name": "stdout",
     "output_type": "stream",
     "text": [
      "[score_funcs.py get_scores_2d] device cuda ims (1, 224, 224)\n",
      "[score_funcs.py get_scores_2d] device cuda ims (1, 224, 224)\n",
      "[score_funcs.py get_scores_2d] device cuda ims (1, 224, 224)\n",
      "[score_funcs.py get_scores_2d] device cuda ims (1, 224, 224)\n",
      "[score_funcs.py get_scores_2d] device cuda ims (1, 224, 224)\n",
      "[score_funcs.py get_scores_2d] device cuda ims (1, 224, 224)\n"
     ]
    },
    {
     "name": "stderr",
     "output_type": "stream",
     "text": [
      "100%|██████████| 1/1 [00:00<00:00, 25.80it/s]\n",
      "100%|██████████| 1/1 [00:00<00:00, 25.97it/s]\n",
      "100%|██████████| 1/1 [00:00<00:00, 26.54it/s]\n",
      "100%|██████████| 1/1 [00:00<00:00, 26.58it/s]\n",
      "100%|██████████| 1/1 [00:00<00:00, 26.99it/s]\n",
      "100%|██████████| 1/1 [00:00<00:00, 26.84it/s]\n",
      "  0%|          | 0/1 [00:00<?, ?it/s]"
     ]
    },
    {
     "name": "stdout",
     "output_type": "stream",
     "text": [
      "[score_funcs.py get_scores_2d] device cuda ims (1, 224, 224)\n",
      "[score_funcs.py get_scores_2d] device cuda ims (1, 224, 224)\n",
      "[score_funcs.py get_scores_2d] device cuda ims (1, 224, 224)\n",
      "[score_funcs.py get_scores_2d] device cuda ims (1, 224, 224)\n",
      "[score_funcs.py get_scores_2d] device cuda ims (1, 224, 224)\n",
      "[score_funcs.py get_scores_2d] device cuda ims (1, 224, 224)\n"
     ]
    },
    {
     "name": "stderr",
     "output_type": "stream",
     "text": [
      "100%|██████████| 1/1 [00:00<00:00, 25.40it/s]\n",
      "100%|██████████| 1/1 [00:00<00:00, 24.36it/s]\n",
      "100%|██████████| 1/1 [00:00<00:00, 27.27it/s]\n",
      "100%|██████████| 1/1 [00:00<00:00, 27.37it/s]\n",
      "100%|██████████| 1/1 [00:00<00:00, 28.02it/s]\n",
      "100%|██████████| 1/1 [00:00<00:00, 27.19it/s]\n",
      "  0%|          | 0/1 [00:00<?, ?it/s]"
     ]
    },
    {
     "name": "stdout",
     "output_type": "stream",
     "text": [
      "[score_funcs.py get_scores_2d] device cuda ims (1, 224, 224)\n",
      "[score_funcs.py get_scores_2d] device cuda ims (1, 224, 224)\n",
      "[score_funcs.py get_scores_2d] device cuda ims (1, 224, 224)\n",
      "[score_funcs.py get_scores_2d] device cuda ims (1, 224, 224)\n",
      "[score_funcs.py get_scores_2d] device cuda ims (1, 224, 224)\n",
      "[score_funcs.py get_scores_2d] device cuda ims (1, 224, 224)\n"
     ]
    },
    {
     "name": "stderr",
     "output_type": "stream",
     "text": [
      "100%|██████████| 1/1 [00:00<00:00, 27.44it/s]\n",
      "100%|██████████| 1/1 [00:00<00:00, 27.36it/s]\n",
      "100%|██████████| 1/1 [00:00<00:00, 27.26it/s]\n",
      "100%|██████████| 1/1 [00:00<00:00, 27.57it/s]\n",
      "100%|██████████| 1/1 [00:00<00:00, 27.10it/s]\n",
      "100%|██████████| 1/1 [00:00<00:00, 27.40it/s]\n",
      "  0%|          | 0/1 [00:00<?, ?it/s]"
     ]
    },
    {
     "name": "stdout",
     "output_type": "stream",
     "text": [
      "[score_funcs.py get_scores_2d] device cuda ims (1, 224, 224)\n",
      "[score_funcs.py get_scores_2d] device cuda ims (1, 224, 224)\n",
      "[score_funcs.py get_scores_2d] device cuda ims (1, 224, 224)\n",
      "[score_funcs.py get_scores_2d] device cuda ims (1, 224, 224)\n",
      "[score_funcs.py get_scores_2d] device cuda ims (1, 224, 224)\n",
      "[score_funcs.py get_scores_2d] device cuda ims (1, 224, 224)\n"
     ]
    },
    {
     "name": "stderr",
     "output_type": "stream",
     "text": [
      "100%|██████████| 1/1 [00:00<00:00, 27.64it/s]\n",
      "100%|██████████| 1/1 [00:00<00:00, 27.77it/s]\n",
      "100%|██████████| 1/1 [00:00<00:00, 27.82it/s]\n",
      "100%|██████████| 1/1 [00:00<00:00, 28.12it/s]\n",
      "100%|██████████| 1/1 [00:00<00:00, 27.50it/s]\n",
      "100%|██████████| 1/1 [00:00<00:00, 27.26it/s]\n",
      "  0%|          | 0/1 [00:00<?, ?it/s]"
     ]
    },
    {
     "name": "stdout",
     "output_type": "stream",
     "text": [
      "[score_funcs.py get_scores_2d] device cuda ims (1, 224, 224)\n",
      "[score_funcs.py get_scores_2d] device cuda ims (1, 224, 224)\n",
      "[score_funcs.py get_scores_2d] device cuda ims (1, 224, 224)\n",
      "[score_funcs.py get_scores_2d] device cuda ims (1, 224, 224)\n",
      "[score_funcs.py get_scores_2d] device cuda ims (1, 224, 224)\n",
      "[score_funcs.py get_scores_2d] device cuda ims (1, 224, 224)\n"
     ]
    },
    {
     "name": "stderr",
     "output_type": "stream",
     "text": [
      "100%|██████████| 1/1 [00:00<00:00, 27.32it/s]\n",
      "100%|██████████| 1/1 [00:00<00:00, 27.85it/s]\n",
      "100%|██████████| 1/1 [00:00<00:00, 27.16it/s]\n",
      "100%|██████████| 1/1 [00:00<00:00, 26.84it/s]\n",
      "100%|██████████| 1/1 [00:00<00:00, 27.70it/s]\n",
      "100%|██████████| 1/1 [00:00<00:00, 27.47it/s]\n",
      "  0%|          | 0/1 [00:00<?, ?it/s]"
     ]
    },
    {
     "name": "stdout",
     "output_type": "stream",
     "text": [
      "[score_funcs.py get_scores_2d] device cuda ims (1, 224, 224)\n",
      "[score_funcs.py get_scores_2d] device cuda ims (1, 224, 224)\n",
      "[score_funcs.py get_scores_2d] device cuda ims (1, 224, 224)\n",
      "[score_funcs.py get_scores_2d] device cuda ims (1, 224, 224)\n",
      "[score_funcs.py get_scores_2d] device cuda ims (1, 224, 224)\n",
      "[score_funcs.py get_scores_2d] device cuda ims (1, 224, 224)\n"
     ]
    },
    {
     "name": "stderr",
     "output_type": "stream",
     "text": [
      "100%|██████████| 1/1 [00:00<00:00, 27.52it/s]\n",
      "100%|██████████| 1/1 [00:00<00:00, 27.46it/s]\n",
      "100%|██████████| 1/1 [00:00<00:00, 27.46it/s]\n",
      "100%|██████████| 1/1 [00:00<00:00, 27.16it/s]\n",
      "100%|██████████| 1/1 [00:00<00:00, 27.20it/s]\n",
      "100%|██████████| 1/1 [00:00<00:00, 27.61it/s]\n",
      "  0%|          | 0/1 [00:00<?, ?it/s]"
     ]
    },
    {
     "name": "stdout",
     "output_type": "stream",
     "text": [
      "[score_funcs.py get_scores_2d] device cuda ims (1, 224, 224)\n",
      "[score_funcs.py get_scores_2d] device cuda ims (1, 224, 224)\n",
      "[score_funcs.py get_scores_2d] device cuda ims (1, 224, 224)\n",
      "[score_funcs.py get_scores_2d] device cuda ims (1, 224, 224)\n",
      "[score_funcs.py get_scores_2d] device cuda ims (1, 224, 224)\n",
      "[score_funcs.py get_scores_2d] device cuda ims (1, 224, 224)\n"
     ]
    },
    {
     "name": "stderr",
     "output_type": "stream",
     "text": [
      "100%|██████████| 1/1 [00:00<00:00, 27.16it/s]\n",
      "100%|██████████| 1/1 [00:00<00:00, 26.96it/s]\n",
      "100%|██████████| 1/1 [00:00<00:00, 27.11it/s]\n",
      "100%|██████████| 1/1 [00:00<00:00, 27.61it/s]\n",
      "100%|██████████| 1/1 [00:00<00:00, 26.31it/s]\n",
      "100%|██████████| 1/1 [00:00<00:00, 27.38it/s]\n",
      "  0%|          | 0/1 [00:00<?, ?it/s]"
     ]
    },
    {
     "name": "stdout",
     "output_type": "stream",
     "text": [
      "[score_funcs.py get_scores_2d] device cuda ims (1, 224, 224)\n",
      "[score_funcs.py get_scores_2d] device cuda ims (1, 224, 224)\n",
      "[score_funcs.py get_scores_2d] device cuda ims (1, 224, 224)\n",
      "[score_funcs.py get_scores_2d] device cuda ims (1, 224, 224)\n",
      "[score_funcs.py get_scores_2d] device cuda ims (1, 224, 224)\n",
      "[score_funcs.py get_scores_2d] device cuda ims (1, 224, 224)\n"
     ]
    },
    {
     "name": "stderr",
     "output_type": "stream",
     "text": [
      "100%|██████████| 1/1 [00:00<00:00, 27.08it/s]\n",
      "100%|██████████| 1/1 [00:00<00:00, 27.90it/s]\n",
      "100%|██████████| 1/1 [00:00<00:00, 27.66it/s]\n"
     ]
    },
    {
     "name": "stdout",
     "output_type": "stream",
     "text": [
      "[score_funcs.py get_scores_2d] device cuda ims (1, 224, 224)\n",
      "[score_funcs.py get_scores_2d] device cuda ims (1, 224, 224)\n",
      "key_num val_13 agg.agglomerate\n"
     ]
    },
    {
     "name": "stderr",
     "output_type": "stream",
     "text": [
      "/home/yezheng/anaconda3/lib/python3.7/site-packages/skimage/transform/_warps.py:110: UserWarning: Anti-aliasing will be enabled by default in skimage 0.15 to avoid aliasing artifacts when down-sampling images.\n",
      "  warn(\"Anti-aliasing will be enabled by default in skimage 0.15 to \"\n",
      "  1%|          | 3/256 [00:00<00:09, 27.67it/s]"
     ]
    },
    {
     "name": "stdout",
     "output_type": "stream",
     "text": [
      "========================\n",
      "idx_jpg 4 key_num val_14\n",
      "im_orig 1.0 0.0 (224, 224, 3)\n",
      "im_torch torch.Size([1, 3, 224, 224])\n",
      "key_num val_14 lab_pred\n",
      "[agg_2d.py agglomerate] im_orig (224, 224, 3)\n",
      "[agg_2d.py agglomerate] device cuda tiles 256\n",
      "[score_funcs.py get_scores_2d] device cuda ims (256, 224, 224)\n"
     ]
    },
    {
     "name": "stderr",
     "output_type": "stream",
     "text": [
      "100%|██████████| 256/256 [00:09<00:00, 27.78it/s]\n",
      "100%|██████████| 1/1 [00:00<00:00, 27.76it/s]\n",
      "100%|██████████| 4/4 [00:00<00:00, 27.72it/s]\n",
      "  0%|          | 0/5 [00:00<?, ?it/s]"
     ]
    },
    {
     "name": "stdout",
     "output_type": "stream",
     "text": [
      "[agg_2d.py agglomerate] score_funcs.get_scores_2d\n",
      "[agg_2d.py agglomerate] threshold_scores\n",
      "[score_funcs.py get_scores_2d] device cuda ims (1, 3, 224, 224)\n",
      "[agg_2d.py agglomerate] comp_scores_raw_list\n",
      "[agg_2d.py agglomerate] step 0 num_iters 5\n",
      "[score_funcs.py get_scores_2d] device cuda ims (4, 224, 224)\n",
      "[score_funcs.py get_scores_2d] device cuda ims (5, 224, 224)\n"
     ]
    },
    {
     "name": "stderr",
     "output_type": "stream",
     "text": [
      "100%|██████████| 5/5 [00:00<00:00, 28.02it/s]\n",
      "100%|██████████| 5/5 [00:00<00:00, 27.87it/s]\n",
      "  0%|          | 0/5 [00:00<?, ?it/s]"
     ]
    },
    {
     "name": "stdout",
     "output_type": "stream",
     "text": [
      "[score_funcs.py get_scores_2d] device cuda ims (5, 224, 224)\n",
      "[score_funcs.py get_scores_2d] device cuda ims (5, 224, 224)\n"
     ]
    },
    {
     "name": "stderr",
     "output_type": "stream",
     "text": [
      "100%|██████████| 5/5 [00:00<00:00, 27.94it/s]\n",
      " 50%|█████     | 3/6 [00:00<00:00, 27.72it/s]"
     ]
    },
    {
     "name": "stdout",
     "output_type": "stream",
     "text": [
      "[score_funcs.py get_scores_2d] device cuda ims (6, 224, 224)\n"
     ]
    },
    {
     "name": "stderr",
     "output_type": "stream",
     "text": [
      "100%|██████████| 6/6 [00:00<00:00, 27.78it/s]\n",
      "100%|██████████| 5/5 [00:00<00:00, 27.66it/s]\n",
      "  0%|          | 0/6 [00:00<?, ?it/s]"
     ]
    },
    {
     "name": "stdout",
     "output_type": "stream",
     "text": [
      "[score_funcs.py get_scores_2d] device cuda ims (5, 224, 224)\n",
      "[score_funcs.py get_scores_2d] device cuda ims (6, 224, 224)\n"
     ]
    },
    {
     "name": "stderr",
     "output_type": "stream",
     "text": [
      "100%|██████████| 6/6 [00:00<00:00, 27.83it/s]\n",
      "100%|██████████| 5/5 [00:00<00:00, 27.90it/s]\n",
      "  0%|          | 0/5 [00:00<?, ?it/s]"
     ]
    },
    {
     "name": "stdout",
     "output_type": "stream",
     "text": [
      "[score_funcs.py get_scores_2d] device cuda ims (5, 224, 224)\n",
      "[score_funcs.py get_scores_2d] device cuda ims (5, 224, 224)\n"
     ]
    },
    {
     "name": "stderr",
     "output_type": "stream",
     "text": [
      "100%|██████████| 5/5 [00:00<00:00, 27.61it/s]\n",
      "100%|██████████| 4/4 [00:00<00:00, 27.58it/s]\n",
      "  0%|          | 0/6 [00:00<?, ?it/s]"
     ]
    },
    {
     "name": "stdout",
     "output_type": "stream",
     "text": [
      "[score_funcs.py get_scores_2d] device cuda ims (4, 224, 224)\n",
      "[score_funcs.py get_scores_2d] device cuda ims (6, 224, 224)\n"
     ]
    },
    {
     "name": "stderr",
     "output_type": "stream",
     "text": [
      "100%|██████████| 6/6 [00:00<00:00, 27.64it/s]\n",
      "100%|██████████| 4/4 [00:00<00:00, 27.62it/s]\n",
      "  0%|          | 0/5 [00:00<?, ?it/s]"
     ]
    },
    {
     "name": "stdout",
     "output_type": "stream",
     "text": [
      "[agg_2d.py agglomerate] step 1 num_iters 5\n",
      "[score_funcs.py get_scores_2d] device cuda ims (4, 224, 224)\n",
      "[score_funcs.py get_scores_2d] device cuda ims (5, 224, 224)\n"
     ]
    },
    {
     "name": "stderr",
     "output_type": "stream",
     "text": [
      "100%|██████████| 5/5 [00:00<00:00, 27.87it/s]\n",
      " 21%|██▏       | 3/14 [00:00<00:00, 27.84it/s]"
     ]
    },
    {
     "name": "stdout",
     "output_type": "stream",
     "text": [
      "[score_funcs.py get_scores_2d] device cuda ims (14, 224, 224)\n"
     ]
    },
    {
     "name": "stderr",
     "output_type": "stream",
     "text": [
      "100%|██████████| 14/14 [00:00<00:00, 27.71it/s]\n",
      " 50%|█████     | 3/6 [00:00<00:00, 27.94it/s]"
     ]
    },
    {
     "name": "stdout",
     "output_type": "stream",
     "text": [
      "[score_funcs.py get_scores_2d] device cuda ims (6, 224, 224)\n"
     ]
    },
    {
     "name": "stderr",
     "output_type": "stream",
     "text": [
      "100%|██████████| 6/6 [00:00<00:00, 27.88it/s]\n",
      " 38%|███▊      | 3/8 [00:00<00:00, 27.95it/s]"
     ]
    },
    {
     "name": "stdout",
     "output_type": "stream",
     "text": [
      "[score_funcs.py get_scores_2d] device cuda ims (8, 224, 224)\n"
     ]
    },
    {
     "name": "stderr",
     "output_type": "stream",
     "text": [
      "100%|██████████| 8/8 [00:00<00:00, 27.82it/s]\n",
      "100%|██████████| 5/5 [00:00<00:00, 27.90it/s]\n",
      "  0%|          | 0/6 [00:00<?, ?it/s]"
     ]
    },
    {
     "name": "stdout",
     "output_type": "stream",
     "text": [
      "[score_funcs.py get_scores_2d] device cuda ims (5, 224, 224)\n",
      "[score_funcs.py get_scores_2d] device cuda ims (6, 224, 224)\n"
     ]
    },
    {
     "name": "stderr",
     "output_type": "stream",
     "text": [
      "100%|██████████| 6/6 [00:00<00:00, 27.91it/s]\n",
      " 50%|█████     | 3/6 [00:00<00:00, 27.79it/s]"
     ]
    },
    {
     "name": "stdout",
     "output_type": "stream",
     "text": [
      "[score_funcs.py get_scores_2d] device cuda ims (6, 224, 224)\n"
     ]
    },
    {
     "name": "stderr",
     "output_type": "stream",
     "text": [
      "100%|██████████| 6/6 [00:00<00:00, 27.78it/s]\n",
      " 50%|█████     | 3/6 [00:00<00:00, 27.85it/s]"
     ]
    },
    {
     "name": "stdout",
     "output_type": "stream",
     "text": [
      "[score_funcs.py get_scores_2d] device cuda ims (6, 224, 224)\n"
     ]
    },
    {
     "name": "stderr",
     "output_type": "stream",
     "text": [
      "100%|██████████| 6/6 [00:00<00:00, 27.87it/s]\n",
      " 50%|█████     | 3/6 [00:00<00:00, 27.90it/s]"
     ]
    },
    {
     "name": "stdout",
     "output_type": "stream",
     "text": [
      "[score_funcs.py get_scores_2d] device cuda ims (6, 224, 224)\n"
     ]
    },
    {
     "name": "stderr",
     "output_type": "stream",
     "text": [
      "100%|██████████| 6/6 [00:00<00:00, 27.89it/s]\n",
      "100%|██████████| 4/4 [00:00<00:00, 27.61it/s]\n",
      "  0%|          | 0/5 [00:00<?, ?it/s]"
     ]
    },
    {
     "name": "stdout",
     "output_type": "stream",
     "text": [
      "[score_funcs.py get_scores_2d] device cuda ims (4, 224, 224)\n",
      "[score_funcs.py get_scores_2d] device cuda ims (5, 224, 224)\n"
     ]
    },
    {
     "name": "stderr",
     "output_type": "stream",
     "text": [
      "100%|██████████| 5/5 [00:00<00:00, 27.61it/s]\n",
      " 50%|█████     | 3/6 [00:00<00:00, 27.86it/s]"
     ]
    },
    {
     "name": "stdout",
     "output_type": "stream",
     "text": [
      "[score_funcs.py get_scores_2d] device cuda ims (6, 224, 224)\n"
     ]
    },
    {
     "name": "stderr",
     "output_type": "stream",
     "text": [
      "100%|██████████| 6/6 [00:00<00:00, 27.79it/s]\n",
      "100%|██████████| 4/4 [00:00<00:00, 27.77it/s]\n",
      "  0%|          | 0/5 [00:00<?, ?it/s]"
     ]
    },
    {
     "name": "stdout",
     "output_type": "stream",
     "text": [
      "[agg_2d.py agglomerate] step 2 num_iters 5\n",
      "[score_funcs.py get_scores_2d] device cuda ims (4, 224, 224)\n",
      "[score_funcs.py get_scores_2d] device cuda ims (5, 224, 224)\n"
     ]
    },
    {
     "name": "stderr",
     "output_type": "stream",
     "text": [
      "100%|██████████| 5/5 [00:00<00:00, 27.86it/s]\n",
      " 50%|█████     | 3/6 [00:00<00:00, 28.03it/s]"
     ]
    },
    {
     "name": "stdout",
     "output_type": "stream",
     "text": [
      "[score_funcs.py get_scores_2d] device cuda ims (6, 224, 224)\n"
     ]
    },
    {
     "name": "stderr",
     "output_type": "stream",
     "text": [
      "100%|██████████| 6/6 [00:00<00:00, 27.94it/s]\n",
      " 20%|██        | 3/15 [00:00<00:00, 28.00it/s]"
     ]
    },
    {
     "name": "stdout",
     "output_type": "stream",
     "text": [
      "[score_funcs.py get_scores_2d] device cuda ims (15, 224, 224)\n"
     ]
    },
    {
     "name": "stderr",
     "output_type": "stream",
     "text": [
      "100%|██████████| 15/15 [00:00<00:00, 27.79it/s]\n",
      " 50%|█████     | 3/6 [00:00<00:00, 28.10it/s]"
     ]
    },
    {
     "name": "stdout",
     "output_type": "stream",
     "text": [
      "[score_funcs.py get_scores_2d] device cuda ims (6, 224, 224)\n"
     ]
    },
    {
     "name": "stderr",
     "output_type": "stream",
     "text": [
      "100%|██████████| 6/6 [00:00<00:00, 27.94it/s]\n",
      " 43%|████▎     | 3/7 [00:00<00:00, 27.89it/s]"
     ]
    },
    {
     "name": "stdout",
     "output_type": "stream",
     "text": [
      "[score_funcs.py get_scores_2d] device cuda ims (7, 224, 224)\n"
     ]
    },
    {
     "name": "stderr",
     "output_type": "stream",
     "text": [
      "100%|██████████| 7/7 [00:00<00:00, 27.78it/s]\n",
      " 38%|███▊      | 3/8 [00:00<00:00, 28.05it/s]"
     ]
    },
    {
     "name": "stdout",
     "output_type": "stream",
     "text": [
      "[score_funcs.py get_scores_2d] device cuda ims (8, 224, 224)\n"
     ]
    },
    {
     "name": "stderr",
     "output_type": "stream",
     "text": [
      "100%|██████████| 8/8 [00:00<00:00, 27.82it/s]\n",
      " 50%|█████     | 3/6 [00:00<00:00, 27.74it/s]"
     ]
    },
    {
     "name": "stdout",
     "output_type": "stream",
     "text": [
      "[score_funcs.py get_scores_2d] device cuda ims (6, 224, 224)\n"
     ]
    },
    {
     "name": "stderr",
     "output_type": "stream",
     "text": [
      "100%|██████████| 6/6 [00:00<00:00, 27.72it/s]\n",
      " 33%|███▎      | 3/9 [00:00<00:00, 27.89it/s]"
     ]
    },
    {
     "name": "stdout",
     "output_type": "stream",
     "text": [
      "[score_funcs.py get_scores_2d] device cuda ims (9, 224, 224)\n"
     ]
    },
    {
     "name": "stderr",
     "output_type": "stream",
     "text": [
      "100%|██████████| 9/9 [00:00<00:00, 27.70it/s]\n",
      "100%|██████████| 5/5 [00:00<00:00, 27.82it/s]\n",
      "  0%|          | 0/6 [00:00<?, ?it/s]"
     ]
    },
    {
     "name": "stdout",
     "output_type": "stream",
     "text": [
      "[score_funcs.py get_scores_2d] device cuda ims (5, 224, 224)\n",
      "[score_funcs.py get_scores_2d] device cuda ims (6, 224, 224)\n"
     ]
    },
    {
     "name": "stderr",
     "output_type": "stream",
     "text": [
      "100%|██████████| 6/6 [00:00<00:00, 27.83it/s]\n",
      " 50%|█████     | 3/6 [00:00<00:00, 27.94it/s]"
     ]
    },
    {
     "name": "stdout",
     "output_type": "stream",
     "text": [
      "[score_funcs.py get_scores_2d] device cuda ims (6, 224, 224)\n"
     ]
    },
    {
     "name": "stderr",
     "output_type": "stream",
     "text": [
      "100%|██████████| 6/6 [00:00<00:00, 27.75it/s]\n",
      "100%|██████████| 4/4 [00:00<00:00, 27.89it/s]\n",
      "  0%|          | 0/5 [00:00<?, ?it/s]"
     ]
    },
    {
     "name": "stdout",
     "output_type": "stream",
     "text": [
      "[score_funcs.py get_scores_2d] device cuda ims (4, 224, 224)\n",
      "[score_funcs.py get_scores_2d] device cuda ims (5, 224, 224)\n"
     ]
    },
    {
     "name": "stderr",
     "output_type": "stream",
     "text": [
      "100%|██████████| 5/5 [00:00<00:00, 27.68it/s]\n",
      "100%|██████████| 5/5 [00:00<00:00, 27.93it/s]\n",
      "  0%|          | 0/9 [00:00<?, ?it/s]"
     ]
    },
    {
     "name": "stdout",
     "output_type": "stream",
     "text": [
      "[score_funcs.py get_scores_2d] device cuda ims (5, 224, 224)\n",
      "[score_funcs.py get_scores_2d] device cuda ims (9, 224, 224)\n"
     ]
    },
    {
     "name": "stderr",
     "output_type": "stream",
     "text": [
      "100%|██████████| 9/9 [00:00<00:00, 27.89it/s]\n",
      "100%|██████████| 4/4 [00:00<00:00, 27.86it/s]\n",
      "  0%|          | 0/5 [00:00<?, ?it/s]"
     ]
    },
    {
     "name": "stdout",
     "output_type": "stream",
     "text": [
      "[agg_2d.py agglomerate] step 3 num_iters 5\n",
      "[score_funcs.py get_scores_2d] device cuda ims (4, 224, 224)\n",
      "[score_funcs.py get_scores_2d] device cuda ims (5, 224, 224)\n"
     ]
    },
    {
     "name": "stderr",
     "output_type": "stream",
     "text": [
      "100%|██████████| 5/5 [00:00<00:00, 27.82it/s]\n",
      " 30%|███       | 3/10 [00:00<00:00, 27.88it/s]"
     ]
    },
    {
     "name": "stdout",
     "output_type": "stream",
     "text": [
      "[score_funcs.py get_scores_2d] device cuda ims (10, 224, 224)\n"
     ]
    },
    {
     "name": "stderr",
     "output_type": "stream",
     "text": [
      "100%|██████████| 10/10 [00:00<00:00, 27.76it/s]\n",
      " 20%|██        | 3/15 [00:00<00:00, 28.05it/s]"
     ]
    },
    {
     "name": "stdout",
     "output_type": "stream",
     "text": [
      "[score_funcs.py get_scores_2d] device cuda ims (15, 224, 224)\n"
     ]
    },
    {
     "name": "stderr",
     "output_type": "stream",
     "text": [
      "100%|██████████| 15/15 [00:00<00:00, 27.69it/s]\n",
      " 50%|█████     | 3/6 [00:00<00:00, 27.72it/s]"
     ]
    },
    {
     "name": "stdout",
     "output_type": "stream",
     "text": [
      "[score_funcs.py get_scores_2d] device cuda ims (6, 224, 224)\n"
     ]
    },
    {
     "name": "stderr",
     "output_type": "stream",
     "text": [
      "100%|██████████| 6/6 [00:00<00:00, 27.68it/s]\n",
      " 50%|█████     | 3/6 [00:00<00:00, 27.78it/s]"
     ]
    },
    {
     "name": "stdout",
     "output_type": "stream",
     "text": [
      "[score_funcs.py get_scores_2d] device cuda ims (6, 224, 224)\n"
     ]
    },
    {
     "name": "stderr",
     "output_type": "stream",
     "text": [
      "100%|██████████| 6/6 [00:00<00:00, 27.68it/s]\n",
      " 33%|███▎      | 3/9 [00:00<00:00, 26.43it/s]"
     ]
    },
    {
     "name": "stdout",
     "output_type": "stream",
     "text": [
      "[score_funcs.py get_scores_2d] device cuda ims (9, 224, 224)\n"
     ]
    },
    {
     "name": "stderr",
     "output_type": "stream",
     "text": [
      "100%|██████████| 9/9 [00:00<00:00, 27.07it/s]\n",
      " 38%|███▊      | 3/8 [00:00<00:00, 28.20it/s]"
     ]
    },
    {
     "name": "stdout",
     "output_type": "stream",
     "text": [
      "[score_funcs.py get_scores_2d] device cuda ims (8, 224, 224)\n"
     ]
    },
    {
     "name": "stderr",
     "output_type": "stream",
     "text": [
      "100%|██████████| 8/8 [00:00<00:00, 27.55it/s]\n",
      " 50%|█████     | 3/6 [00:00<00:00, 27.94it/s]"
     ]
    },
    {
     "name": "stdout",
     "output_type": "stream",
     "text": [
      "[score_funcs.py get_scores_2d] device cuda ims (6, 224, 224)\n"
     ]
    },
    {
     "name": "stderr",
     "output_type": "stream",
     "text": [
      "100%|██████████| 6/6 [00:00<00:00, 27.90it/s]\n",
      " 33%|███▎      | 3/9 [00:00<00:00, 27.34it/s]"
     ]
    },
    {
     "name": "stdout",
     "output_type": "stream",
     "text": [
      "[score_funcs.py get_scores_2d] device cuda ims (9, 224, 224)\n"
     ]
    },
    {
     "name": "stderr",
     "output_type": "stream",
     "text": [
      "100%|██████████| 9/9 [00:00<00:00, 27.58it/s]\n",
      " 50%|█████     | 3/6 [00:00<00:00, 28.10it/s]"
     ]
    },
    {
     "name": "stdout",
     "output_type": "stream",
     "text": [
      "[score_funcs.py get_scores_2d] device cuda ims (6, 224, 224)\n"
     ]
    },
    {
     "name": "stderr",
     "output_type": "stream",
     "text": [
      "100%|██████████| 6/6 [00:00<00:00, 27.98it/s]\n",
      " 50%|█████     | 3/6 [00:00<00:00, 27.48it/s]"
     ]
    },
    {
     "name": "stdout",
     "output_type": "stream",
     "text": [
      "[score_funcs.py get_scores_2d] device cuda ims (6, 224, 224)\n"
     ]
    },
    {
     "name": "stderr",
     "output_type": "stream",
     "text": [
      "100%|██████████| 6/6 [00:00<00:00, 27.51it/s]\n",
      " 50%|█████     | 3/6 [00:00<00:00, 27.92it/s]"
     ]
    },
    {
     "name": "stdout",
     "output_type": "stream",
     "text": [
      "[score_funcs.py get_scores_2d] device cuda ims (6, 224, 224)\n"
     ]
    },
    {
     "name": "stderr",
     "output_type": "stream",
     "text": [
      "100%|██████████| 6/6 [00:00<00:00, 27.87it/s]\n",
      "100%|██████████| 4/4 [00:00<00:00, 27.48it/s]\n",
      "  0%|          | 0/9 [00:00<?, ?it/s]"
     ]
    },
    {
     "name": "stdout",
     "output_type": "stream",
     "text": [
      "[score_funcs.py get_scores_2d] device cuda ims (4, 224, 224)\n",
      "[score_funcs.py get_scores_2d] device cuda ims (9, 224, 224)\n"
     ]
    },
    {
     "name": "stderr",
     "output_type": "stream",
     "text": [
      "100%|██████████| 9/9 [00:00<00:00, 27.75it/s]\n",
      " 33%|███▎      | 3/9 [00:00<00:00, 28.02it/s]"
     ]
    },
    {
     "name": "stdout",
     "output_type": "stream",
     "text": [
      "[score_funcs.py get_scores_2d] device cuda ims (9, 224, 224)\n"
     ]
    },
    {
     "name": "stderr",
     "output_type": "stream",
     "text": [
      "100%|██████████| 9/9 [00:00<00:00, 28.00it/s]\n",
      "100%|██████████| 4/4 [00:00<00:00, 27.87it/s]\n",
      "  0%|          | 0/5 [00:00<?, ?it/s]"
     ]
    },
    {
     "name": "stdout",
     "output_type": "stream",
     "text": [
      "[agg_2d.py agglomerate] step 4 num_iters 5\n",
      "[score_funcs.py get_scores_2d] device cuda ims (4, 224, 224)\n",
      "[score_funcs.py get_scores_2d] device cuda ims (5, 224, 224)\n"
     ]
    },
    {
     "name": "stderr",
     "output_type": "stream",
     "text": [
      "100%|██████████| 5/5 [00:00<00:00, 27.27it/s]\n",
      " 30%|███       | 3/10 [00:00<00:00, 27.93it/s]"
     ]
    },
    {
     "name": "stdout",
     "output_type": "stream",
     "text": [
      "[score_funcs.py get_scores_2d] device cuda ims (10, 224, 224)\n"
     ]
    },
    {
     "name": "stderr",
     "output_type": "stream",
     "text": [
      "100%|██████████| 10/10 [00:00<00:00, 27.60it/s]\n",
      " 25%|██▌       | 3/12 [00:00<00:00, 27.64it/s]"
     ]
    },
    {
     "name": "stdout",
     "output_type": "stream",
     "text": [
      "[score_funcs.py get_scores_2d] device cuda ims (12, 224, 224)\n"
     ]
    },
    {
     "name": "stderr",
     "output_type": "stream",
     "text": [
      "100%|██████████| 12/12 [00:00<00:00, 26.91it/s]\n",
      " 20%|██        | 3/15 [00:00<00:00, 27.81it/s]"
     ]
    },
    {
     "name": "stdout",
     "output_type": "stream",
     "text": [
      "[score_funcs.py get_scores_2d] device cuda ims (15, 224, 224)\n"
     ]
    },
    {
     "name": "stderr",
     "output_type": "stream",
     "text": [
      "100%|██████████| 15/15 [00:00<00:00, 27.63it/s]\n",
      " 25%|██▌       | 3/12 [00:00<00:00, 27.84it/s]"
     ]
    },
    {
     "name": "stdout",
     "output_type": "stream",
     "text": [
      "[score_funcs.py get_scores_2d] device cuda ims (12, 224, 224)\n"
     ]
    },
    {
     "name": "stderr",
     "output_type": "stream",
     "text": [
      "100%|██████████| 12/12 [00:00<00:00, 27.65it/s]\n",
      " 50%|█████     | 3/6 [00:00<00:00, 27.89it/s]"
     ]
    },
    {
     "name": "stdout",
     "output_type": "stream",
     "text": [
      "[score_funcs.py get_scores_2d] device cuda ims (6, 224, 224)\n"
     ]
    },
    {
     "name": "stderr",
     "output_type": "stream",
     "text": [
      "100%|██████████| 6/6 [00:00<00:00, 27.74it/s]\n",
      " 12%|█▏        | 3/25 [00:00<00:00, 27.64it/s]"
     ]
    },
    {
     "name": "stdout",
     "output_type": "stream",
     "text": [
      "[score_funcs.py get_scores_2d] device cuda ims (25, 224, 224)\n"
     ]
    },
    {
     "name": "stderr",
     "output_type": "stream",
     "text": [
      "100%|██████████| 25/25 [00:00<00:00, 27.57it/s]\n",
      " 43%|████▎     | 3/7 [00:00<00:00, 27.73it/s]"
     ]
    },
    {
     "name": "stdout",
     "output_type": "stream",
     "text": [
      "[score_funcs.py get_scores_2d] device cuda ims (7, 224, 224)\n"
     ]
    },
    {
     "name": "stderr",
     "output_type": "stream",
     "text": [
      "100%|██████████| 7/7 [00:00<00:00, 27.73it/s]\n",
      "100%|██████████| 4/4 [00:00<00:00, 27.65it/s]\n",
      "  0%|          | 0/9 [00:00<?, ?it/s]"
     ]
    },
    {
     "name": "stdout",
     "output_type": "stream",
     "text": [
      "[score_funcs.py get_scores_2d] device cuda ims (4, 224, 224)\n",
      "[score_funcs.py get_scores_2d] device cuda ims (9, 224, 224)\n"
     ]
    },
    {
     "name": "stderr",
     "output_type": "stream",
     "text": [
      "100%|██████████| 9/9 [00:00<00:00, 27.71it/s]\n",
      "100%|██████████| 1/1 [00:00<00:00, 27.82it/s]\n",
      "100%|██████████| 1/1 [00:00<00:00, 27.23it/s]\n",
      "100%|██████████| 1/1 [00:00<00:00, 27.59it/s]\n",
      "100%|██████████| 1/1 [00:00<00:00, 26.99it/s]\n",
      "100%|██████████| 1/1 [00:00<00:00, 27.19it/s]\n",
      "  0%|          | 0/1 [00:00<?, ?it/s]"
     ]
    },
    {
     "name": "stdout",
     "output_type": "stream",
     "text": [
      "[score_funcs.py get_scores_2d] device cuda ims (1, 224, 224)\n",
      "[score_funcs.py get_scores_2d] device cuda ims (1, 224, 224)\n",
      "[score_funcs.py get_scores_2d] device cuda ims (1, 224, 224)\n",
      "[score_funcs.py get_scores_2d] device cuda ims (1, 224, 224)\n",
      "[score_funcs.py get_scores_2d] device cuda ims (1, 224, 224)\n",
      "[score_funcs.py get_scores_2d] device cuda ims (1, 224, 224)\n"
     ]
    },
    {
     "name": "stderr",
     "output_type": "stream",
     "text": [
      "100%|██████████| 1/1 [00:00<00:00, 27.20it/s]\n",
      "100%|██████████| 1/1 [00:00<00:00, 27.45it/s]\n",
      "100%|██████████| 1/1 [00:00<00:00, 27.34it/s]\n",
      "100%|██████████| 1/1 [00:00<00:00, 27.42it/s]\n",
      "100%|██████████| 1/1 [00:00<00:00, 27.49it/s]\n",
      "100%|██████████| 1/1 [00:00<00:00, 27.50it/s]\n",
      "  0%|          | 0/1 [00:00<?, ?it/s]"
     ]
    },
    {
     "name": "stdout",
     "output_type": "stream",
     "text": [
      "[score_funcs.py get_scores_2d] device cuda ims (1, 224, 224)\n",
      "[score_funcs.py get_scores_2d] device cuda ims (1, 224, 224)\n",
      "[score_funcs.py get_scores_2d] device cuda ims (1, 224, 224)\n",
      "[score_funcs.py get_scores_2d] device cuda ims (1, 224, 224)\n",
      "[score_funcs.py get_scores_2d] device cuda ims (1, 224, 224)\n",
      "[score_funcs.py get_scores_2d] device cuda ims (1, 224, 224)\n"
     ]
    },
    {
     "name": "stderr",
     "output_type": "stream",
     "text": [
      "100%|██████████| 1/1 [00:00<00:00, 26.77it/s]\n",
      "100%|██████████| 1/1 [00:00<00:00, 27.38it/s]\n",
      "100%|██████████| 1/1 [00:00<00:00, 27.44it/s]\n",
      "100%|██████████| 1/1 [00:00<00:00, 27.18it/s]\n",
      "100%|██████████| 1/1 [00:00<00:00, 27.11it/s]\n",
      "100%|██████████| 1/1 [00:00<00:00, 28.01it/s]\n",
      "  0%|          | 0/1 [00:00<?, ?it/s]"
     ]
    },
    {
     "name": "stdout",
     "output_type": "stream",
     "text": [
      "[score_funcs.py get_scores_2d] device cuda ims (1, 224, 224)\n",
      "[score_funcs.py get_scores_2d] device cuda ims (1, 224, 224)\n",
      "[score_funcs.py get_scores_2d] device cuda ims (1, 224, 224)\n",
      "[score_funcs.py get_scores_2d] device cuda ims (1, 224, 224)\n",
      "[score_funcs.py get_scores_2d] device cuda ims (1, 224, 224)\n",
      "[score_funcs.py get_scores_2d] device cuda ims (1, 224, 224)\n"
     ]
    },
    {
     "name": "stderr",
     "output_type": "stream",
     "text": [
      "100%|██████████| 1/1 [00:00<00:00, 27.10it/s]\n",
      "100%|██████████| 1/1 [00:00<00:00, 27.44it/s]\n",
      "100%|██████████| 1/1 [00:00<00:00, 27.21it/s]\n",
      "100%|██████████| 1/1 [00:00<00:00, 27.36it/s]\n",
      "100%|██████████| 1/1 [00:00<00:00, 27.29it/s]\n",
      "100%|██████████| 1/1 [00:00<00:00, 28.06it/s]\n",
      "  0%|          | 0/1 [00:00<?, ?it/s]"
     ]
    },
    {
     "name": "stdout",
     "output_type": "stream",
     "text": [
      "[score_funcs.py get_scores_2d] device cuda ims (1, 224, 224)\n",
      "[score_funcs.py get_scores_2d] device cuda ims (1, 224, 224)\n",
      "[score_funcs.py get_scores_2d] device cuda ims (1, 224, 224)\n",
      "[score_funcs.py get_scores_2d] device cuda ims (1, 224, 224)\n",
      "[score_funcs.py get_scores_2d] device cuda ims (1, 224, 224)\n",
      "[score_funcs.py get_scores_2d] device cuda ims (1, 224, 224)\n"
     ]
    },
    {
     "name": "stderr",
     "output_type": "stream",
     "text": [
      "100%|██████████| 1/1 [00:00<00:00, 27.10it/s]\n",
      "100%|██████████| 1/1 [00:00<00:00, 27.40it/s]\n",
      "100%|██████████| 1/1 [00:00<00:00, 27.86it/s]\n",
      "100%|██████████| 1/1 [00:00<00:00, 27.41it/s]\n",
      "100%|██████████| 1/1 [00:00<00:00, 27.68it/s]\n",
      "100%|██████████| 1/1 [00:00<00:00, 27.55it/s]\n",
      "  0%|          | 0/1 [00:00<?, ?it/s]"
     ]
    },
    {
     "name": "stdout",
     "output_type": "stream",
     "text": [
      "[score_funcs.py get_scores_2d] device cuda ims (1, 224, 224)\n",
      "[score_funcs.py get_scores_2d] device cuda ims (1, 224, 224)\n",
      "[score_funcs.py get_scores_2d] device cuda ims (1, 224, 224)\n",
      "[score_funcs.py get_scores_2d] device cuda ims (1, 224, 224)\n",
      "[score_funcs.py get_scores_2d] device cuda ims (1, 224, 224)\n",
      "[score_funcs.py get_scores_2d] device cuda ims (1, 224, 224)\n"
     ]
    },
    {
     "name": "stderr",
     "output_type": "stream",
     "text": [
      "100%|██████████| 1/1 [00:00<00:00, 27.08it/s]\n",
      "100%|██████████| 1/1 [00:00<00:00, 27.29it/s]\n",
      "100%|██████████| 1/1 [00:00<00:00, 27.97it/s]\n",
      "100%|██████████| 1/1 [00:00<00:00, 27.22it/s]\n",
      "100%|██████████| 1/1 [00:00<00:00, 25.57it/s]\n",
      "100%|██████████| 1/1 [00:00<00:00, 25.36it/s]\n",
      "  0%|          | 0/1 [00:00<?, ?it/s]"
     ]
    },
    {
     "name": "stdout",
     "output_type": "stream",
     "text": [
      "[score_funcs.py get_scores_2d] device cuda ims (1, 224, 224)\n",
      "[score_funcs.py get_scores_2d] device cuda ims (1, 224, 224)\n",
      "[score_funcs.py get_scores_2d] device cuda ims (1, 224, 224)\n",
      "[score_funcs.py get_scores_2d] device cuda ims (1, 224, 224)\n",
      "[score_funcs.py get_scores_2d] device cuda ims (1, 224, 224)\n",
      "[score_funcs.py get_scores_2d] device cuda ims (1, 224, 224)\n"
     ]
    },
    {
     "name": "stderr",
     "output_type": "stream",
     "text": [
      "100%|██████████| 1/1 [00:00<00:00, 24.70it/s]\n",
      "100%|██████████| 1/1 [00:00<00:00, 27.74it/s]\n",
      "100%|██████████| 1/1 [00:00<00:00, 27.25it/s]\n",
      "100%|██████████| 1/1 [00:00<00:00, 27.15it/s]\n",
      "100%|██████████| 1/1 [00:00<00:00, 26.88it/s]\n",
      "100%|██████████| 1/1 [00:00<00:00, 27.40it/s]\n",
      "  0%|          | 0/1 [00:00<?, ?it/s]"
     ]
    },
    {
     "name": "stdout",
     "output_type": "stream",
     "text": [
      "[score_funcs.py get_scores_2d] device cuda ims (1, 224, 224)\n",
      "[score_funcs.py get_scores_2d] device cuda ims (1, 224, 224)\n",
      "[score_funcs.py get_scores_2d] device cuda ims (1, 224, 224)\n",
      "[score_funcs.py get_scores_2d] device cuda ims (1, 224, 224)\n",
      "[score_funcs.py get_scores_2d] device cuda ims (1, 224, 224)\n",
      "[score_funcs.py get_scores_2d] device cuda ims (1, 224, 224)\n"
     ]
    },
    {
     "name": "stderr",
     "output_type": "stream",
     "text": [
      "100%|██████████| 1/1 [00:00<00:00, 27.33it/s]\n",
      "100%|██████████| 1/1 [00:00<00:00, 27.58it/s]\n",
      "100%|██████████| 1/1 [00:00<00:00, 27.48it/s]\n",
      "100%|██████████| 1/1 [00:00<00:00, 27.52it/s]\n",
      "100%|██████████| 1/1 [00:00<00:00, 27.41it/s]\n",
      "100%|██████████| 1/1 [00:00<00:00, 27.02it/s]\n",
      "  0%|          | 0/1 [00:00<?, ?it/s]"
     ]
    },
    {
     "name": "stdout",
     "output_type": "stream",
     "text": [
      "[score_funcs.py get_scores_2d] device cuda ims (1, 224, 224)\n",
      "[score_funcs.py get_scores_2d] device cuda ims (1, 224, 224)\n",
      "[score_funcs.py get_scores_2d] device cuda ims (1, 224, 224)\n",
      "[score_funcs.py get_scores_2d] device cuda ims (1, 224, 224)\n",
      "[score_funcs.py get_scores_2d] device cuda ims (1, 224, 224)\n",
      "[score_funcs.py get_scores_2d] device cuda ims (1, 224, 224)\n"
     ]
    },
    {
     "name": "stderr",
     "output_type": "stream",
     "text": [
      "100%|██████████| 1/1 [00:00<00:00, 27.36it/s]\n",
      "100%|██████████| 1/1 [00:00<00:00, 27.87it/s]\n",
      "100%|██████████| 1/1 [00:00<00:00, 27.19it/s]\n",
      "100%|██████████| 1/1 [00:00<00:00, 27.00it/s]\n",
      "100%|██████████| 1/1 [00:00<00:00, 27.49it/s]\n",
      "100%|██████████| 1/1 [00:00<00:00, 27.07it/s]\n",
      "  0%|          | 0/1 [00:00<?, ?it/s]"
     ]
    },
    {
     "name": "stdout",
     "output_type": "stream",
     "text": [
      "[score_funcs.py get_scores_2d] device cuda ims (1, 224, 224)\n",
      "[score_funcs.py get_scores_2d] device cuda ims (1, 224, 224)\n",
      "[score_funcs.py get_scores_2d] device cuda ims (1, 224, 224)\n",
      "[score_funcs.py get_scores_2d] device cuda ims (1, 224, 224)\n",
      "[score_funcs.py get_scores_2d] device cuda ims (1, 224, 224)\n",
      "[score_funcs.py get_scores_2d] device cuda ims (1, 224, 224)\n"
     ]
    },
    {
     "name": "stderr",
     "output_type": "stream",
     "text": [
      "100%|██████████| 1/1 [00:00<00:00, 27.29it/s]\n",
      "100%|██████████| 1/1 [00:00<00:00, 27.94it/s]\n",
      "100%|██████████| 1/1 [00:00<00:00, 27.21it/s]\n",
      "100%|██████████| 1/1 [00:00<00:00, 27.56it/s]\n",
      "100%|██████████| 1/1 [00:00<00:00, 27.01it/s]\n",
      "100%|██████████| 1/1 [00:00<00:00, 26.95it/s]\n",
      "  0%|          | 0/1 [00:00<?, ?it/s]"
     ]
    },
    {
     "name": "stdout",
     "output_type": "stream",
     "text": [
      "[score_funcs.py get_scores_2d] device cuda ims (1, 224, 224)\n",
      "[score_funcs.py get_scores_2d] device cuda ims (1, 224, 224)\n",
      "[score_funcs.py get_scores_2d] device cuda ims (1, 224, 224)\n",
      "[score_funcs.py get_scores_2d] device cuda ims (1, 224, 224)\n",
      "[score_funcs.py get_scores_2d] device cuda ims (1, 224, 224)\n",
      "[score_funcs.py get_scores_2d] device cuda ims (1, 224, 224)\n"
     ]
    },
    {
     "name": "stderr",
     "output_type": "stream",
     "text": [
      "100%|██████████| 1/1 [00:00<00:00, 27.28it/s]\n",
      "100%|██████████| 1/1 [00:00<00:00, 26.65it/s]\n",
      "100%|██████████| 1/1 [00:00<00:00, 27.34it/s]\n",
      "100%|██████████| 1/1 [00:00<00:00, 27.26it/s]\n",
      "100%|██████████| 1/1 [00:00<00:00, 27.10it/s]\n",
      "100%|██████████| 1/1 [00:00<00:00, 27.43it/s]\n",
      "  0%|          | 0/1 [00:00<?, ?it/s]"
     ]
    },
    {
     "name": "stdout",
     "output_type": "stream",
     "text": [
      "[score_funcs.py get_scores_2d] device cuda ims (1, 224, 224)\n",
      "[score_funcs.py get_scores_2d] device cuda ims (1, 224, 224)\n",
      "[score_funcs.py get_scores_2d] device cuda ims (1, 224, 224)\n",
      "[score_funcs.py get_scores_2d] device cuda ims (1, 224, 224)\n",
      "[score_funcs.py get_scores_2d] device cuda ims (1, 224, 224)\n",
      "[score_funcs.py get_scores_2d] device cuda ims (1, 224, 224)\n"
     ]
    },
    {
     "name": "stderr",
     "output_type": "stream",
     "text": [
      "100%|██████████| 1/1 [00:00<00:00, 27.45it/s]\n",
      "100%|██████████| 1/1 [00:00<00:00, 27.17it/s]\n",
      "100%|██████████| 1/1 [00:00<00:00, 27.10it/s]\n",
      "100%|██████████| 1/1 [00:00<00:00, 27.02it/s]\n",
      "100%|██████████| 1/1 [00:00<00:00, 27.67it/s]\n",
      "100%|██████████| 1/1 [00:00<00:00, 27.24it/s]\n",
      "  0%|          | 0/1 [00:00<?, ?it/s]"
     ]
    },
    {
     "name": "stdout",
     "output_type": "stream",
     "text": [
      "[score_funcs.py get_scores_2d] device cuda ims (1, 224, 224)\n",
      "[score_funcs.py get_scores_2d] device cuda ims (1, 224, 224)\n",
      "[score_funcs.py get_scores_2d] device cuda ims (1, 224, 224)\n",
      "[score_funcs.py get_scores_2d] device cuda ims (1, 224, 224)\n",
      "[score_funcs.py get_scores_2d] device cuda ims (1, 224, 224)\n",
      "[score_funcs.py get_scores_2d] device cuda ims (1, 224, 224)\n"
     ]
    },
    {
     "name": "stderr",
     "output_type": "stream",
     "text": [
      "100%|██████████| 1/1 [00:00<00:00, 27.35it/s]\n",
      "100%|██████████| 1/1 [00:00<00:00, 26.92it/s]\n",
      "100%|██████████| 1/1 [00:00<00:00, 27.99it/s]\n",
      "100%|██████████| 1/1 [00:00<00:00, 27.19it/s]\n",
      "100%|██████████| 1/1 [00:00<00:00, 27.79it/s]\n",
      "100%|██████████| 1/1 [00:00<00:00, 27.75it/s]\n",
      "  0%|          | 0/1 [00:00<?, ?it/s]"
     ]
    },
    {
     "name": "stdout",
     "output_type": "stream",
     "text": [
      "[score_funcs.py get_scores_2d] device cuda ims (1, 224, 224)\n",
      "[score_funcs.py get_scores_2d] device cuda ims (1, 224, 224)\n",
      "[score_funcs.py get_scores_2d] device cuda ims (1, 224, 224)\n",
      "[score_funcs.py get_scores_2d] device cuda ims (1, 224, 224)\n",
      "[score_funcs.py get_scores_2d] device cuda ims (1, 224, 224)\n",
      "[score_funcs.py get_scores_2d] device cuda ims (1, 224, 224)\n"
     ]
    },
    {
     "name": "stderr",
     "output_type": "stream",
     "text": [
      "100%|██████████| 1/1 [00:00<00:00, 27.03it/s]\n",
      "100%|██████████| 1/1 [00:00<00:00, 27.75it/s]\n",
      "100%|██████████| 1/1 [00:00<00:00, 27.88it/s]\n",
      "100%|██████████| 1/1 [00:00<00:00, 27.08it/s]\n",
      "100%|██████████| 1/1 [00:00<00:00, 27.30it/s]\n",
      "100%|██████████| 1/1 [00:00<00:00, 27.34it/s]\n",
      "  0%|          | 0/1 [00:00<?, ?it/s]"
     ]
    },
    {
     "name": "stdout",
     "output_type": "stream",
     "text": [
      "[score_funcs.py get_scores_2d] device cuda ims (1, 224, 224)\n",
      "[score_funcs.py get_scores_2d] device cuda ims (1, 224, 224)\n",
      "[score_funcs.py get_scores_2d] device cuda ims (1, 224, 224)\n",
      "[score_funcs.py get_scores_2d] device cuda ims (1, 224, 224)\n",
      "[score_funcs.py get_scores_2d] device cuda ims (1, 224, 224)\n",
      "[score_funcs.py get_scores_2d] device cuda ims (1, 224, 224)\n"
     ]
    },
    {
     "name": "stderr",
     "output_type": "stream",
     "text": [
      "100%|██████████| 1/1 [00:00<00:00, 27.50it/s]\n",
      "100%|██████████| 1/1 [00:00<00:00, 27.21it/s]\n",
      "100%|██████████| 1/1 [00:00<00:00, 27.21it/s]\n",
      "100%|██████████| 1/1 [00:00<00:00, 27.51it/s]\n",
      "100%|██████████| 1/1 [00:00<00:00, 27.22it/s]\n",
      "100%|██████████| 1/1 [00:00<00:00, 27.51it/s]\n",
      "  0%|          | 0/1 [00:00<?, ?it/s]"
     ]
    },
    {
     "name": "stdout",
     "output_type": "stream",
     "text": [
      "[score_funcs.py get_scores_2d] device cuda ims (1, 224, 224)\n",
      "[score_funcs.py get_scores_2d] device cuda ims (1, 224, 224)\n",
      "[score_funcs.py get_scores_2d] device cuda ims (1, 224, 224)\n",
      "[score_funcs.py get_scores_2d] device cuda ims (1, 224, 224)\n",
      "[score_funcs.py get_scores_2d] device cuda ims (1, 224, 224)\n",
      "[score_funcs.py get_scores_2d] device cuda ims (1, 224, 224)\n"
     ]
    },
    {
     "name": "stderr",
     "output_type": "stream",
     "text": [
      "100%|██████████| 1/1 [00:00<00:00, 27.00it/s]\n",
      "100%|██████████| 1/1 [00:00<00:00, 27.24it/s]\n",
      "100%|██████████| 1/1 [00:00<00:00, 27.32it/s]\n",
      "100%|██████████| 1/1 [00:00<00:00, 27.30it/s]\n",
      "100%|██████████| 1/1 [00:00<00:00, 27.20it/s]\n",
      "100%|██████████| 1/1 [00:00<00:00, 27.89it/s]\n",
      "  0%|          | 0/1 [00:00<?, ?it/s]"
     ]
    },
    {
     "name": "stdout",
     "output_type": "stream",
     "text": [
      "[score_funcs.py get_scores_2d] device cuda ims (1, 224, 224)\n",
      "[score_funcs.py get_scores_2d] device cuda ims (1, 224, 224)\n",
      "[score_funcs.py get_scores_2d] device cuda ims (1, 224, 224)\n",
      "[score_funcs.py get_scores_2d] device cuda ims (1, 224, 224)\n",
      "[score_funcs.py get_scores_2d] device cuda ims (1, 224, 224)\n",
      "[score_funcs.py get_scores_2d] device cuda ims (1, 224, 224)\n"
     ]
    },
    {
     "name": "stderr",
     "output_type": "stream",
     "text": [
      "100%|██████████| 1/1 [00:00<00:00, 27.42it/s]\n",
      "100%|██████████| 1/1 [00:00<00:00, 27.40it/s]\n",
      "100%|██████████| 1/1 [00:00<00:00, 27.39it/s]\n",
      "100%|██████████| 1/1 [00:00<00:00, 27.31it/s]\n",
      "100%|██████████| 1/1 [00:00<00:00, 27.25it/s]\n",
      "100%|██████████| 1/1 [00:00<00:00, 27.60it/s]\n",
      "  0%|          | 0/1 [00:00<?, ?it/s]"
     ]
    },
    {
     "name": "stdout",
     "output_type": "stream",
     "text": [
      "[score_funcs.py get_scores_2d] device cuda ims (1, 224, 224)\n",
      "[score_funcs.py get_scores_2d] device cuda ims (1, 224, 224)\n",
      "[score_funcs.py get_scores_2d] device cuda ims (1, 224, 224)\n",
      "[score_funcs.py get_scores_2d] device cuda ims (1, 224, 224)\n",
      "[score_funcs.py get_scores_2d] device cuda ims (1, 224, 224)\n",
      "[score_funcs.py get_scores_2d] device cuda ims (1, 224, 224)\n"
     ]
    },
    {
     "name": "stderr",
     "output_type": "stream",
     "text": [
      "100%|██████████| 1/1 [00:00<00:00, 27.28it/s]\n",
      "100%|██████████| 1/1 [00:00<00:00, 27.30it/s]\n",
      "100%|██████████| 1/1 [00:00<00:00, 27.23it/s]\n",
      "100%|██████████| 1/1 [00:00<00:00, 27.39it/s]\n",
      "100%|██████████| 1/1 [00:00<00:00, 27.79it/s]\n",
      "100%|██████████| 1/1 [00:00<00:00, 27.50it/s]\n",
      "  0%|          | 0/1 [00:00<?, ?it/s]"
     ]
    },
    {
     "name": "stdout",
     "output_type": "stream",
     "text": [
      "[score_funcs.py get_scores_2d] device cuda ims (1, 224, 224)\n",
      "[score_funcs.py get_scores_2d] device cuda ims (1, 224, 224)\n",
      "[score_funcs.py get_scores_2d] device cuda ims (1, 224, 224)\n",
      "[score_funcs.py get_scores_2d] device cuda ims (1, 224, 224)\n",
      "[score_funcs.py get_scores_2d] device cuda ims (1, 224, 224)\n",
      "[score_funcs.py get_scores_2d] device cuda ims (1, 224, 224)\n"
     ]
    },
    {
     "name": "stderr",
     "output_type": "stream",
     "text": [
      "100%|██████████| 1/1 [00:00<00:00, 27.03it/s]\n",
      "100%|██████████| 1/1 [00:00<00:00, 27.41it/s]\n",
      "100%|██████████| 1/1 [00:00<00:00, 26.70it/s]\n",
      "100%|██████████| 1/1 [00:00<00:00, 27.15it/s]\n",
      "100%|██████████| 1/1 [00:00<00:00, 26.84it/s]\n",
      "100%|██████████| 1/1 [00:00<00:00, 27.18it/s]\n",
      "  0%|          | 0/1 [00:00<?, ?it/s]"
     ]
    },
    {
     "name": "stdout",
     "output_type": "stream",
     "text": [
      "[score_funcs.py get_scores_2d] device cuda ims (1, 224, 224)\n",
      "[score_funcs.py get_scores_2d] device cuda ims (1, 224, 224)\n",
      "[score_funcs.py get_scores_2d] device cuda ims (1, 224, 224)\n",
      "[score_funcs.py get_scores_2d] device cuda ims (1, 224, 224)\n",
      "[score_funcs.py get_scores_2d] device cuda ims (1, 224, 224)\n",
      "[score_funcs.py get_scores_2d] device cuda ims (1, 224, 224)\n"
     ]
    },
    {
     "name": "stderr",
     "output_type": "stream",
     "text": [
      "100%|██████████| 1/1 [00:00<00:00, 26.40it/s]\n",
      "100%|██████████| 1/1 [00:00<00:00, 27.57it/s]\n",
      "100%|██████████| 1/1 [00:00<00:00, 27.64it/s]\n",
      "100%|██████████| 1/1 [00:00<00:00, 27.71it/s]\n",
      "100%|██████████| 1/1 [00:00<00:00, 27.49it/s]\n",
      "100%|██████████| 1/1 [00:00<00:00, 27.27it/s]\n",
      "  0%|          | 0/1 [00:00<?, ?it/s]"
     ]
    },
    {
     "name": "stdout",
     "output_type": "stream",
     "text": [
      "[score_funcs.py get_scores_2d] device cuda ims (1, 224, 224)\n",
      "[score_funcs.py get_scores_2d] device cuda ims (1, 224, 224)\n",
      "[score_funcs.py get_scores_2d] device cuda ims (1, 224, 224)\n",
      "[score_funcs.py get_scores_2d] device cuda ims (1, 224, 224)\n",
      "[score_funcs.py get_scores_2d] device cuda ims (1, 224, 224)\n",
      "[score_funcs.py get_scores_2d] device cuda ims (1, 224, 224)\n"
     ]
    },
    {
     "name": "stderr",
     "output_type": "stream",
     "text": [
      "100%|██████████| 1/1 [00:00<00:00, 27.53it/s]\n",
      "100%|██████████| 1/1 [00:00<00:00, 27.33it/s]\n",
      "100%|██████████| 1/1 [00:00<00:00, 27.60it/s]\n",
      "100%|██████████| 1/1 [00:00<00:00, 27.73it/s]\n",
      "100%|██████████| 1/1 [00:00<00:00, 27.41it/s]\n",
      "100%|██████████| 1/1 [00:00<00:00, 27.51it/s]\n",
      "  0%|          | 0/1 [00:00<?, ?it/s]"
     ]
    },
    {
     "name": "stdout",
     "output_type": "stream",
     "text": [
      "[score_funcs.py get_scores_2d] device cuda ims (1, 224, 224)\n",
      "[score_funcs.py get_scores_2d] device cuda ims (1, 224, 224)\n",
      "[score_funcs.py get_scores_2d] device cuda ims (1, 224, 224)\n",
      "[score_funcs.py get_scores_2d] device cuda ims (1, 224, 224)\n",
      "[score_funcs.py get_scores_2d] device cuda ims (1, 224, 224)\n",
      "[score_funcs.py get_scores_2d] device cuda ims (1, 224, 224)\n"
     ]
    },
    {
     "name": "stderr",
     "output_type": "stream",
     "text": [
      "100%|██████████| 1/1 [00:00<00:00, 26.97it/s]\n",
      "100%|██████████| 1/1 [00:00<00:00, 27.03it/s]\n",
      "100%|██████████| 1/1 [00:00<00:00, 27.74it/s]\n",
      "100%|██████████| 1/1 [00:00<00:00, 27.16it/s]\n",
      "100%|██████████| 1/1 [00:00<00:00, 27.85it/s]\n",
      "100%|██████████| 1/1 [00:00<00:00, 27.49it/s]\n",
      "  0%|          | 0/1 [00:00<?, ?it/s]"
     ]
    },
    {
     "name": "stdout",
     "output_type": "stream",
     "text": [
      "[score_funcs.py get_scores_2d] device cuda ims (1, 224, 224)\n",
      "[score_funcs.py get_scores_2d] device cuda ims (1, 224, 224)\n",
      "[score_funcs.py get_scores_2d] device cuda ims (1, 224, 224)\n",
      "[score_funcs.py get_scores_2d] device cuda ims (1, 224, 224)\n",
      "[score_funcs.py get_scores_2d] device cuda ims (1, 224, 224)\n",
      "[score_funcs.py get_scores_2d] device cuda ims (1, 224, 224)\n"
     ]
    },
    {
     "name": "stderr",
     "output_type": "stream",
     "text": [
      "100%|██████████| 1/1 [00:00<00:00, 27.54it/s]\n",
      "100%|██████████| 1/1 [00:00<00:00, 27.55it/s]\n",
      "100%|██████████| 1/1 [00:00<00:00, 27.27it/s]\n",
      "100%|██████████| 1/1 [00:00<00:00, 27.46it/s]\n",
      "100%|██████████| 1/1 [00:00<00:00, 27.11it/s]\n",
      "100%|██████████| 1/1 [00:00<00:00, 27.43it/s]\n",
      "  0%|          | 0/1 [00:00<?, ?it/s]"
     ]
    },
    {
     "name": "stdout",
     "output_type": "stream",
     "text": [
      "[score_funcs.py get_scores_2d] device cuda ims (1, 224, 224)\n",
      "[score_funcs.py get_scores_2d] device cuda ims (1, 224, 224)\n",
      "[score_funcs.py get_scores_2d] device cuda ims (1, 224, 224)\n",
      "[score_funcs.py get_scores_2d] device cuda ims (1, 224, 224)\n",
      "[score_funcs.py get_scores_2d] device cuda ims (1, 224, 224)\n",
      "[score_funcs.py get_scores_2d] device cuda ims (1, 224, 224)\n"
     ]
    },
    {
     "name": "stderr",
     "output_type": "stream",
     "text": [
      "100%|██████████| 1/1 [00:00<00:00, 27.40it/s]\n",
      "100%|██████████| 1/1 [00:00<00:00, 27.22it/s]\n",
      "100%|██████████| 1/1 [00:00<00:00, 27.01it/s]\n",
      "100%|██████████| 1/1 [00:00<00:00, 26.89it/s]\n",
      "100%|██████████| 1/1 [00:00<00:00, 27.59it/s]\n",
      "100%|██████████| 1/1 [00:00<00:00, 27.14it/s]\n",
      "  0%|          | 0/1 [00:00<?, ?it/s]"
     ]
    },
    {
     "name": "stdout",
     "output_type": "stream",
     "text": [
      "[score_funcs.py get_scores_2d] device cuda ims (1, 224, 224)\n",
      "[score_funcs.py get_scores_2d] device cuda ims (1, 224, 224)\n",
      "[score_funcs.py get_scores_2d] device cuda ims (1, 224, 224)\n",
      "[score_funcs.py get_scores_2d] device cuda ims (1, 224, 224)\n",
      "[score_funcs.py get_scores_2d] device cuda ims (1, 224, 224)\n",
      "[score_funcs.py get_scores_2d] device cuda ims (1, 224, 224)\n"
     ]
    },
    {
     "name": "stderr",
     "output_type": "stream",
     "text": [
      "100%|██████████| 1/1 [00:00<00:00, 27.26it/s]\n",
      "100%|██████████| 1/1 [00:00<00:00, 27.25it/s]\n",
      "100%|██████████| 1/1 [00:00<00:00, 27.62it/s]\n",
      "100%|██████████| 1/1 [00:00<00:00, 27.22it/s]\n",
      "100%|██████████| 1/1 [00:00<00:00, 27.71it/s]\n",
      "100%|██████████| 1/1 [00:00<00:00, 27.40it/s]\n",
      "  0%|          | 0/1 [00:00<?, ?it/s]"
     ]
    },
    {
     "name": "stdout",
     "output_type": "stream",
     "text": [
      "[score_funcs.py get_scores_2d] device cuda ims (1, 224, 224)\n",
      "[score_funcs.py get_scores_2d] device cuda ims (1, 224, 224)\n",
      "[score_funcs.py get_scores_2d] device cuda ims (1, 224, 224)\n",
      "[score_funcs.py get_scores_2d] device cuda ims (1, 224, 224)\n",
      "[score_funcs.py get_scores_2d] device cuda ims (1, 224, 224)\n",
      "[score_funcs.py get_scores_2d] device cuda ims (1, 224, 224)\n"
     ]
    },
    {
     "name": "stderr",
     "output_type": "stream",
     "text": [
      "100%|██████████| 1/1 [00:00<00:00, 27.25it/s]\n",
      "100%|██████████| 1/1 [00:00<00:00, 27.50it/s]\n",
      "100%|██████████| 1/1 [00:00<00:00, 27.40it/s]\n",
      "100%|██████████| 1/1 [00:00<00:00, 27.59it/s]\n",
      "100%|██████████| 1/1 [00:00<00:00, 27.33it/s]\n",
      "100%|██████████| 1/1 [00:00<00:00, 27.10it/s]\n",
      "  0%|          | 0/1 [00:00<?, ?it/s]"
     ]
    },
    {
     "name": "stdout",
     "output_type": "stream",
     "text": [
      "[score_funcs.py get_scores_2d] device cuda ims (1, 224, 224)\n",
      "[score_funcs.py get_scores_2d] device cuda ims (1, 224, 224)\n",
      "[score_funcs.py get_scores_2d] device cuda ims (1, 224, 224)\n",
      "[score_funcs.py get_scores_2d] device cuda ims (1, 224, 224)\n",
      "[score_funcs.py get_scores_2d] device cuda ims (1, 224, 224)\n",
      "[score_funcs.py get_scores_2d] device cuda ims (1, 224, 224)\n"
     ]
    },
    {
     "name": "stderr",
     "output_type": "stream",
     "text": [
      "100%|██████████| 1/1 [00:00<00:00, 27.43it/s]\n",
      "100%|██████████| 1/1 [00:00<00:00, 27.66it/s]\n",
      "100%|██████████| 1/1 [00:00<00:00, 27.22it/s]\n",
      "100%|██████████| 1/1 [00:00<00:00, 27.42it/s]\n",
      "100%|██████████| 1/1 [00:00<00:00, 27.23it/s]\n",
      "100%|██████████| 1/1 [00:00<00:00, 27.23it/s]\n",
      "  0%|          | 0/1 [00:00<?, ?it/s]"
     ]
    },
    {
     "name": "stdout",
     "output_type": "stream",
     "text": [
      "[score_funcs.py get_scores_2d] device cuda ims (1, 224, 224)\n",
      "[score_funcs.py get_scores_2d] device cuda ims (1, 224, 224)\n",
      "[score_funcs.py get_scores_2d] device cuda ims (1, 224, 224)\n",
      "[score_funcs.py get_scores_2d] device cuda ims (1, 224, 224)\n",
      "[score_funcs.py get_scores_2d] device cuda ims (1, 224, 224)\n",
      "[score_funcs.py get_scores_2d] device cuda ims (1, 224, 224)\n"
     ]
    },
    {
     "name": "stderr",
     "output_type": "stream",
     "text": [
      "100%|██████████| 1/1 [00:00<00:00, 27.27it/s]\n",
      "100%|██████████| 1/1 [00:00<00:00, 27.53it/s]\n",
      "100%|██████████| 1/1 [00:00<00:00, 27.33it/s]\n",
      "100%|██████████| 1/1 [00:00<00:00, 27.87it/s]\n",
      "100%|██████████| 1/1 [00:00<00:00, 27.43it/s]\n",
      "100%|██████████| 1/1 [00:00<00:00, 27.27it/s]\n",
      "  0%|          | 0/1 [00:00<?, ?it/s]"
     ]
    },
    {
     "name": "stdout",
     "output_type": "stream",
     "text": [
      "[score_funcs.py get_scores_2d] device cuda ims (1, 224, 224)\n",
      "[score_funcs.py get_scores_2d] device cuda ims (1, 224, 224)\n",
      "[score_funcs.py get_scores_2d] device cuda ims (1, 224, 224)\n",
      "[score_funcs.py get_scores_2d] device cuda ims (1, 224, 224)\n",
      "[score_funcs.py get_scores_2d] device cuda ims (1, 224, 224)\n",
      "[score_funcs.py get_scores_2d] device cuda ims (1, 224, 224)\n"
     ]
    },
    {
     "name": "stderr",
     "output_type": "stream",
     "text": [
      "100%|██████████| 1/1 [00:00<00:00, 26.66it/s]\n",
      "100%|██████████| 1/1 [00:00<00:00, 27.78it/s]\n",
      "100%|██████████| 1/1 [00:00<00:00, 27.24it/s]\n",
      "100%|██████████| 1/1 [00:00<00:00, 26.80it/s]\n",
      "100%|██████████| 1/1 [00:00<00:00, 27.41it/s]\n",
      "100%|██████████| 1/1 [00:00<00:00, 27.35it/s]\n",
      "  0%|          | 0/1 [00:00<?, ?it/s]"
     ]
    },
    {
     "name": "stdout",
     "output_type": "stream",
     "text": [
      "[score_funcs.py get_scores_2d] device cuda ims (1, 224, 224)\n",
      "[score_funcs.py get_scores_2d] device cuda ims (1, 224, 224)\n",
      "[score_funcs.py get_scores_2d] device cuda ims (1, 224, 224)\n",
      "[score_funcs.py get_scores_2d] device cuda ims (1, 224, 224)\n",
      "[score_funcs.py get_scores_2d] device cuda ims (1, 224, 224)\n",
      "[score_funcs.py get_scores_2d] device cuda ims (1, 224, 224)\n"
     ]
    },
    {
     "name": "stderr",
     "output_type": "stream",
     "text": [
      "100%|██████████| 1/1 [00:00<00:00, 26.93it/s]\n",
      "100%|██████████| 1/1 [00:00<00:00, 27.33it/s]\n",
      "100%|██████████| 1/1 [00:00<00:00, 27.49it/s]\n",
      "100%|██████████| 1/1 [00:00<00:00, 27.44it/s]\n",
      "100%|██████████| 1/1 [00:00<00:00, 27.27it/s]\n",
      "100%|██████████| 1/1 [00:00<00:00, 27.88it/s]\n",
      "  0%|          | 0/1 [00:00<?, ?it/s]"
     ]
    },
    {
     "name": "stdout",
     "output_type": "stream",
     "text": [
      "[score_funcs.py get_scores_2d] device cuda ims (1, 224, 224)\n",
      "[score_funcs.py get_scores_2d] device cuda ims (1, 224, 224)\n",
      "[score_funcs.py get_scores_2d] device cuda ims (1, 224, 224)\n",
      "[score_funcs.py get_scores_2d] device cuda ims (1, 224, 224)\n",
      "[score_funcs.py get_scores_2d] device cuda ims (1, 224, 224)\n",
      "[score_funcs.py get_scores_2d] device cuda ims (1, 224, 224)\n"
     ]
    },
    {
     "name": "stderr",
     "output_type": "stream",
     "text": [
      "100%|██████████| 1/1 [00:00<00:00, 27.24it/s]\n",
      "100%|██████████| 1/1 [00:00<00:00, 27.23it/s]\n",
      "100%|██████████| 1/1 [00:00<00:00, 27.31it/s]\n",
      "100%|██████████| 1/1 [00:00<00:00, 27.72it/s]\n",
      "100%|██████████| 1/1 [00:00<00:00, 27.35it/s]\n",
      "100%|██████████| 1/1 [00:00<00:00, 27.25it/s]\n",
      "  0%|          | 0/1 [00:00<?, ?it/s]"
     ]
    },
    {
     "name": "stdout",
     "output_type": "stream",
     "text": [
      "[score_funcs.py get_scores_2d] device cuda ims (1, 224, 224)\n",
      "[score_funcs.py get_scores_2d] device cuda ims (1, 224, 224)\n",
      "[score_funcs.py get_scores_2d] device cuda ims (1, 224, 224)\n",
      "[score_funcs.py get_scores_2d] device cuda ims (1, 224, 224)\n",
      "[score_funcs.py get_scores_2d] device cuda ims (1, 224, 224)\n",
      "[score_funcs.py get_scores_2d] device cuda ims (1, 224, 224)\n"
     ]
    },
    {
     "name": "stderr",
     "output_type": "stream",
     "text": [
      "100%|██████████| 1/1 [00:00<00:00, 27.90it/s]\n",
      "100%|██████████| 1/1 [00:00<00:00, 27.32it/s]\n",
      "100%|██████████| 1/1 [00:00<00:00, 27.31it/s]\n",
      "100%|██████████| 1/1 [00:00<00:00, 27.59it/s]\n",
      "100%|██████████| 1/1 [00:00<00:00, 27.65it/s]\n",
      "100%|██████████| 1/1 [00:00<00:00, 27.04it/s]\n",
      "  0%|          | 0/1 [00:00<?, ?it/s]"
     ]
    },
    {
     "name": "stdout",
     "output_type": "stream",
     "text": [
      "[score_funcs.py get_scores_2d] device cuda ims (1, 224, 224)\n",
      "[score_funcs.py get_scores_2d] device cuda ims (1, 224, 224)\n",
      "[score_funcs.py get_scores_2d] device cuda ims (1, 224, 224)\n",
      "[score_funcs.py get_scores_2d] device cuda ims (1, 224, 224)\n",
      "[score_funcs.py get_scores_2d] device cuda ims (1, 224, 224)\n",
      "[score_funcs.py get_scores_2d] device cuda ims (1, 224, 224)\n"
     ]
    },
    {
     "name": "stderr",
     "output_type": "stream",
     "text": [
      "100%|██████████| 1/1 [00:00<00:00, 27.13it/s]\n",
      "100%|██████████| 1/1 [00:00<00:00, 27.56it/s]\n",
      "100%|██████████| 1/1 [00:00<00:00, 27.72it/s]\n",
      "100%|██████████| 1/1 [00:00<00:00, 26.82it/s]\n",
      "100%|██████████| 1/1 [00:00<00:00, 27.16it/s]\n",
      "100%|██████████| 1/1 [00:00<00:00, 27.51it/s]\n",
      "  0%|          | 0/1 [00:00<?, ?it/s]"
     ]
    },
    {
     "name": "stdout",
     "output_type": "stream",
     "text": [
      "[score_funcs.py get_scores_2d] device cuda ims (1, 224, 224)\n",
      "[score_funcs.py get_scores_2d] device cuda ims (1, 224, 224)\n",
      "[score_funcs.py get_scores_2d] device cuda ims (1, 224, 224)\n",
      "[score_funcs.py get_scores_2d] device cuda ims (1, 224, 224)\n",
      "[score_funcs.py get_scores_2d] device cuda ims (1, 224, 224)\n",
      "[score_funcs.py get_scores_2d] device cuda ims (1, 224, 224)\n"
     ]
    },
    {
     "name": "stderr",
     "output_type": "stream",
     "text": [
      "100%|██████████| 1/1 [00:00<00:00, 27.41it/s]\n",
      "100%|██████████| 1/1 [00:00<00:00, 27.29it/s]\n",
      "100%|██████████| 1/1 [00:00<00:00, 27.47it/s]\n",
      "100%|██████████| 1/1 [00:00<00:00, 27.78it/s]\n",
      "100%|██████████| 1/1 [00:00<00:00, 27.60it/s]\n",
      "100%|██████████| 1/1 [00:00<00:00, 27.31it/s]\n",
      "  0%|          | 0/1 [00:00<?, ?it/s]"
     ]
    },
    {
     "name": "stdout",
     "output_type": "stream",
     "text": [
      "[score_funcs.py get_scores_2d] device cuda ims (1, 224, 224)\n",
      "[score_funcs.py get_scores_2d] device cuda ims (1, 224, 224)\n",
      "[score_funcs.py get_scores_2d] device cuda ims (1, 224, 224)\n",
      "[score_funcs.py get_scores_2d] device cuda ims (1, 224, 224)\n",
      "[score_funcs.py get_scores_2d] device cuda ims (1, 224, 224)\n",
      "[score_funcs.py get_scores_2d] device cuda ims (1, 224, 224)\n"
     ]
    },
    {
     "name": "stderr",
     "output_type": "stream",
     "text": [
      "100%|██████████| 1/1 [00:00<00:00, 27.34it/s]\n",
      "100%|██████████| 1/1 [00:00<00:00, 27.53it/s]\n",
      "100%|██████████| 1/1 [00:00<00:00, 27.60it/s]\n",
      "100%|██████████| 1/1 [00:00<00:00, 27.22it/s]\n",
      "100%|██████████| 1/1 [00:00<00:00, 27.25it/s]\n",
      "100%|██████████| 1/1 [00:00<00:00, 27.36it/s]\n",
      "  0%|          | 0/1 [00:00<?, ?it/s]"
     ]
    },
    {
     "name": "stdout",
     "output_type": "stream",
     "text": [
      "[score_funcs.py get_scores_2d] device cuda ims (1, 224, 224)\n",
      "[score_funcs.py get_scores_2d] device cuda ims (1, 224, 224)\n",
      "[score_funcs.py get_scores_2d] device cuda ims (1, 224, 224)\n",
      "[score_funcs.py get_scores_2d] device cuda ims (1, 224, 224)\n",
      "[score_funcs.py get_scores_2d] device cuda ims (1, 224, 224)\n",
      "[score_funcs.py get_scores_2d] device cuda ims (1, 224, 224)\n"
     ]
    },
    {
     "name": "stderr",
     "output_type": "stream",
     "text": [
      "100%|██████████| 1/1 [00:00<00:00, 26.53it/s]\n",
      "100%|██████████| 1/1 [00:00<00:00, 27.60it/s]\n",
      "100%|██████████| 1/1 [00:00<00:00, 27.28it/s]\n",
      "100%|██████████| 1/1 [00:00<00:00, 27.14it/s]\n",
      "100%|██████████| 1/1 [00:00<00:00, 27.20it/s]\n",
      "100%|██████████| 1/1 [00:00<00:00, 27.51it/s]\n",
      "  0%|          | 0/1 [00:00<?, ?it/s]"
     ]
    },
    {
     "name": "stdout",
     "output_type": "stream",
     "text": [
      "[score_funcs.py get_scores_2d] device cuda ims (1, 224, 224)\n",
      "[score_funcs.py get_scores_2d] device cuda ims (1, 224, 224)\n",
      "[score_funcs.py get_scores_2d] device cuda ims (1, 224, 224)\n",
      "[score_funcs.py get_scores_2d] device cuda ims (1, 224, 224)\n",
      "[score_funcs.py get_scores_2d] device cuda ims (1, 224, 224)\n",
      "[score_funcs.py get_scores_2d] device cuda ims (1, 224, 224)\n"
     ]
    },
    {
     "name": "stderr",
     "output_type": "stream",
     "text": [
      "100%|██████████| 1/1 [00:00<00:00, 27.37it/s]\n",
      "100%|██████████| 1/1 [00:00<00:00, 27.48it/s]\n",
      "100%|██████████| 1/1 [00:00<00:00, 27.26it/s]\n",
      "100%|██████████| 1/1 [00:00<00:00, 27.16it/s]\n",
      "100%|██████████| 1/1 [00:00<00:00, 27.68it/s]\n"
     ]
    },
    {
     "name": "stdout",
     "output_type": "stream",
     "text": [
      "[score_funcs.py get_scores_2d] device cuda ims (1, 224, 224)\n",
      "[score_funcs.py get_scores_2d] device cuda ims (1, 224, 224)\n",
      "[score_funcs.py get_scores_2d] device cuda ims (1, 224, 224)\n",
      "[score_funcs.py get_scores_2d] device cuda ims (1, 224, 224)\n",
      "key_num val_14 agg.agglomerate\n"
     ]
    },
    {
     "name": "stderr",
     "output_type": "stream",
     "text": [
      "  1%|          | 3/256 [00:00<00:09, 25.42it/s]"
     ]
    },
    {
     "name": "stdout",
     "output_type": "stream",
     "text": [
      "========================\n",
      "idx_jpg 5 key_num val_15\n",
      "im_orig 0.8828705636939655 0.0 (224, 224, 3)\n",
      "im_torch torch.Size([1, 3, 224, 224])\n",
      "key_num val_15 lab_pred\n",
      "[agg_2d.py agglomerate] im_orig (224, 224, 3)\n",
      "[agg_2d.py agglomerate] device cuda tiles 256\n",
      "[score_funcs.py get_scores_2d] device cuda ims (256, 224, 224)\n"
     ]
    },
    {
     "name": "stderr",
     "output_type": "stream",
     "text": [
      " 39%|███▊      | 99/256 [00:03<00:05, 27.79it/s]"
     ]
    }
   ],
   "source": [
    "# hyperparameters\n",
    "num_iters = 5 # number of iterations to agglomerate before merging remaning blobs (fig uses 4)\n",
    "percentile_include = 95 # values above this percentile will be added at each iteration (fig uses 95)\n",
    "method = 'cd' # method to rank importance ('cd' works best, 'build_up' or 'occlusion' are simplest)\n",
    "sweep_dim = 14 # importances are calculated by blocks of sweep_dim x sweep_dim (14 yields good results for imagenet)\n",
    "# \n",
    "# L = glob.glob('/home/yezheng/github/ExtremeNet/images/*.jpg')\n",
    "L = glob.glob('/home/yezheng/github/acd/imagenet/tiny-imagenet-200/val/images/*.JPEG')\n",
    "if [] == L:\n",
    "    L = glob.glob('/Users/yezheng/github/ExtremeNet/images/*.jpg')\n",
    "L.sort()\n",
    "print(\"L\", L)\n",
    "for idx_jpg, key_num in enumerate(L):\n",
    "    im_orig = cv2.imread(key_num)/255\n",
    "    \n",
    "    key_num = key_num.split('/')[-1].split('.')[-2]\n",
    "    print(\"========================\")\n",
    "    print(\"idx_jpg\", idx_jpg, \"key_num\", key_num)\n",
    "    try:\n",
    "        im_orig = cv2.resize(im_orig, dsize = (224,224) )\n",
    "\n",
    "        im_torch = torch.from_numpy(im_orig).permute(2,0,1).float()[None,...]\n",
    "        print(\"im_orig\", np.max(im_orig), np.min(im_orig),im_orig.shape)\n",
    "        print(\"im_torch\", im_torch.shape)\n",
    "        lab_pred = np.argmax(dset.pred_ims(model, np.copy(im_orig)))\n",
    "        print(\"key_num\",key_num,\"lab_pred\")\n",
    "        lists = agg.agglomerate(model, dset.pred_ims, percentile_include, method, sweep_dim, im_orig, \n",
    "                                lab_pred, num_iters=num_iters, im_torch=im_torch, model_type=model_type, device = device)        \n",
    "        print(\"key_num\",key_num,\"agg.agglomerate\")\n",
    "\n",
    "        # visualize\n",
    "        plt.figure(figsize=(12, 5), facecolor='white', dpi=100)\n",
    "        rows = 3      \n",
    "        num_ims = len(lists['scores_list'])\n",
    "\n",
    "        # original plots\n",
    "        lab_num_correct = 0\n",
    "        ind, labs = viz.visualize_original_preds(im_orig, lab_num_correct, \n",
    "                                                     lists['comp_scores_raw_list'], lists['scores_orig_raw'],\n",
    "                                                     subplot_rows=rows, dset=dset, key_num  =key_num)\n",
    "\n",
    "        # comp plots\n",
    "        viz.visualize_ims_list(lists['comps_list'],\n",
    "                              title='Chosen blobs',\n",
    "                              subplot_row=1, subplot_rows=rows, colorbar=False, im_orig=im_orig, plot_overlay=True, key_num  =key_num)\n",
    "\n",
    "        # dict plots\n",
    "        viz.visualize_dict_list_top(lists['comp_scores_raw_list'], method,\n",
    "                               subplot_row=2, subplot_rows=rows, ind=ind, labs=labs, use_orig_top=True, key_num  =key_num)\n",
    "    except Exception as e: \n",
    "        print(\"ERROR\",e)"
   ]
  },
  {
   "cell_type": "code",
   "execution_count": null,
   "metadata": {},
   "outputs": [],
   "source": [
    "print(\"Done!\")"
   ]
  }
 ],
 "metadata": {
  "kernelspec": {
   "display_name": "Python 3",
   "language": "python",
   "name": "python3"
  },
  "language_info": {
   "codemirror_mode": {
    "name": "ipython",
    "version": 3
   },
   "file_extension": ".py",
   "mimetype": "text/x-python",
   "name": "python",
   "nbconvert_exporter": "python",
   "pygments_lexer": "ipython3",
   "version": "3.7.1"
  }
 },
 "nbformat": 4,
 "nbformat_minor": 2
}
