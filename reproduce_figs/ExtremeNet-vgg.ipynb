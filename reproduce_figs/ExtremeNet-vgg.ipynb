{
 "cells": [
  {
   "cell_type": "code",
   "execution_count": 1,
   "metadata": {},
   "outputs": [
    {
     "name": "stdout",
     "output_type": "stream",
     "text": [
      "device cpu\n",
      "imnet_dict dict_keys([32, 34, 20, 9, 10, 36])\n"
     ]
    }
   ],
   "source": [
    "%load_ext autoreload\n",
    "%autoreload 2\n",
    "%matplotlib inline\n",
    "import numpy as np\n",
    "import sys\n",
    "import matplotlib.pyplot as plt\n",
    "import torch\n",
    "import cv2\n",
    "sys.path.append('..')\n",
    "sys.path.append('../visualization')\n",
    "sys.path.append('../acd/util')\n",
    "sys.path.append('../acd/scores')\n",
    "sys.path.append('../acd/agglomeration')\n",
    "\n",
    "import tiling_2d as tiling\n",
    "import agg_2d as agg\n",
    "import cd\n",
    "import score_funcs\n",
    "device = 'cuda' if torch.cuda.is_available() else 'cpu'\n",
    "print(\"device\", device)\n",
    "# get dataset\n",
    "import pickle as pkl\n",
    "from dsets.imagenet import dset\n",
    "imnet_dict = pkl.load(open('../dsets/imagenet/imnet_dict.pkl', 'rb')) # contains 6 images (keys: 9, 10, 34, 20, 36, 32)\n",
    "\n",
    "print(\"imnet_dict\", imnet_dict.keys())\n",
    "#----\n",
    "# for idx, t in enumerate(imnet_dict[9]):\n",
    "#     print(\"idx\", idx, \"imnet_dict[9]\",type(t), t.shape ,t)\n",
    "#----\n",
    "# get model\n",
    "from torchvision import models\n",
    "model = models.vgg16(pretrained=True).to(device).eval()\n",
    "model_type='vgg' # alexnet, vgg"
   ]
  },
  {
   "cell_type": "code",
   "execution_count": null,
   "metadata": {},
   "outputs": [
    {
     "name": "stdout",
     "output_type": "stream",
     "text": [
      "im_orig 0.9945181197478992 0.0 (224, 224, 3)\n",
      "im_torch torch.Size([1, 3, 224, 224])\n"
     ]
    },
    {
     "name": "stderr",
     "output_type": "stream",
     "text": [
      "\r",
      "  0%|          | 0/256 [00:00<?, ?it/s]"
     ]
    },
    {
     "name": "stdout",
     "output_type": "stream",
     "text": [
      "key_num /Users/yezheng/github/ExtremeNet/images/16004479832_a748d55f21_k lab_pred\n",
      "[agg_2d.py agglomerate] im_orig (224, 224, 3)\n",
      "[agg_2d.py agglomerate] device cpu tiles 256\n",
      "[score_funcs.py get_scores_2d] device cpu ims (256, 224, 224)\n"
     ]
    },
    {
     "name": "stderr",
     "output_type": "stream",
     "text": [
      " 15%|█▌        | 39/256 [01:23<07:45,  2.14s/it]"
     ]
    }
   ],
   "source": [
    "# hyperparameters\n",
    "num_iters = 5 # number of iterations to agglomerate before merging remaning blobs (fig uses 4)\n",
    "percentile_include = 95 # values above this percentile will be added at each iteration (fig uses 95)\n",
    "method = 'cd' # method to rank importance ('cd' works best, 'build_up' or 'occlusion' are simplest)\n",
    "sweep_dim = 14 # importances are calculated by blocks of sweep_dim x sweep_dim (14 yields good results for imagenet)\n",
    "key_num = '/Users/yezheng/github/ExtremeNet/images/16004479832_a748d55f21_k'\n",
    "im_orig = cv2.imread(key_num + \".jpg\")/255\n",
    "im_orig = cv2.resize(im_orig, dsize = (224,224) )\n",
    "\n",
    "im_torch = torch.from_numpy(im_orig).permute(2,0,1).float()[None,...]\n",
    "print(\"im_orig\", np.max(im_orig), np.min(im_orig),im_orig.shape)\n",
    "print(\"im_torch\", im_torch.shape)\n",
    "lab_pred = np.argmax(dset.pred_ims(model, np.copy(im_orig)))\n",
    "print(\"key_num\",key_num,\"lab_pred\")\n",
    "lists = agg.agglomerate(model, dset.pred_ims, percentile_include, method, sweep_dim, im_orig, \n",
    "                        lab_pred, num_iters=num_iters, im_torch=im_torch, model_type=model_type, device = device)        \n",
    "print(\"key_num\",key_num,\"agg.agglomerate\")\n",
    "\n",
    "# visualize\n",
    "plt.figure(figsize=(12, 5), facecolor='white', dpi=100)\n",
    "rows = 3      \n",
    "num_ims = len(lists['scores_list'])\n",
    "import viz_2d as viz\n",
    "#     # original plots\n",
    "#     ind, labs = viz.visualize_original_preds(im_orig, lab_num_correct, \n",
    "#                                              lists['comp_scores_raw_list'], lists['scores_orig_raw'],\n",
    "#                                              subplot_rows=rows, dset=dset, key_num  =key_num)\n",
    "\n",
    "# comp plots\n",
    "viz.visualize_ims_list(lists['comps_list'],\n",
    "                      title='Chosen blobs',\n",
    "                      subplot_row=1, subplot_rows=rows, colorbar=False, im_orig=im_orig, plot_overlay=True, key_num  =key_num)\n",
    "\n",
    "# dict plots\n",
    "viz.visualize_dict_list_top(lists['comp_scores_raw_list'], method,\n",
    "                       subplot_row=2, subplot_rows=rows, ind=ind, labs=labs, use_orig_top=True, key_num  =key_num)"
   ]
  },
  {
   "cell_type": "code",
   "execution_count": null,
   "metadata": {},
   "outputs": [],
   "source": []
  }
 ],
 "metadata": {
  "kernelspec": {
   "display_name": "Python 3",
   "language": "python",
   "name": "python3"
  },
  "language_info": {
   "codemirror_mode": {
    "name": "ipython",
    "version": 3
   },
   "file_extension": ".py",
   "mimetype": "text/x-python",
   "name": "python",
   "nbconvert_exporter": "python",
   "pygments_lexer": "ipython3",
   "version": "3.7.2"
  }
 },
 "nbformat": 4,
 "nbformat_minor": 2
}
