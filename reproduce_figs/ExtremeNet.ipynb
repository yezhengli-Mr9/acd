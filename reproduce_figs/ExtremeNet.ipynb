{
 "cells": [
  {
   "cell_type": "code",
   "execution_count": null,
   "metadata": {},
   "outputs": [],
   "source": [
    "%load_ext autoreload\n",
    "%autoreload 2\n",
    "%matplotlib inline\n",
    "import numpy as np\n",
    "import sys\n",
    "import matplotlib.pyplot as plt\n",
    "import torch\n",
    "import cv2\n",
    "sys.path.append('..')\n",
    "sys.path.append('../visualization')\n",
    "sys.path.append('../acd/util')\n",
    "sys.path.append('../acd/scores')\n",
    "sys.path.append('../acd/agglomeration')\n",
    "\n",
    "import tiling_2d as tiling\n",
    "import agg_2d as agg\n",
    "import cd\n",
    "import score_funcs\n",
    "device = 'cuda' if torch.cuda.is_available() else 'cpu'\n",
    "print(\"device\", device)\n",
    "# get dataset\n",
    "import pickle as pkl\n",
    "from dsets.imagenet import dset\n",
    "#----\n",
    "# for idx, t in enumerate(imnet_dict[9]):\n",
    "#     print(\"idx\", idx, \"imnet_dict[9]\",type(t), t.shape ,t)\n",
    "#----\n",
    "# get model\n",
    "from torchvision import models\n",
    "model = models.vgg16(pretrained=True).to(device).eval()\n",
    "model_type='vgg' # alexnet, vgg"
   ]
  },
  {
   "cell_type": "code",
   "execution_count": null,
   "metadata": {},
   "outputs": [],
   "source": [
    "# hyperparameters\n",
    "num_iters = 5 # number of iterations to agglomerate before merging remaning blobs (fig uses 4)\n",
    "percentile_include = 95 # values above this percentile will be added at each iteration (fig uses 95)\n",
    "method = 'cd' # method to rank importance ('cd' works best, 'build_up' or 'occlusion' are simplest)\n",
    "sweep_dim = 14 # importances are calculated by blocks of sweep_dim x sweep_dim (14 yields good results for imagenet)\n",
    "for key_num in [-1]: \n",
    "    im_orig = cv2.imread('/Users/yezheng/github/ExtremeNet/16004479832_a748d55f21_k.jpg')\n",
    "    print(\"im_orig\", im_orig)\n",
    "    lab_pred = np.argmax(dset.pred_ims(model, np.copy(im_orig)))\n",
    "    print(\"key_num\",key_num,\"lab_pred\")\n",
    "    lists = agg.agglomerate(model, dset.pred_ims, percentile_include, method, sweep_dim, im_orig, \n",
    "                            lab_pred, num_iters=num_iters, im_torch=im_torch, model_type=model_type, device = device)        \n",
    "    print(\"key_num\",key_num,\"agg.agglomerate\")\n",
    "\n",
    "    # visualize\n",
    "    plt.figure(figsize=(12, 5), facecolor='white', dpi=100)\n",
    "    rows = 3      \n",
    "    num_ims = len(lists['scores_list'])\n",
    "    import viz_2d as viz\n",
    "#     # original plots\n",
    "#     ind, labs = viz.visualize_original_preds(im_orig, lab_num_correct, \n",
    "#                                              lists['comp_scores_raw_list'], lists['scores_orig_raw'],\n",
    "#                                              subplot_rows=rows, dset=dset, key_num  =key_num)\n",
    "\n",
    "    # comp plots\n",
    "    viz.visualize_ims_list(lists['comps_list'],\n",
    "                          title='Chosen blobs',\n",
    "                          subplot_row=1, subplot_rows=rows, colorbar=False, im_orig=im_orig, plot_overlay=True, key_num  =key_num)\n",
    "\n",
    "    # dict plots\n",
    "    viz.visualize_dict_list_top(lists['comp_scores_raw_list'], method,\n",
    "                           subplot_row=2, subplot_rows=rows, ind=ind, labs=labs, use_orig_top=True, key_num  =key_num)"
   ]
  }
 ],
 "metadata": {
  "kernelspec": {
   "display_name": "Python 3",
   "language": "python",
   "name": "python3"
  },
  "language_info": {
   "codemirror_mode": {
    "name": "ipython",
    "version": 3
   },
   "file_extension": ".py",
   "mimetype": "text/x-python",
   "name": "python",
   "nbconvert_exporter": "python",
   "pygments_lexer": "ipython3",
   "version": "3.7.2"
  }
 },
 "nbformat": 4,
 "nbformat_minor": 2
}
